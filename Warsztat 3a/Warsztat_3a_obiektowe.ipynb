{
 "cells": [
  {
   "cell_type": "markdown",
   "id": "cdda6d15-af95-4203-8cd1-4fa8581e219f",
   "metadata": {},
   "source": [
    "# Programowanie obiektowe\n",
    "## Klasa"
   ]
  },
  {
   "cell_type": "code",
   "execution_count": null,
   "id": "0e3f5a31-cfd1-485b-b2ff-eaa17700d988",
   "metadata": {},
   "outputs": [],
   "source": [
    "# Tworzymy klasę Client\n",
    "class Client:\n",
    " \n",
    "    # tworzymy atrybuty klasy\n",
    "    name = \"Adam\"\n",
    "    surname = \"Kowalski\"\n",
    "    age = 25\n",
    " \n",
    "    # tworzymy metody klasy\n",
    "    def open_account(self):\n",
    "        print (\"Otwieram rachunek\")\n",
    " \n",
    "    def cloese_account(self):\n",
    "        print (\"Zamykam rachunek\")"
   ]
  },
  {
   "cell_type": "markdown",
   "id": "5165a929-da10-4982-be30-5f8808e78681",
   "metadata": {},
   "source": [
    "## Klasa vs Instancja klasy"
   ]
  },
  {
   "cell_type": "markdown",
   "id": "b3908854-db4a-4ec6-965b-6673aef9f247",
   "metadata": {},
   "source": [
    "### client1 - instancja klasy\n",
    "### Client - klasa"
   ]
  },
  {
   "cell_type": "code",
   "execution_count": null,
   "id": "d3b3c34c-9bc5-470a-9401-8a639250245d",
   "metadata": {},
   "outputs": [],
   "source": [
    "client1 = Client()"
   ]
  },
  {
   "cell_type": "code",
   "execution_count": null,
   "id": "a395b0e2-7c64-4518-b4d3-e6c3c594a2f9",
   "metadata": {},
   "outputs": [],
   "source": [
    "type(client1)"
   ]
  },
  {
   "cell_type": "markdown",
   "id": "eeab8305-98d5-402f-ac0b-7ad29befd8b0",
   "metadata": {},
   "source": [
    "## Atrybuty "
   ]
  },
  {
   "cell_type": "markdown",
   "id": "730bde51-e074-456b-9369-59aba0c3ec62",
   "metadata": {},
   "source": [
    "### Wszystkie atrybuty i metody obiektu cleint1"
   ]
  },
  {
   "cell_type": "code",
   "execution_count": null,
   "id": "32cd1768-fdc2-43a4-84ab-1b564fa1cf99",
   "metadata": {},
   "outputs": [],
   "source": [
    "print(dir(client1))"
   ]
  },
  {
   "cell_type": "markdown",
   "id": "5c9ea95f-bfaf-4e53-a846-f07bee7dae9e",
   "metadata": {},
   "source": [
    "### Atrybuty klasy vs atrybytu obiektu"
   ]
  },
  {
   "cell_type": "code",
   "execution_count": null,
   "id": "6c7bad9e-d5a2-4993-8e33-ad66824fe48f",
   "metadata": {},
   "outputs": [],
   "source": [
    "class Client:\n",
    " \n",
    "    # tworzymy atrybut klasy\n",
    "    account_count = 0\n",
    " \n",
    "    # tworzymy metodę klasy i atrybuty instancji klasy wewnątrz metody\n",
    "    def open_account(self, name, surname, age):\n",
    "        print(\"Rachunek otwarty\")\n",
    "        self.name = name\n",
    "        self.surname = surname\n",
    "        self.age = age\n",
    "        Client.account_count += 1"
   ]
  },
  {
   "cell_type": "code",
   "execution_count": null,
   "id": "f114dd5a-755d-48a3-a19f-c2efdc14d30b",
   "metadata": {},
   "outputs": [],
   "source": [
    "client_a = Client()  \n",
    "client_a.open_account(\"Jan\", \"Nowak\", 35)  \n",
    "print(client_a.name)  \n",
    "print(client_a.account_count)"
   ]
  },
  {
   "cell_type": "code",
   "execution_count": null,
   "id": "903b910e-3fd6-4233-a96a-f33a74a853d4",
   "metadata": {},
   "outputs": [],
   "source": [
    "client_b = Client()  \n",
    "client_b.open_account(\"Agnieszka\", \"Nowak\", 34)  \n",
    "print(client_b.name)  \n",
    "print(client_b.account_count)"
   ]
  },
  {
   "cell_type": "markdown",
   "id": "9e3896fa-e0cf-4544-80e4-2241ad49203c",
   "metadata": {},
   "source": [
    "### Metody"
   ]
  },
  {
   "cell_type": "code",
   "execution_count": null,
   "id": "7395fe9b-92d6-44a7-8186-b4db8f7a0783",
   "metadata": {},
   "outputs": [],
   "source": [
    "class Customer:\n",
    "    def __init__(self, first, last, kwota):\n",
    "        self.first = first\n",
    "        self.last = last\n",
    "        self.fullname = first + ' ' + last\n",
    "        self.kwota = kwota\n",
    "        \n",
    "    def promotion(self):\n",
    "        self.bonus = self.kwota*0.1\n",
    "        return '{0}: {1}'.format(self.fullname, self.bonus)"
   ]
  },
  {
   "cell_type": "code",
   "execution_count": null,
   "id": "e055e18a-54da-4b1e-bd8c-453191b77943",
   "metadata": {},
   "outputs": [],
   "source": [
    "customer_1 = Customer('Karolina', 'Nowacka', 2000)\n",
    "print(customer_1.promotion())"
   ]
  },
  {
   "cell_type": "markdown",
   "id": "5739c44b-6f61-42a4-bad6-eb4a9cdd429f",
   "metadata": {},
   "source": [
    "### __init__"
   ]
  },
  {
   "cell_type": "code",
   "execution_count": null,
   "id": "4743a3bc-023c-423b-b304-88ae1873a4d8",
   "metadata": {},
   "outputs": [],
   "source": [
    "class ClassWithInitMethod:\n",
    "    def __init__(self,one,two):\n",
    "        self.fname = one\n",
    "        self.sname = two\n",
    "object_1 = ClassWithInitMethod(\"Michał\",\"Ok\")\n",
    "print(object_1.fname, object_1.sname)"
   ]
  },
  {
   "cell_type": "code",
   "execution_count": null,
   "id": "4490d9f9-df0f-40ec-9816-e711cdcf9fab",
   "metadata": {},
   "outputs": [],
   "source": [
    "class ClassWithoutInitMethod:\n",
    "    def names(self,one,two):\n",
    "        self.fname = one\n",
    "        self.sname = two\n",
    "object_2 = ClassWithoutInitMethod()\n",
    "# print(object_2.fname, object_2.sname) <- mentorze, odkomentuj, gdy przyjdzie pora i wytłumacz :-)\n",
    "object_2.names(\"Michał\",\"Ok\")\n",
    "print(object_2.fname, object_2.sname)"
   ]
  },
  {
   "cell_type": "markdown",
   "id": "6bd7c350-d57a-496d-b1a5-290aa1223803",
   "metadata": {},
   "source": [
    "## Modyfikacja dostępu"
   ]
  },
  {
   "cell_type": "code",
   "execution_count": null,
   "id": "f8c475ae-4b67-47af-b336-ade7c8310580",
   "metadata": {},
   "outputs": [],
   "source": [
    "class Customer:  \n",
    "    def __init__(self):\n",
    "        self.name = \"Adam\" # regular field\n",
    "        self.__nrrachunku = \"1234567890\" # \"mangled\" by python interpreter\n",
    "        self._saldo = 10000 # (not very) private (python way of private)\n",
    "        \n",
    "    def get_nrrachunku(self):\n",
    "        return self.__nrrachunku"
   ]
  },
  {
   "cell_type": "code",
   "execution_count": null,
   "id": "3fa1c65b-fca0-41aa-b578-7bf8d302dc0b",
   "metadata": {},
   "outputs": [],
   "source": [
    "cust = Customer()"
   ]
  },
  {
   "cell_type": "code",
   "execution_count": null,
   "id": "e9ee0f2e-d755-46b4-a95a-e881f8c527f8",
   "metadata": {},
   "outputs": [],
   "source": [
    "cust.name"
   ]
  },
  {
   "cell_type": "code",
   "execution_count": null,
   "id": "2bc13474-73b0-4041-8da9-1faea4066738",
   "metadata": {},
   "outputs": [],
   "source": [
    "cust._saldo = 9\n",
    "cust._saldo"
   ]
  },
  {
   "cell_type": "code",
   "execution_count": null,
   "id": "d0be6b82-6c7c-46ca-8279-ec1fb31e8e76",
   "metadata": {
    "scrolled": true
   },
   "outputs": [],
   "source": [
    "cust.__nrrachunku"
   ]
  },
  {
   "cell_type": "code",
   "execution_count": null,
   "id": "a038b870-00ae-4c0b-a3db-c82159a1e465",
   "metadata": {},
   "outputs": [],
   "source": [
    "cust.__dict__"
   ]
  },
  {
   "cell_type": "code",
   "execution_count": null,
   "id": "2756b793-6210-4c3c-8e38-ee9e5dae04fd",
   "metadata": {},
   "outputs": [],
   "source": [
    "cust.get_nrrachunku()"
   ]
  },
  {
   "cell_type": "markdown",
   "id": "121e3397-cb3c-436b-be54-160bd59979da",
   "metadata": {},
   "source": [
    "## Cechy specjalne: _str_ , _dict_, _repr_"
   ]
  },
  {
   "cell_type": "code",
   "execution_count": null,
   "id": "19e34090-5c0d-4ecd-b75f-3dbf3ef55517",
   "metadata": {},
   "outputs": [],
   "source": [
    "client_b.__dict__"
   ]
  },
  {
   "cell_type": "code",
   "execution_count": null,
   "id": "e4abba2c-2464-4d58-b98f-62ef50e0b3bf",
   "metadata": {},
   "outputs": [],
   "source": [
    "client_b"
   ]
  },
  {
   "cell_type": "code",
   "execution_count": null,
   "id": "755d4e96-cd4e-43ab-a79d-f81cedecf310",
   "metadata": {},
   "outputs": [],
   "source": [
    "class Client:\n",
    " \n",
    "    # tworzymy atrybut klasy\n",
    "    account_count = 0\n",
    "    \n",
    "    def __str__(self):\n",
    "        return \"Client class Object\"\n",
    "    \n",
    "    def __repr__(self):\n",
    "        return \"Client class repr method.\"\n",
    "    \n",
    " \n",
    "    # tworzymy metodę klasy i atrybuty instancji klasy wewnątrz metody\n",
    "    def open_account(self, name, surname, age):\n",
    "        print(\"Rachunek otwarty\")\n",
    "        self.name = name\n",
    "        self.surname = surname\n",
    "        self.age = age\n",
    "        Client.account_count += 1"
   ]
  },
  {
   "cell_type": "code",
   "execution_count": null,
   "id": "cbcc5e84-777e-43d3-9a95-baa97f32fb08",
   "metadata": {
    "scrolled": true
   },
   "outputs": [],
   "source": [
    "client_b = Client()   \n",
    "print(client_b)"
   ]
  },
  {
   "cell_type": "code",
   "execution_count": null,
   "id": "d4f988cc-0ec6-4ab5-a413-0aa9a5164ccc",
   "metadata": {},
   "outputs": [],
   "source": [
    "client_b"
   ]
  },
  {
   "cell_type": "markdown",
   "id": "419fde43-4367-4848-9f3a-1e0068562a24",
   "metadata": {},
   "source": [
    "## Dziedziczenie\n",
    "\n",
    "**schemat:**<br>\n",
    "`class Parent:\n",
    "    <instrukcje>`\n",
    "    \n",
    "    \n",
    "`class Child(Parent):\n",
    "    <instrukcje>`\n",
    "    \n",
    "Poniżej prosty przykład, w którym klasa bazową jest klasa User, klasą dziedziczącą Programmer. Klasa Programmer dziedziczy wszystkie metody po klasie User, a dodatkowo ma swoją własną metodę work()."
   ]
  },
  {
   "cell_type": "code",
   "execution_count": 1,
   "id": "e2ff9a38-c0a1-42ce-8f08-9ea86b439888",
   "metadata": {},
   "outputs": [],
   "source": [
    "class User:  \n",
    "    def __init__(self, fname, lname):\n",
    "        self.fname = fname\n",
    "        self.lname = lname\n",
    "\n",
    "    def mainInformation(self):\n",
    "        dict_ = {'first name': self.fname, 'last name': self.lname}\n",
    "        return dict_\n",
    "\n",
    "class Programmer(User):\n",
    "    def work(self):\n",
    "        print(\"Programming Python\")"
   ]
  },
  {
   "cell_type": "code",
   "execution_count": 2,
   "id": "9c77d3d8-e9d0-452d-9050-8b2fccd3f796",
   "metadata": {},
   "outputs": [
    {
     "name": "stdout",
     "output_type": "stream",
     "text": [
      "Programming Python\n"
     ]
    }
   ],
   "source": [
    "dev = Programmer('Łukasz', 'Kowalski')\n",
    "dev.mainInformation()\n",
    "dev.work()"
   ]
  },
  {
   "cell_type": "markdown",
   "id": "0d11fbeb-338f-4a15-a963-f99b1b3675ab",
   "metadata": {},
   "source": [
    "Za pomocą metody `isistance()` można sprawdzić, czy obiekt dev jest instancją klasy User"
   ]
  },
  {
   "cell_type": "code",
   "execution_count": 3,
   "id": "59903320-faee-4f46-8566-093409373dfa",
   "metadata": {},
   "outputs": [
    {
     "data": {
      "text/plain": [
       "True"
      ]
     },
     "execution_count": 3,
     "metadata": {},
     "output_type": "execute_result"
    }
   ],
   "source": [
    "# isinstance(dev, Programmer)\n",
    "isinstance(dev, User)"
   ]
  },
  {
   "cell_type": "code",
   "execution_count": 4,
   "id": "f2d80c99-b7c2-4cbb-929b-05dcf4ba2e5d",
   "metadata": {},
   "outputs": [
    {
     "data": {
      "text/plain": [
       "True"
      ]
     },
     "execution_count": 4,
     "metadata": {},
     "output_type": "execute_result"
    }
   ],
   "source": [
    "isinstance(dev, Programmer)"
   ]
  },
  {
   "cell_type": "markdown",
   "id": "a8c10941-c00d-4515-88e0-fa371db38b01",
   "metadata": {},
   "source": [
    "## Dodatkowe pole w klasie dziedziczące i metoda super()\n",
    "Chcielibyśmy, żeby klasa dziedzicząca przyjmowała dodatkowe pole *language*, którego nie ma w klasie User. Użyjemy metody `super()`, dzięki której będziemy mogli odwołać się do konstruktora klasy bazowej. <br>\n",
    "\n",
    "Za pomocą`super()` wywołujemy medotę z klasy nadrzędnej. W  klasie Programmer wykorzystamy `super()` również do zaktualizowania metody mainInformation(). Piertwotna metoda mainInformation() została przysłonięta przez metode o tej samej nazwie."
   ]
  },
  {
   "cell_type": "code",
   "execution_count": null,
   "id": "e6831461-ec6b-41f1-9ae6-55eba2e00a6f",
   "metadata": {},
   "outputs": [],
   "source": [
    "class User:  \n",
    "    def __init__(self, fname, lname):\n",
    "        self.fname = fname\n",
    "        self.lname = lname\n",
    "\n",
    "    def mainInformation(self):\n",
    "        dict_ = {'first name': self.fname, 'last name': self.lname}\n",
    "        return dict_\n",
    "\n",
    "class Programmer(User):\n",
    "    def __init__(self, fname, lname, languages):\n",
    "        super().__init__(fname, lname)\n",
    "        self.languages = languages\n",
    "        \n",
    "    def mainInformation(self):\n",
    "        dict_ = super().mainInformation()\n",
    "        dict_['languages'] = self.languages\n",
    "        return dict_\n",
    "        \n",
    "    \n",
    "    def work(self):\n",
    "        print(f\"Programming {self.language}\")"
   ]
  },
  {
   "cell_type": "code",
   "execution_count": 5,
   "id": "113c09c2-b6ba-4e70-bc88-3b33a6141203",
   "metadata": {},
   "outputs": [
    {
     "ename": "TypeError",
     "evalue": "User.__init__() takes 3 positional arguments but 4 were given",
     "output_type": "error",
     "traceback": [
      "\u001b[1;31m---------------------------------------------------------------------------\u001b[0m",
      "\u001b[1;31mTypeError\u001b[0m                                 Traceback (most recent call last)",
      "Cell \u001b[1;32mIn[5], line 1\u001b[0m\n\u001b[1;32m----> 1\u001b[0m front \u001b[39m=\u001b[39m Programmer(\u001b[39m'\u001b[39;49m\u001b[39mJoanna\u001b[39;49m\u001b[39m'\u001b[39;49m, \u001b[39m'\u001b[39;49m\u001b[39mKowalska\u001b[39;49m\u001b[39m'\u001b[39;49m, [\u001b[39m'\u001b[39;49m\u001b[39mPython\u001b[39;49m\u001b[39m'\u001b[39;49m,  \u001b[39m'\u001b[39;49m\u001b[39mJava\u001b[39;49m\u001b[39m'\u001b[39;49m])\n\u001b[0;32m      2\u001b[0m front\u001b[39m.\u001b[39mmainInformation()\n\u001b[0;32m      3\u001b[0m \u001b[39m# front.work()\u001b[39;00m\n",
      "\u001b[1;31mTypeError\u001b[0m: User.__init__() takes 3 positional arguments but 4 were given"
     ]
    }
   ],
   "source": [
    "front = Programmer('Joanna', 'Kowalska', ['Python',  'Java'])\n",
    "front.mainInformation()\n",
    "# front.work()"
   ]
  },
  {
   "cell_type": "markdown",
   "id": "b2717370-9d87-4f6c-8a9f-04d4e93abd16",
   "metadata": {},
   "source": [
    "### Dziedziczenie wielu klas\n",
    "\n",
    "**schemat1:**<br>\n",
    "`class Parent1:\n",
    "    <instrukcje>`\n",
    "    \n",
    "`class Parent2:\n",
    "    <instrukcje>` \n",
    "    \n",
    "`class Parentn:\n",
    "    <instrukcje>`  \n",
    "    \n",
    "`class Child(Parent1, Parent2, ..., Parentn):\n",
    "    <instrukcje>`\n",
    "\n",
    "Klasa Child z powyższego schamatu odziedziczyła wszystkie metody i pola po każdej klasie Parent\n"
   ]
  },
  {
   "cell_type": "markdown",
   "id": "89daf8b0-cdf1-4980-a25f-a6a7c3a67460",
   "metadata": {},
   "source": [
    "Rozbudujemy wcześniejszy przykład. Każdy z Programistów, może mieć swoje zainteresowania. Dodajmy dodatkową klasę bazową, po której również będą dziedziczyć Programiści"
   ]
  },
  {
   "cell_type": "code",
   "execution_count": null,
   "id": "284a0d47-74b0-4759-aee5-b548166d01e7",
   "metadata": {},
   "outputs": [],
   "source": [
    "class User:  \n",
    "    def __init__(self, fname, lname):\n",
    "        self.fname = fname\n",
    "        self.lname = lname\n",
    "\n",
    "    def mainInformation(self):\n",
    "        dict_ = {'first name': self.fname, 'last name': self.lname}\n",
    "        return dict_\n",
    "    \n",
    "class Hobby:  \n",
    "    def __init__(self, hobby, hours):\n",
    "        self.hobby = hobby\n",
    "        self.hours = hours\n",
    "\n",
    "    def kind_of_hobby(self):\n",
    "        dict_hobby = {'hobby': self.hobby, 'hours_spent' : self.hours}\n",
    "        return dict_hobby\n",
    "\n",
    "class Programmer(User, Hobby):\n",
    "    def __init__(self, fname, lname, hobby, hours, languages):\n",
    "        self.fname = fname\n",
    "        self.lname = lname\n",
    "        self.hobby = hobby\n",
    "        self. hours = hours\n",
    "        self.languages = languages\n",
    "        \n",
    "    def mainInformation(self):\n",
    "        dict_ = super().mainInformation()\n",
    "        dict_['languages'] = self.languages\n",
    "        dict_hobby = super().kind_of_hobby()\n",
    "        dict_.update(dict_hobby)\n",
    "        return dict_\n",
    "    \n",
    "    def work(self):\n",
    "        print(f\"Programming {self.languages}\")\n",
    "        "
   ]
  },
  {
   "cell_type": "code",
   "execution_count": null,
   "id": "2bed20f7-2afd-4661-81f0-8acad68ae904",
   "metadata": {},
   "outputs": [],
   "source": [
    "front = Programmer('Anna', 'Kowalska', 'Pacman', 10,  'JavaScript')\n",
    "front.mainInformation()\n"
   ]
  },
  {
   "cell_type": "code",
   "execution_count": null,
   "id": "fd09bae7-f55e-48ba-b0d9-dfd098e2311d",
   "metadata": {},
   "outputs": [],
   "source": [
    "print(isinstance(front, User))\n",
    "print(isinstance(front, Hobby))\n",
    "print(isinstance(front, Programmer))"
   ]
  },
  {
   "cell_type": "markdown",
   "id": "5774783d-accf-4617-9c88-bb035f447f92",
   "metadata": {},
   "source": [
    "## Wielokrotne (liniowe) dziedziczenie c.d.\n",
    "`\n",
    "class GrandParent:\n",
    "    <instrukcje>`\n",
    "\n",
    "`class Parent(GrandParent):\n",
    "    <instrukcje>`  \n",
    "    \n",
    "`class Child(Parent):\n",
    "    <instrukcje>`\n",
    "\n",
    "Klasa Child z powyższego schamatu odziedziczyła wszystkie metody i pola po klasie Parent oraz po klasie GrandParent.\n"
   ]
  },
  {
   "cell_type": "code",
   "execution_count": 6,
   "id": "29bc9f67-4f4d-4182-8006-36efe88b6c5e",
   "metadata": {},
   "outputs": [],
   "source": [
    "class Dziadek:\n",
    "    def __init__(self, imie, nazwisko):\n",
    "        self.imie = imie\n",
    "        self.nazwisko = nazwisko\n",
    "    \n",
    "    def przedstaw(self):\n",
    "        print(f'Nasze nazwisko to {self.nazwisko}')\n",
    "\n",
    "class Rodzic(Dziadek):\n",
    "    def co_robi(self):\n",
    "        print('Pracuje!!!')\n",
    "\n",
    "class Dziecko(Rodzic):\n",
    "    def popros_o_kieszonkowe(self):\n",
    "        print('Bardzo proszę o kieszonkowe')\n",
    "        \n",
    "    def co_robi(self):\n",
    "        print('Uczy się przecież')"
   ]
  },
  {
   "cell_type": "code",
   "execution_count": 7,
   "id": "83f8ec5b-fe63-4fc7-9408-b1765cc6f8fa",
   "metadata": {},
   "outputs": [
    {
     "name": "stdout",
     "output_type": "stream",
     "text": [
      "Nasze nazwisko to Kowalski\n",
      "Nasze nazwisko to Kowalski\n",
      "Nasze nazwisko to Kowalski\n"
     ]
    }
   ],
   "source": [
    "dziecko = Dziecko('Jaś', 'Kowalski')\n",
    "rodzic = Rodzic('Adam', 'Kowalski')\n",
    "dziadek = Dziadek('Zygryd', 'Kowalski')\n",
    "\n",
    "dziecko.przedstaw()\n",
    "rodzic.przedstaw()\n",
    "dziadek.przedstaw()"
   ]
  },
  {
   "cell_type": "code",
   "execution_count": 8,
   "id": "3d4fb15e-622a-4cf4-8577-76a82960c05a",
   "metadata": {},
   "outputs": [
    {
     "name": "stdout",
     "output_type": "stream",
     "text": [
      "Jaś\n",
      "Uczy się przecież\n",
      "Pracuje!!!\n"
     ]
    }
   ],
   "source": [
    "print(dziecko.imie)\n",
    "dziecko.co_robi()\n",
    "rodzic.co_robi()"
   ]
  },
  {
   "cell_type": "code",
   "execution_count": 9,
   "id": "bf847502-7284-4e47-82cc-16e76a511e52",
   "metadata": {
    "scrolled": true
   },
   "outputs": [
    {
     "name": "stdout",
     "output_type": "stream",
     "text": [
      "True\n",
      "True\n",
      "True\n"
     ]
    }
   ],
   "source": [
    "print(isinstance(dziecko, Dziadek))\n",
    "print(isinstance(dziecko, Rodzic))\n",
    "print(isinstance(rodzic, Dziadek))"
   ]
  },
  {
   "cell_type": "markdown",
   "id": "0ba3d01d-f829-4fca-b5a4-fae638b98ed4",
   "metadata": {},
   "source": [
    "### Zadanie (10 minut)\n",
    "Wykorzystując dziedziczenie po klasie bazowej Solid, stwórz klasy potomne reprezentujące poszczególne bryły: (prostopadłościan, kula, ostożek). W każdej z klas potomnych zaimplementuj metodę obliczającą objętość danej bryły.\n",
    "\n",
    "Wzory na objętość ... powinniście znać :-)\n",
    "\n",
    "\n",
    "A dla tych co nie pamiętają, oto wzory:\n",
    "- prostopadłościan (cuboid) `a * b * H`\n",
    "- kula (sphere) `4/3 [pi] r ** 3`\n",
    "- stożek (cone) `1/3 [pi] r**2 * H`"
   ]
  },
  {
   "cell_type": "code",
   "execution_count": null,
   "id": "53a5c10a-42da-491f-90cf-186600158bb5",
   "metadata": {},
   "outputs": [],
   "source": [
    "class Solid:\n",
    "    def __init__(self, name):\n",
    "        self.name = name\n",
    "    def volume\n",
    "        pass\n",
    "        \n",
    "    def __str__(self):\n",
    "        return f\"Specific geometric solid :{self.name}\""
   ]
  },
  {
   "cell_type": "markdown",
   "id": "d2e16f3e-7328-40c1-9505-1966a195060c",
   "metadata": {},
   "source": [
    "### Zadanie (15 minut)\n",
    "Studenci wybierają się na wycieczkę. Każdy ma okresloną ilość pieniędzy zapisaną jak w definicji klasy poniżej (ilość banknotów o nominale 5, 10 i 20). Twoim zadaniem jest napisanie funkcji most_money, która zwróci tablicę imion studentów z największą ilością pieniędzy."
   ]
  },
  {
   "cell_type": "code",
   "execution_count": null,
   "id": "4138da2f-6c97-4942-a2b0-1dc98d771a1d",
   "metadata": {},
   "outputs": [],
   "source": [
    "class Student:\n",
    "    def __init__(self, name, fives, tens, twenties):\n",
    "        self.name = name\n",
    "        self.fives = fives\n",
    "        self.tens = tens\n",
    "        self.twenties = twenties\n",
    "    def __repr__(self):\n",
    "        return f\"Student(\\\"{self.name}\\\", {self.fives}, {self.tens}, {self.twenties})\""
   ]
  },
  {
   "cell_type": "code",
   "execution_count": null,
   "id": "dd1d4420-2f12-4802-aa5c-48bb3700794f",
   "metadata": {},
   "outputs": [],
   "source": [
    "def most_money(student_list):\n",
    "    pass"
   ]
  },
  {
   "cell_type": "code",
   "execution_count": null,
   "id": "80958523-09eb-4e41-8513-122bc2cde90c",
   "metadata": {},
   "outputs": [],
   "source": [
    "import unittest\n",
    "\n",
    "phil = Student(\"Phil\", 2, 2, 1)\n",
    "cam = Student(\"Cameron\", 2, 2, 0)\n",
    "geoff = Student(\"Geoff\", 0, 3, 0)\n",
    "\n",
    "\n",
    "\n",
    "class UnitTest(unittest.TestCase):\n",
    "    def run(self):\n",
    "        self.assertEqual(most_money([cam, geoff, phil]), [\"Phil\"])\n",
    "        self.assertEqual(most_money([cam, geoff]), [\"Cameron\", \"Geoff\"])\n",
    "        self.assertEqual(most_money([geoff]), [\"Geoff\"])\n",
    "\n",
    "test = UnitTest()\n",
    "test.run()"
   ]
  },
  {
   "cell_type": "markdown",
   "id": "eb601eda-ed3c-4d98-9858-0b78133a0a43",
   "metadata": {},
   "source": [
    "## Metody i atrybuty statyczne\n",
    "Metoda statyczna, to taka metoda, która może być wywołana bez tworzenia instancji obiektu. Taka metoda nie ma oczywiście dostępu do pól instancji (bo instancja nie istnieje!).\n",
    "Atrybut statyczny, to atrybut przypisany do klasy a nie do instancji klasy.\n",
    "\n",
    "### Przykład użycia"
   ]
  },
  {
   "cell_type": "code",
   "execution_count": null,
   "id": "6243cdb1-6580-4704-a7c0-26e32e388b71",
   "metadata": {},
   "outputs": [],
   "source": [
    "class Account:\n",
    "    account_number_length = 10\n",
    "\n",
    "    def __init__(self, number, initial_balance):\n",
    "        self.number = number\n",
    "        self.balance = initial_balance\n",
    "    \n",
    "    def deposit(self, amount):\n",
    "        self.balance += amount\n",
    "        \n",
    "    @staticmethod\n",
    "    def print_info():\n",
    "        print(\"Account is an arrangement made with a bank whereby one may deposit and withdraw money\")\n",
    "\n",
    "# DEMO \n",
    "# - powołaj instancję obiektu Account.\n",
    "# - pokaż w jaki sposób można odwoływać się do atrybutów i metod instancji i statycznych\n",
    "# - pokaż w jaki sposób atrybuty statyczne są przysłaniane przez atrybuty instancji"
   ]
  },
  {
   "cell_type": "markdown",
   "id": "7e8a03fc-99bd-4f22-9def-58e489fb6084",
   "metadata": {},
   "source": [
    "### Zadanie (10 minut)\n",
    "Zaprojektuj klasę Square. Klasa powinna symbolizować kwadrat :-) \n",
    "- Metoda `__init__` powinna przyjmować długość boku\n",
    "- Po utworzeniu instancji obiektu powinna być możliwość zwrócenia jego pola powierzchni i obwodu (metody `field` i `perimeter`)\n",
    "- Stwórz statyczną metodę `info` która wypisze na ekran podstawowe info o kwadracie (ma 4 równe boki i wszystkie kąty proste)\n",
    "- Stwórz statyczny atrybut `sides` w którym przechowasz ilość boków"
   ]
  },
  {
   "cell_type": "markdown",
   "id": "03ca7e75-ff20-4719-9964-58d3ecbd2563",
   "metadata": {},
   "source": [
    "## Modyfikatory dostępu\n",
    "To konstrukcje służące do ograniczenia lub umożliwienia dostępu do pól obiektu. W javie mamy private, public, protected. \n",
    "\n",
    "Zanim pokażę jak to wygląda w pythonie zastanówmy się: Po co stosować takie konstrukcje? Jaki jest sens ograniczania dostępu do pól?"
   ]
  },
  {
   "cell_type": "markdown",
   "id": "e594af8a-22b4-4ab3-816d-2a84fe0aeb37",
   "metadata": {},
   "source": [
    "Wyobraźmy sobie klasę konwertującą temperaturę ze stopni C na stopnie F."
   ]
  },
  {
   "cell_type": "code",
   "execution_count": null,
   "id": "e6c2e205-491f-40bc-a9bd-c3681f70f428",
   "metadata": {},
   "outputs": [],
   "source": [
    "class Celsius:\n",
    "\n",
    "    def __init__(self, temperature):\n",
    "        self.temperature = temperature\n",
    "\n",
    "    def to_fahrenheit(self):\n",
    "        return (self.temperature * 1.8) + 32"
   ]
  },
  {
   "cell_type": "markdown",
   "id": "61d4e56b-7f94-44f2-b3ea-b7aa1e5ffdd9",
   "metadata": {},
   "source": [
    "Powyższy kod działa nieźle, ale nie mamy kontroli nad polem `temperature`. Przykładowo można tam zapisać wartość mniejszą niż zero absolutne. W jaki sposób można temu zaradzić?"
   ]
  },
  {
   "cell_type": "code",
   "execution_count": null,
   "id": "5f6c52f6-a52e-470f-8241-09ff4fe42ed3",
   "metadata": {},
   "outputs": [],
   "source": [
    "class Celsius:\n",
    "\n",
    "    def __init__(self, temperature):\n",
    "        self.temperature = temperature\n",
    "\n",
    "    def to_fahrenheit(self):\n",
    "        return (self.temperature * 1.8) + 32\n",
    "\n",
    "    @property\n",
    "    def temperature(self):\n",
    "        print(\"Getting value...\")\n",
    "        return self.__temperature\n",
    "\n",
    "    @temperature.setter\n",
    "    def temperature(self, value):\n",
    "        print(\"Setting value...\")\n",
    "        if value < -273.15:\n",
    "            raise ValueError(\"Temperature below -273 is not possible\")\n",
    "        self.__temperature = value"
   ]
  },
  {
   "cell_type": "code",
   "execution_count": null,
   "id": "87b26c82-1c38-4748-8fc7-a455bd91c599",
   "metadata": {},
   "outputs": [],
   "source": [
    "cel = Celsius(10)\n",
    "# cel.__temperature=9999\n",
    "print(cel.to_fahrenheit())\n",
    "# print(cel.__dict__)"
   ]
  },
  {
   "cell_type": "markdown",
   "id": "ffb0e36a-055f-4ab9-a355-1953baff7e3e",
   "metadata": {},
   "source": [
    "### Zadanie (10 minut)\n",
    "Stwórz klasę account przechowującą informacje o rachunku klienta. Klasa powinna mieć atrybuty `account_number`, `owner`, `balance` i metody `withdraw` i `deposit`.\n",
    "Zabezpiecz klasę za pomocą modyfikatorów dostępu w taki sposób, aby nie było możliwe wygenerowanie ujemnego salda."
   ]
  },
  {
   "cell_type": "code",
   "execution_count": null,
   "id": "4d0419e4-89bf-4e14-89b4-12a16b38023f",
   "metadata": {},
   "outputs": [],
   "source": [
    "class Account:\n",
    "    pass\n",
    "    # Tu rozwiązuj!"
   ]
  },
  {
   "cell_type": "markdown",
   "id": "9ab0d0e0-e55c-4c45-acad-63dc0a9f3814",
   "metadata": {},
   "source": [
    "### Zadanie (15 minut)\n",
    "Napisz funkcję, która przyjmuje stringa i zwraca dwuwymiarową tablicę znaków w sposób pokazany poniżej. Może warto wydzielić jakieś fragmenty kodu do osobnych funkcji w celu zwiększenia czytelności?\n",
    "\n",
    "```\n",
    "pprint(sep_str('have fun with coding'))\n",
    "\n",
    "[['h', 'f', 'w', 'c'],\n",
    " ['a', 'u', 'i', 'o'],\n",
    " ['v', 'n', 't', 'd'],\n",
    " ['e', '', 'h', 'i'],\n",
    " ['', '', '', 'n'],\n",
    " ['', '', '', 'g']]\n",
    "\n",
    "pprint(sep_str('abcd efgh ijkl mnop'))\n",
    "\n",
    "[['a', 'e', 'i', 'm'],\n",
    " ['b', 'f', 'j', 'n'],\n",
    " ['c', 'g', 'k', 'o'],\n",
    " ['d', 'h', 'l', 'p']]\n",
    "\n",
    "pprint(sep_str('python coding is fun'))\n",
    "\n",
    "[['p', 'c', 'i', 'f'],\n",
    " ['y', 'o', 's', 'u'],\n",
    " ['t', 'd', '', 'n'],\n",
    " ['h', 'i', '', ''],\n",
    " ['o', 'n', '', ''],\n",
    " ['n', 'g', '', '']]\n",
    " \n",
    "```"
   ]
  },
  {
   "cell_type": "code",
   "execution_count": null,
   "id": "cc73f045-669a-41fb-87d2-dba13404f670",
   "metadata": {},
   "outputs": [],
   "source": [
    "def sep_str(input_text):\n",
    "    pass"
   ]
  }
 ],
 "metadata": {
  "kernelspec": {
   "display_name": "Python 3 (ipykernel)",
   "language": "python",
   "name": "python3"
  },
  "language_info": {
   "codemirror_mode": {
    "name": "ipython",
    "version": 3
   },
   "file_extension": ".py",
   "mimetype": "text/x-python",
   "name": "python",
   "nbconvert_exporter": "python",
   "pygments_lexer": "ipython3",
   "version": "3.11.2"
  }
 },
 "nbformat": 4,
 "nbformat_minor": 5
}
