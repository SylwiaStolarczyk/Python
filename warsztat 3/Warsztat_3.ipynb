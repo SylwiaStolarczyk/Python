{
 "cells": [
  {
   "attachments": {},
   "cell_type": "markdown",
   "metadata": {},
   "source": [
    "# Funkcje\n",
    "Funkcja to wydzielony fragment kodu, który można wielokrotnie używać w różnych miejscach programu. Mogą być bardzo przydatne w momencie, gdy dany fragment kodu używamy w wielu miejscach. Są również niezbędne w budowaniu klas (o czym będzie w dalszej części warsztatów)\n"
   ]
  },
  {
   "cell_type": "code",
   "execution_count": 1,
   "metadata": {},
   "outputs": [],
   "source": [
    "def moja_funkcja():\n",
    "    return 'Hello!'"
   ]
  },
  {
   "cell_type": "code",
   "execution_count": 2,
   "metadata": {},
   "outputs": [],
   "source": [
    "x = moja_funkcja()\n",
    "print(x)"
   ]
  },
  {
   "attachments": {},
   "cell_type": "markdown",
   "metadata": {},
   "source": [
    "## Argumenty funkcji\n",
    "Funkcje mogą przyjmować argumenty dowolnego typu. Ważne, żeby w przypadku wywołania funkcji podać wszystkie potrzebne parametry - jeśli nie podamy otrzymamy wyjątek: TypeError."
   ]
  },
  {
   "cell_type": "code",
   "execution_count": 3,
   "metadata": {},
   "outputs": [],
   "source": [
    "def dzielenie(dzielna, dzielnik):\n",
    "    if(dzielnik == 0):\n",
    "        return 'Nie dzielimy przez zero!'\n",
    "    else:\n",
    "        return dzielna / dzielnik\n",
    "\n",
    "print(dzielenie(5, 0))\n",
    "print(dzielenie(10, 2))"
   ]
  },
  {
   "cell_type": "code",
   "execution_count": 4,
   "metadata": {},
   "outputs": [],
   "source": [
    "def funkcja_ze_wszystkim(int_, float_, str_, tuple_, list_, set_, dict_, bool_):\n",
    "    print(int_)\n",
    "    print(float_)\n",
    "    print(str_)\n",
    "    print(list_)\n",
    "    print(set_)\n",
    "    print(dict_)\n",
    "    print(bool_)\n",
    "\n",
    "funkcja_ze_wszystkim(1, 2.0, 'blabla', (1,2,3), [1,2], {1}, {1:True, 0:False}, True)"
   ]
  },
  {
   "cell_type": "code",
   "execution_count": 5,
   "metadata": {},
   "outputs": [
    {
     "ename": "TypeError",
     "evalue": "funkcja_ze_wszystkim() missing 8 required positional arguments: 'int_', 'float_', 'str_', 'tuple_', 'list_', 'set_', 'dict_', and 'bool_'",
     "output_type": "error",
     "traceback": [
      "\u001b[1;31m---------------------------------------------------------------------------\u001b[0m",
      "\u001b[1;31mTypeError\u001b[0m                                 Traceback (most recent call last)",
      "\u001b[1;32m<ipython-input-5-c1cbfb9efd7e>\u001b[0m in \u001b[0;36m<module>\u001b[1;34m\u001b[0m\n\u001b[1;32m----> 1\u001b[1;33m \u001b[0mfunkcja_ze_wszystkim\u001b[0m\u001b[1;33m(\u001b[0m\u001b[1;33m)\u001b[0m \u001b[1;31m# gdy nie podamy wymaganych argumentów funkcji\u001b[0m\u001b[1;33m\u001b[0m\u001b[1;33m\u001b[0m\u001b[0m\n\u001b[0m",
      "\u001b[1;31mTypeError\u001b[0m: funkcja_ze_wszystkim() missing 8 required positional arguments: 'int_', 'float_', 'str_', 'tuple_', 'list_', 'set_', 'dict_', and 'bool_'"
     ]
    }
   ],
   "source": [
    "funkcja_ze_wszystkim() # gdy nie podamy wymaganych argumentów funkcji"
   ]
  },
  {
   "attachments": {},
   "cell_type": "markdown",
   "metadata": {},
   "source": [
    "## Domyślny parametr\n",
    "Można również z góry określić paramatr jaki przyjmie funkcja. Wtedy w przypadku wywołania funkcji \n",
    "bez podania argumentu, zostanie ona wywołana z domyślnym parametrem."
   ]
  },
  {
   "cell_type": "code",
   "execution_count": 14,
   "metadata": {},
   "outputs": [
    {
     "name": "stdout",
     "output_type": "stream",
     "text": [
      "---*---\n",
      "--***--\n",
      "-*****-\n",
      "*******\n",
      "Merry Christmas. The height of the Christmas tree is 4\n",
      "\n",
      "\n",
      "\n",
      "-*-\n",
      "***\n",
      "Merry Christmas. The height of the Christmas tree is 2\n"
     ]
    }
   ],
   "source": [
    "def rysuj_choinke(wysokosc = 4): # w nawiasie określamy wartość domyślną\n",
    "    '''\n",
    "    To jest funkcja rysujaca choinkę o dowolnej wysokości.\n",
    "    W przypadku braku podania parametru narysuje choinkę o wysokości 4.\n",
    "    '''\n",
    "    for y in range(1,wysokosc+1):\n",
    "        for x in range(1,wysokosc*2):\n",
    "            if x in range(wysokosc-y+1,wysokosc+y):\n",
    "                print('*', end = '')\n",
    "            else:\n",
    "                print('-',end = '')\n",
    "        print()  \n",
    "        \n",
    "    return f'Merry Christmas. The height of the Christmas tree is {wysokosc}'\n",
    "\n",
    "print(rysuj_choinke()) # wersja z wartością domyślną\n",
    "print('\\n\\n')\n",
    "print(rysuj_choinke(2)) # wersja argumentem podanym przez użytkownika"
   ]
  },
  {
   "attachments": {},
   "cell_type": "markdown",
   "metadata": {},
   "source": [
    "## Dokumentrowanie"
   ]
  },
  {
   "cell_type": "code",
   "execution_count": 15,
   "metadata": {},
   "outputs": [
    {
     "name": "stdout",
     "output_type": "stream",
     "text": [
      "Help on function rysuj_choinke in module __main__:\n",
      "\n",
      "rysuj_choinke(wysokosc=4)\n",
      "    To jest funkcja rysujaca choinkę o dowolnej wysokości.\n",
      "    W przypadku braku podania parametru narysuje choinkę o wysokości 4.\n",
      "\n"
     ]
    }
   ],
   "source": [
    "help(rysuj_choinke)"
   ]
  },
  {
   "attachments": {},
   "cell_type": "markdown",
   "metadata": {},
   "source": [
    "## args, kwargs\n",
    "Bardzo ciekawą opcją jest podawanie jako parametrów `*args` oraz `**kwargs`.\n",
    "<br>\n",
    "`*args` - wykorzystujemy, gdy nie chcemy z góry ustalać liczby argumentów potrzebnych do wywołania funkcji\n",
    "<br>\n",
    "\n",
    "`**kwargs` - podobnie jak w przypadku args, wykorzystujemy, gdy z góry nie chcemy ustalić liczby potrzebnych argumentów."
   ]
  },
  {
   "cell_type": "code",
   "execution_count": 2,
   "metadata": {},
   "outputs": [
    {
     "name": "stdout",
     "output_type": "stream",
     "text": [
      "0. Yoda\n",
      "1. CodingAcademy\n",
      "2. 123\n",
      "3. False\n",
      "4. [1, 2, 3]\n"
     ]
    }
   ],
   "source": [
    "def napisz_wszystko(*args):\n",
    "    for iteracja, element in enumerate(args):\n",
    "         print(f'{iteracja}. {element}')\n",
    "\n",
    "napisz_wszystko('Yoda', 'CodingAcademy', 123, False, [1,2,3])"
   ]
  },
  {
   "cell_type": "code",
   "execution_count": 3,
   "metadata": {},
   "outputs": [
    {
     "name": "stdout",
     "output_type": "stream",
     "text": [
      "mistrz:Yoda\n",
      "kurs:CodingAcademy\n",
      "liczby:123\n",
      "lista:[1, 2, 3]\n"
     ]
    }
   ],
   "source": [
    "def napisz_wszystko(**kwargs):\n",
    "    for klucz, wartosc in kwargs.items():\n",
    "         print(f'{klucz}:{wartosc}')\n",
    "\n",
    "napisz_wszystko(mistrz = 'Yoda', kurs = 'CodingAcademy', liczby = 123, lista = [1,2,3])"
   ]
  },
  {
   "cell_type": "code",
   "execution_count": 4,
   "metadata": {},
   "outputs": [
    {
     "name": "stdout",
     "output_type": "stream",
     "text": [
      ".................................\n",
      "zmienna zdefiniowana poza funkcją: JavaScript\n",
      "{'args': (), 'kwargs': {'kw1': 'Python', 'kw2': 'Java'}, 'wew': 'Angular'}\n",
      ".................................\n",
      "zmienna zdefiniowana poza funkcją: JavaScript\n",
      "{'args': ('C++', 'C#'), 'kwargs': {'kw1': 'Python', 'kw2': 'Java'}, 'wew': 'Angular'}\n"
     ]
    }
   ],
   "source": [
    "zew = 'JavaScript'\n",
    "def napisz_wszystko(*args, **kwargs):\n",
    "\n",
    "    wew = 'Angular'\n",
    "    print(f'zmienna zdefiniowana poza funkcją: {zew}')\n",
    "    \n",
    "    print(locals()) \n",
    "\n",
    "print('.................................')\n",
    "napisz_wszystko(kw1 = 'Python', kw2 = 'Java')\n",
    "print('.................................')\n",
    "napisz_wszystko('C++', 'C#', kw1 = 'Python', kw2 = 'Java')"
   ]
  },
  {
   "attachments": {},
   "cell_type": "markdown",
   "metadata": {},
   "source": [
    "## Lambda:\n",
    "Jednolinijkowa wersja funkcji. Można z niej korzystać, gdy z danej funkcji będziemy korystać tylko raz. W innych językach często określane mianem funkcji anonimowych."
   ]
  },
  {
   "cell_type": "code",
   "execution_count": 5,
   "metadata": {},
   "outputs": [
    {
     "name": "stdout",
     "output_type": "stream",
     "text": [
      "314.0\n",
      "50\n"
     ]
    }
   ],
   "source": [
    "pole_kolo = lambda r: 3.14 * r**2\n",
    "pole_prostokat = lambda x,y: x*y\n",
    "\n",
    "print(pole_kolo(10))\n",
    "print(pole_prostokat(10,5))"
   ]
  },
  {
   "attachments": {},
   "cell_type": "markdown",
   "metadata": {},
   "source": [
    "Warto łączyć Lambdę z funkcjami `filter()` oraz `map()`\n",
    " * filter(*funkcja zwracająca True i False*, *lista albo krotka albo generator*)\n",
    " * map(*funkcja*, *lista, krotka albo generator*) "
   ]
  },
  {
   "cell_type": "code",
   "execution_count": 6,
   "metadata": {},
   "outputs": [
    {
     "data": {
      "text/plain": [
       "[0, 3, 6, 9, 12, 15, 18, 21, 24, 27, 30]"
      ]
     },
     "execution_count": 6,
     "metadata": {},
     "output_type": "execute_result"
    }
   ],
   "source": [
    "liczby_podzielne_przez_trzy = list(filter(lambda x: x%3 == 0, range(0,31)))\n",
    "liczby_podzielne_przez_trzy"
   ]
  },
  {
   "cell_type": "code",
   "execution_count": 7,
   "metadata": {},
   "outputs": [
    {
     "data": {
      "text/plain": [
       "['Nowak', 'Kowalski', 'Ingowska']"
      ]
     },
     "execution_count": 7,
     "metadata": {},
     "output_type": "execute_result"
    }
   ],
   "source": [
    "uczestnicy = ['Katarzyna Nowak', 'Adam Kowalski', 'Ilona Ingowska']\n",
    "nazwiska = list(map(lambda x: x.split()[1], uczestnicy))\n",
    "nazwiska"
   ]
  },
  {
   "attachments": {},
   "cell_type": "markdown",
   "metadata": {},
   "source": [
    "## Rekurencja:\n",
    "Rekurencja, zwana także rekursją (ang. recursion, z łac. recurrere, przybiec z powrotem) – odwoływanie się np. funkcji lub definicji do samej siebie. \n",
    "Poniżej przykład dla sumy n kolejnych liczb."
   ]
  },
  {
   "cell_type": "code",
   "execution_count": 8,
   "metadata": {},
   "outputs": [
    {
     "data": {
      "text/plain": [
       "15"
      ]
     },
     "execution_count": 8,
     "metadata": {},
     "output_type": "execute_result"
    }
   ],
   "source": [
    "# dodawanie n kolejnych liczb\n",
    "def dodawanie(liczba):\n",
    "    if liczba == 1:\n",
    "        return 1\n",
    "    else:\n",
    "        return liczba + dodawanie(liczba-1)\n",
    "\n",
    "dodawanie(5)"
   ]
  },
  {
   "attachments": {},
   "cell_type": "markdown",
   "metadata": {},
   "source": [
    "jak działa rekurencja?\n",
    "\n",
    "dodawanie(5) = 5 + dodawanie(4) <br>\n",
    "= 5 + 4 + dodawanie(3) <br>\n",
    "= 5 + 4 + 3 + dodawanie(2) <br>\n",
    "= 5 + 4 + 3 + 2 + dodawanie(1) <br>\n",
    "= 5 + 4 + 3 + 2 + 1\n"
   ]
  },
  {
   "attachments": {},
   "cell_type": "markdown",
   "metadata": {},
   "source": [
    "Zamiana liczby dziesiętnej na binarną zgodnie z poniższym algorytmem pokazanym dla liczby 20:\n",
    "\n",
    "| n / 2 | n % 2 |\n",
    "|-------|-------|\n",
    "| 20    | 0     |\n",
    "| 10    | 0     |\n",
    "| 5     | 1     |\n",
    "| 2     | 0     |\n",
    "| 1     | 1     |\n",
    "| 0     |       |"
   ]
  },
  {
   "cell_type": "code",
   "execution_count": 9,
   "metadata": {},
   "outputs": [],
   "source": [
    "def binarna(liczba):\n",
    "    if liczba<2:\n",
    "        return str(int(liczba)%2)\n",
    "    else:\n",
    "        return  binarna(liczba/2) + str(int(liczba)%2)"
   ]
  },
  {
   "cell_type": "code",
   "execution_count": 10,
   "metadata": {},
   "outputs": [
    {
     "data": {
      "text/plain": [
       "'10100'"
      ]
     },
     "execution_count": 10,
     "metadata": {},
     "output_type": "execute_result"
    }
   ],
   "source": [
    "binarna(20)"
   ]
  },
  {
   "attachments": {},
   "cell_type": "markdown",
   "metadata": {},
   "source": [
    "### Zadanie (10 minut)\n",
    "Klasyczne zadanie z pierwszego semestru podstaw programowania na politechnice: zaimplementuj w sposób rekurencyjny funkcję silnia. Przypominam:\n",
    "```\n",
    "silnia(0) = 1\n",
    "silnia(n) = silnia(n-1) * n\n",
    "```"
   ]
  },
  {
   "cell_type": "code",
   "execution_count": 11,
   "metadata": {},
   "outputs": [],
   "source": [
    "def factorial(number):\n",
    "    pass"
   ]
  },
  {
   "attachments": {},
   "cell_type": "markdown",
   "metadata": {},
   "source": [
    "### Zadanie (10 minut)\n",
    "Kolejny klasyk: ciąg Fibonacciego. Przypominam\n",
    "```\n",
    "F(0) = 0\n",
    "F(1) = 1\n",
    "F(n) = F(n-1) + F(n-2)\n",
    "\n",
    "Kilka pierwszych wyrazów ciągu: 0, 1, 1, 2, 3, 5, 8, 13, 21, 34, 55, 89, 144, 233, 377, 610, 987, 1597, 2584, 4181 ...\n",
    "```\n",
    "\n",
    "Napisz funkcję, która oblicza n-tą wartość ciągu Fibonacciego\n",
    "- klasycznie (proceduralnie)\n",
    "- rekurencyjnie"
   ]
  },
  {
   "cell_type": "code",
   "execution_count": 12,
   "metadata": {},
   "outputs": [],
   "source": [
    "def fib_procedural(number):\n",
    "    pass\n",
    "\n",
    "def fib_recurrence(number):\n",
    "    pass"
   ]
  }
 ],
 "metadata": {
  "kernelspec": {
   "display_name": "Python 3 (ipykernel)",
   "language": "python",
   "name": "python3"
  },
  "language_info": {
   "codemirror_mode": {
    "name": "ipython",
    "version": 3
   },
   "file_extension": ".py",
   "mimetype": "text/x-python",
   "name": "python",
   "nbconvert_exporter": "python",
   "pygments_lexer": "ipython3",
   "version": "3.11.2"
  }
 },
 "nbformat": 4,
 "nbformat_minor": 4
}
