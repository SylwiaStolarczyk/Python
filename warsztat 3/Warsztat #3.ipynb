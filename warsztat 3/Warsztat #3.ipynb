{
 "cells": [
  {
   "attachments": {},
   "cell_type": "markdown",
   "metadata": {},
   "source": [
    "# FUNKCJE - wprowadzenie:\n",
    "- definicja\n",
    "- elementy składni\n",
    "- wywołanie\n",
    "- dokumentacja funkcji (co powinna zawierać)\n",
    "- (*) testy jednostkowe"
   ]
  },
  {
   "attachments": {},
   "cell_type": "markdown",
   "metadata": {},
   "source": [
    "# Funkcje\n",
    "Funkcja to wydzielony fragment kodu, który można wielokrotnie używać w różnych miejscach programu. Mogą być bardzo przydatne w momencie, gdy dany fragment kodu używamy w wielu miejscach. Są również niezbędne w budowaniu klas (o czym będzie w dalszej części warsztatów)\n"
   ]
  },
  {
   "attachments": {},
   "cell_type": "markdown",
   "metadata": {},
   "source": [
    "##### definicja funkcji - składnia:\n",
    "- słowo kluczowe `def`\n",
    "- nazwa funkcji --> konwencja nazw jak dla nazw zmiennych\n",
    "- w nawiasach okrągłych listujemy argumenty funkcji (szczegółowo o tym aspekcie później)\n",
    "- dwukropek\n",
    "- ciało funkcji (kolejne instrukcje do wykonania)\n",
    "- na końcu: return .. --> co dana funkcja zwraca ?"
   ]
  },
  {
   "cell_type": "code",
   "execution_count": null,
   "metadata": {},
   "outputs": [],
   "source": [
    "def moja_funkcja():\n",
    "    return 'Hello!'"
   ]
  },
  {
   "attachments": {},
   "cell_type": "markdown",
   "metadata": {},
   "source": [
    "##### wywołanie funkcji w kodzie - składnia:\n",
    "- używamy nazwy funkcji (etykiety) nadanej przy jej definiowaniu albo przypisanej później\n",
    "- w nawiasach okrągłych podajemy wymagane argumenty\n",
    "- wynik funkcji możemy przekierować do zmiennej, do argumentu innej funkcji, wyświetlić na ekranie ..."
   ]
  },
  {
   "cell_type": "code",
   "execution_count": null,
   "metadata": {
    "scrolled": true
   },
   "outputs": [],
   "source": [
    "x = moja_funkcja()\n",
    "print(x)"
   ]
  },
  {
   "attachments": {},
   "cell_type": "markdown",
   "metadata": {},
   "source": [
    "#### Przykład - trywialny, ale bardziej \"mięsisty\":"
   ]
  },
  {
   "cell_type": "code",
   "execution_count": 1,
   "metadata": {},
   "outputs": [],
   "source": [
    "def kwadrat_liczby(a): # nagłówek: słowo kluczowe, nazwa, w nawiasie krągłym - jeden argument 'a'\n",
    "    \"\"\" Funkcja zwracająca kwadrat czyli drugą potęgę liczby podanej w argumencie;\n",
    "        Argumenty: jeden argument obligatoryjny bez wartości domyślnej, oczekiwana liczba całkowita albo zmiennoprzecinkowa\n",
    "        Zwaracana wartość: druga potęga argumentu\n",
    "    \"\"\"\n",
    "    output = a*a       # ciało funkcji: wykonywany kod, tutaj: jedna linijka\n",
    "    return output      # deklarację funkcji kończymy słowem kluczowym return, zwracamy zawartość zmiennej lokalnej 'output'    "
   ]
  },
  {
   "cell_type": "code",
   "execution_count": 2,
   "metadata": {},
   "outputs": [
    {
     "name": "stdout",
     "output_type": "stream",
     "text": [
      "9\n"
     ]
    }
   ],
   "source": [
    "print(kwadrat_liczby(3))  # wykonujemy i wyrzucamy wynik na ekran"
   ]
  },
  {
   "cell_type": "code",
   "execution_count": null,
   "metadata": {},
   "outputs": [],
   "source": [
    "kw = kwadrat_liczby(3)  # wykonujemy i przypisujemy wynik do zmiennej 'kw'\n",
    "kw"
   ]
  },
  {
   "cell_type": "code",
   "execution_count": null,
   "metadata": {},
   "outputs": [],
   "source": [
    "inna_etykietka_dla_funkcji = kwadrat_liczby  # nadajemy funkcji nową etykietkę, wołamy funkcję nową etykietką\n",
    "inna_etykietka_dla_funkcji(3)"
   ]
  },
  {
   "cell_type": "code",
   "execution_count": null,
   "metadata": {},
   "outputs": [],
   "source": [
    "# błąd w wykonaniu instrukcji funkcji \n",
    "kwadrat_liczby('y')"
   ]
  },
  {
   "cell_type": "code",
   "execution_count": null,
   "metadata": {},
   "outputs": [],
   "source": [
    "# dostępność zmiennej lokalnej:\n",
    "a = kwadrat_liczby(0)\n",
    "print(output)"
   ]
  },
  {
   "cell_type": "code",
   "execution_count": null,
   "metadata": {},
   "outputs": [],
   "source": [
    "# dokumentacja funkcji - cały opis poprzedzający funkcję\n",
    "help(kwadrat_liczby)"
   ]
  },
  {
   "cell_type": "code",
   "execution_count": null,
   "metadata": {},
   "outputs": [],
   "source": [
    "# typ przechowywany pod etykietą funkcji:\n",
    "type(kwadrat_liczby)"
   ]
  },
  {
   "cell_type": "code",
   "execution_count": null,
   "metadata": {},
   "outputs": [],
   "source": [
    "# częsty błąd (przynajmniej u mnie) - dict vs. funkcja \n",
    "# --> próba dobrania sie do wartości słownika podając klucz w nawiasach okrągłych\n",
    "\n",
    "slowik = {'góra': 'dziób', 'środek': 'śpiewajace ciało', 'dół': 'nóżki'}\n",
    "\n",
    "slowik('góra')"
   ]
  },
  {
   "attachments": {},
   "cell_type": "markdown",
   "metadata": {},
   "source": [
    "##### doctest - wygodny sposób na definiowanie testów jednostkowych dla prostych funkcji razem z docstringiem\n",
    "\n",
    "Szczegóły: https://docs.python.org/3/library/doctest.html\n",
    "\n",
    "Testy definiujemy w docstringu - jest to po prostu linia kodu wywołująca funkcję z konkretnymi argumentami oraz oczekiwana odpowiedź interpretatora\n"
   ]
  },
  {
   "cell_type": "code",
   "execution_count": null,
   "metadata": {},
   "outputs": [],
   "source": [
    "# doctesty w docstringu:\n",
    "\n",
    "import doctest # trzeba dociągnąć\n",
    "\n",
    "def kwadrat_liczby(a): # nagłówek: słowo kluczowe, nazwa, w nawiasie krągłym - jeden argument 'a'\n",
    "    \"\"\" Funkcja zwracająca kwadrat czyli drugą potęgę liczby podanej w argumencie;\n",
    "        Argumenty: jeden argument obligatoryjny bez wartości domyślnej, oczekiwana liczba całkowita albo zmiennoprzecinkowa\n",
    "        Zwaracana wartość: druga potęga argumentu\n",
    "        \n",
    "        >>> [kwadrat_liczby(n) for n in range(6)]\n",
    "        [0, 1, 4, 9, 16, 25]\n",
    "        \n",
    "        >>> kwadrat_liczby(1.1)\n",
    "        1.2100000000000002\n",
    "        \n",
    "        >>> kwadrat_liczby('xxx')\n",
    "        Traceback (most recent call last):\n",
    "        ...\n",
    "        TypeError: can't multiply sequence by non-int of type 'str'\n",
    "        \n",
    "    \"\"\"\n",
    "    output = a*a       # ciało funkcji: wykonywany kod, tutaj: jedna linijka\n",
    "    return output      # deklarację funkcji kończymy słowem kluczowym return, zwracamy zawartość zmiennej lokalnej 'output'\n",
    "\n",
    "doctest.testmod() # sposób wywołania testu"
   ]
  },
  {
   "cell_type": "code",
   "execution_count": null,
   "metadata": {},
   "outputs": [],
   "source": []
  },
  {
   "attachments": {},
   "cell_type": "markdown",
   "metadata": {},
   "source": [
    "## Argumenty funkcji\n",
    "Funkcje mogą przyjmować argumenty dowolnego typu. Ważne, żeby w przypadku wywołania funkcji podać wszystkie potrzebne parametry - jeśli nie podamy otrzymamy wyjątek: TypeError.\n",
    "\n",
    "- argumenty podane jako lista etykiet\n",
    "- argumenty podane jako słownik\n",
    "- wartości domyślne\n",
    "- dynamiczna lista / słownik argumentów"
   ]
  },
  {
   "attachments": {},
   "cell_type": "markdown",
   "metadata": {},
   "source": [
    "### a. Argumenty podane jawnie jako lista, etykiety argumentów podane w definicji "
   ]
  },
  {
   "cell_type": "code",
   "execution_count": null,
   "metadata": {},
   "outputs": [],
   "source": [
    "# dwa argumenty, pierwszy to dzielna, drugi to dzielnik\n",
    "def dzielenie(dzielna, dzielnik):\n",
    "    if(dzielnik == 0):\n",
    "        return 'Nie dzielimy przez zero!'\n",
    "    else:\n",
    "        return dzielna / dzielnik\n",
    "\n",
    "print(dzielenie(5, 0))\n",
    "print(dzielenie(10, 2))"
   ]
  },
  {
   "cell_type": "code",
   "execution_count": null,
   "metadata": {},
   "outputs": [],
   "source": [
    "# UWAGA - nie można ich podać do funkcji w postaci tupli: \n",
    "a = 5, 2\n",
    "dzielenie(a)"
   ]
  },
  {
   "cell_type": "code",
   "execution_count": null,
   "metadata": {},
   "outputs": [],
   "source": [
    "def funkcja_ze_wszystkim(int_, float_, str_, tuple_, list_, set_, dict_, bool_):\n",
    "    print(int_)\n",
    "    print(float_)\n",
    "    print(str_)\n",
    "    print(list_)\n",
    "    print(set_)\n",
    "    print(dict_)\n",
    "    print(bool_)\n",
    "\n",
    "funkcja_ze_wszystkim(1, 2.0, 'blabla', (1,2,3), [1,2], {1}, {1:True, 0:False}, True)"
   ]
  },
  {
   "cell_type": "code",
   "execution_count": null,
   "metadata": {},
   "outputs": [],
   "source": [
    "funkcja_ze_wszystkim() # gdy nie podamy wymaganych argumentów funkcji"
   ]
  },
  {
   "cell_type": "code",
   "execution_count": null,
   "metadata": {},
   "outputs": [],
   "source": [
    "funkcja_ze_wszystkim(1, 2.0, 'blabla', (1,2,3), [1,2]) # gdy podamy tylko część z nich"
   ]
  },
  {
   "cell_type": "code",
   "execution_count": null,
   "metadata": {},
   "outputs": [],
   "source": [
    "funkcja_ze_wszystkim(1, 2.0, 'blabla', (1,2,3), [1,2], {1}, {1:True, 0:False}, True, True, True) # gdy podamy za dużo"
   ]
  },
  {
   "attachments": {},
   "cell_type": "markdown",
   "metadata": {},
   "source": [
    "### b. Argumenty podane jawnie jako słownik, etykiety argumentów (klucze) podane w definicji "
   ]
  },
  {
   "cell_type": "code",
   "execution_count": null,
   "metadata": {},
   "outputs": [],
   "source": [
    "def dzielenie(dzielna, dzielnik):\n",
    "    if(dzielnik == 0):\n",
    "        return 'Nie dzielimy przez zero!'\n",
    "    else:\n",
    "        return dzielna / dzielnik"
   ]
  },
  {
   "cell_type": "code",
   "execution_count": null,
   "metadata": {},
   "outputs": [],
   "source": [
    "dzielenie(dzielna=5, dzielnik=2) # jeżeli argumentów jest dużo, można je wymienić z nazwy; poprawia to czytelność kodu"
   ]
  },
  {
   "cell_type": "code",
   "execution_count": null,
   "metadata": {},
   "outputs": [],
   "source": [
    "dzielenie(dzielnik=2, dzielna=5) # wtedy nie musimy pilnować kolejności podawania argumentów do funkcji :)"
   ]
  },
  {
   "cell_type": "code",
   "execution_count": null,
   "metadata": {},
   "outputs": [],
   "source": [
    "dzielenie (2, 5) # ale niestety to nie zadziała bez etykiet :D"
   ]
  },
  {
   "cell_type": "code",
   "execution_count": null,
   "metadata": {},
   "outputs": [],
   "source": [
    "dzielenie(5, dzielnik=2)  # opcja 'mieszana' też zadziała"
   ]
  },
  {
   "cell_type": "code",
   "execution_count": null,
   "metadata": {},
   "outputs": [],
   "source": [
    "dzielenie(5, dzielna=2)  # ... o ile nie pomieszamy argumentów"
   ]
  },
  {
   "cell_type": "code",
   "execution_count": null,
   "metadata": {},
   "outputs": [],
   "source": [
    "# i tutaj uwaga - ograniczenie składniowe, jeżeli w którymś momencie zaczynamy podawać argumenty z etykietą,\n",
    "# musimy się już tego konsekwentnie trzymać\n",
    "\n",
    "dzielenie(dzielna=5, 2) "
   ]
  },
  {
   "attachments": {},
   "cell_type": "markdown",
   "metadata": {},
   "source": [
    "#### Domyślny parametr\n",
    "Można również z góry określić paramatr jaki przyjmie funkcja. Wtedy w przypadku wywołania funkcji \n",
    "bez podania argumentu, zostanie ona wywołana z domyślnym parametrem."
   ]
  },
  {
   "cell_type": "code",
   "execution_count": null,
   "metadata": {},
   "outputs": [],
   "source": [
    "# wersja z psikusem ;)\n",
    "\n",
    "def dzielenie(dzielna, dzielnik = 0):\n",
    "    if(dzielnik == 0):\n",
    "        return 'Nie dzielimy przez zero!'\n",
    "    else:\n",
    "        return dzielna / dzielnik"
   ]
  },
  {
   "cell_type": "code",
   "execution_count": null,
   "metadata": {},
   "outputs": [],
   "source": [
    "dzielenie(5,2)"
   ]
  },
  {
   "cell_type": "code",
   "execution_count": null,
   "metadata": {},
   "outputs": [],
   "source": [
    "dzielenie(5)"
   ]
  },
  {
   "cell_type": "code",
   "execution_count": null,
   "metadata": {},
   "outputs": [],
   "source": [
    "def rysuj_choinke(wysokosc = 4): # w nawiasie określamy wartość domyślną\n",
    "    '''\n",
    "    To jest funkcja rysujaca choinkę o dowolnej wysokości.\n",
    "    W przypadku braku podania parametru narysuje choinkę o wysokości 4.\n",
    "    '''\n",
    "    for y in range(1,wysokosc+1):\n",
    "        for x in range(1,wysokosc*2):\n",
    "            if x in range(wysokosc-y+1,wysokosc+y):\n",
    "                print('*', end = '')\n",
    "            else:\n",
    "                print('-',end = '')\n",
    "        print()  \n",
    "        \n",
    "    return f'Merry Christmas. The height of the Christmas tree is {wysokosc}'\n",
    "\n",
    "print(rysuj_choinke()) # wersja z wartością domyślną\n",
    "print('\\n\\n')\n",
    "print(rysuj_choinke(2)) # wersja argumentem podanym przez użytkownika"
   ]
  },
  {
   "attachments": {},
   "cell_type": "markdown",
   "metadata": {},
   "source": [
    "## Dokumentowanie --> patrz wyżej"
   ]
  },
  {
   "cell_type": "code",
   "execution_count": null,
   "metadata": {},
   "outputs": [],
   "source": [
    "help(rysuj_choinke)"
   ]
  },
  {
   "attachments": {},
   "cell_type": "markdown",
   "metadata": {},
   "source": [
    "### c. Uogólnienie - dynamiczna lista argumentów (bez etykiet) "
   ]
  },
  {
   "attachments": {},
   "cell_type": "markdown",
   "metadata": {},
   "source": [
    "## args, kwargs\n",
    "Bardzo ciekawą opcją jest podawanie jako parametrów `*args` oraz `**kwargs`.\n",
    "<br>\n",
    "`*args` - lista argumentów, wykorzystujemy, gdy nie chcemy z góry ustalać liczby argumentów potrzebnych do wywołania funkcji\n",
    "<br>\n",
    "\n",
    "`**kwargs` - słownik, podobnie jak w przypadku args, wykorzystujemy, gdy z góry nie chcemy ustalić liczby potrzebnych argumentów."
   ]
  },
  {
   "cell_type": "code",
   "execution_count": null,
   "metadata": {},
   "outputs": [],
   "source": [
    "def napisz_wszystko(*args):\n",
    "    for iteracja, element in enumerate(args):\n",
    "         print(f'{iteracja}. {element}')"
   ]
  },
  {
   "cell_type": "code",
   "execution_count": null,
   "metadata": {},
   "outputs": [],
   "source": [
    "napisz_wszystko('Yoda', 'CodingAcademy', 123, False, [1,2,3])"
   ]
  },
  {
   "cell_type": "code",
   "execution_count": null,
   "metadata": {},
   "outputs": [],
   "source": [
    "napisz_wszystko(1, '+', 2, '=', 3)"
   ]
  },
  {
   "cell_type": "code",
   "execution_count": null,
   "metadata": {},
   "outputs": [],
   "source": [
    "argument = [1, '+', 2, '=', 3]\n",
    "napisz_wszystko(argument)  # argument odebrany wprost - pokaże jeden argument, czyli przekazaną listę"
   ]
  },
  {
   "cell_type": "code",
   "execution_count": null,
   "metadata": {},
   "outputs": [],
   "source": [
    "napisz_wszystko(*argument) # argument 'rozpakowany' - wykona funkcję na zawartości kolekcji (gwiazdka robi różnicę)"
   ]
  },
  {
   "cell_type": "code",
   "execution_count": null,
   "metadata": {},
   "outputs": [],
   "source": [
    "lista1 = [1, 2, 3]\n",
    "set2 = {4, 5, 6}\n",
    "dict3 = {7:'aaa', 8:'bbb', 9: 'ccc'}\n",
    "\n",
    "napisz_wszystko(lista1, set2, dict3) # argumenty - wprost, bez 'rozpakowania'"
   ]
  },
  {
   "cell_type": "code",
   "execution_count": null,
   "metadata": {},
   "outputs": [],
   "source": [
    "napisz_wszystko(*lista1, *set2, *dict3) # argumenty 'rozpakowane', popatrzcie co wyszło z dicta"
   ]
  },
  {
   "cell_type": "code",
   "execution_count": null,
   "metadata": {},
   "outputs": [],
   "source": [
    "napisz_wszystko(lista1, *set2, dict3)  # rozpakowaliśmy tylko set"
   ]
  },
  {
   "cell_type": "code",
   "execution_count": null,
   "metadata": {},
   "outputs": [],
   "source": [
    "def napisz_wszystko(**kwargs):\n",
    "    for klucz, wartosc in kwargs.items():\n",
    "         print(f'{klucz}:{wartosc}')"
   ]
  },
  {
   "cell_type": "code",
   "execution_count": null,
   "metadata": {},
   "outputs": [],
   "source": [
    "napisz_wszystko(mistrz = 'Yoda', kurs = 'CodingAcademy', liczby = 123, lista = [1,2,3])"
   ]
  },
  {
   "cell_type": "code",
   "execution_count": null,
   "metadata": {},
   "outputs": [],
   "source": [
    "dict1 = {'imie': 'Jacek', 'nazwisko': 'Placek', 'wiek': -1}\n",
    "napisz_wszystko(dict1)"
   ]
  },
  {
   "cell_type": "code",
   "execution_count": null,
   "metadata": {},
   "outputs": [],
   "source": [
    "napisz_wszystko(*dict1)"
   ]
  },
  {
   "cell_type": "code",
   "execution_count": null,
   "metadata": {},
   "outputs": [],
   "source": [
    "napisz_wszystko(**dict1)"
   ]
  },
  {
   "cell_type": "code",
   "execution_count": null,
   "metadata": {},
   "outputs": [],
   "source": [
    "dict2 = {'moja': 'Sama', 'ciocia': 'Rama', 'stara?': 1000}\n",
    "napisz_wszystko(**dict1, **dict2)"
   ]
  },
  {
   "cell_type": "code",
   "execution_count": null,
   "metadata": {},
   "outputs": [],
   "source": [
    "dict2 = {'imie': 'Sama', 'nazwisko': 'Rama', 'wiek': 1000}\n",
    "napisz_wszystko(**dict1, **dict2)"
   ]
  },
  {
   "cell_type": "code",
   "execution_count": null,
   "metadata": {},
   "outputs": [],
   "source": [
    "zew = 'JavaScript'\n",
    "def napisz_wszystko(*args, **kwargs):\n",
    "\n",
    "    wew = 'Angular'\n",
    "    print(f'zmienna zdefiniowana poza funkcją: {zew}')\n",
    "    \n",
    "    print(locals()) \n",
    "\n",
    "print('.................................')\n",
    "napisz_wszystko(kw1 = 'Python', kw2 = 'Java')\n",
    "print('.................................')\n",
    "napisz_wszystko('C++', 'C#', kw1 = 'Python', kw2 = 'Java')"
   ]
  },
  {
   "attachments": {},
   "cell_type": "markdown",
   "metadata": {},
   "source": [
    "## FUNKCJE anonimowe - wyrażenia Lambda:\n",
    "Jednolinijkowa wersja funkcji. Można z niej korzystać, gdy z danej funkcji będziemy korystać tylko raz. W innych językach często określane mianem funkcji anonimowych."
   ]
  },
  {
   "cell_type": "code",
   "execution_count": null,
   "metadata": {},
   "outputs": [],
   "source": [
    "pole_kolo = lambda r: 3.14 * r**2\n",
    "pole_prostokat = lambda x,y: x*y\n",
    "\n",
    "print(pole_kolo(10))\n",
    "print(pole_prostokat(10,5))"
   ]
  },
  {
   "attachments": {},
   "cell_type": "markdown",
   "metadata": {},
   "source": [
    "Warto łączyć Lambdę z funkcjami `filter()` oraz `map()`\n",
    " * filter(*funkcja zwracająca True i False*, *lista albo krotka albo generator*)\n",
    " * map(*funkcja*, *lista, krotka albo generator*) "
   ]
  },
  {
   "cell_type": "code",
   "execution_count": null,
   "metadata": {},
   "outputs": [],
   "source": [
    "liczby_podzielne_przez_trzy = list(filter(lambda x: x%3 == 0, range(0,31)))\n",
    "liczby_podzielne_przez_trzy"
   ]
  },
  {
   "cell_type": "code",
   "execution_count": null,
   "metadata": {},
   "outputs": [],
   "source": [
    "uczestnicy = ['Katarzyna Nowak', 'Adam Kowalski', 'Ilona Ingowska']\n",
    "nazwiska = list(map(lambda x: x.split()[1], uczestnicy))\n",
    "nazwiska"
   ]
  },
  {
   "attachments": {},
   "cell_type": "markdown",
   "metadata": {},
   "source": [
    "## ZWRACANE WARTOŚCI"
   ]
  },
  {
   "cell_type": "code",
   "execution_count": null,
   "metadata": {},
   "outputs": [],
   "source": [
    "def napisz_malpa():  # 'return' nie jest obligatoryjny\n",
    "    print('Małpa')\n",
    "\n",
    "napisz_malpa()   "
   ]
  },
  {
   "cell_type": "code",
   "execution_count": null,
   "metadata": {},
   "outputs": [],
   "source": [
    "def nie_wszystko_zawsze_jest_potrzebne(a, b, c):\n",
    "    return a, b, c, a+b, a+c, b+c, a*b, a*c, b*c"
   ]
  },
  {
   "cell_type": "code",
   "execution_count": null,
   "metadata": {},
   "outputs": [],
   "source": [
    "nie_wszystko_zawsze_jest_potrzebne (1, 2, 3)"
   ]
  },
  {
   "cell_type": "code",
   "execution_count": null,
   "metadata": {},
   "outputs": [],
   "source": [
    "a = nie_wszystko_zawsze_jest_potrzebne (1, 2, 3)\n",
    "type(a)"
   ]
  },
  {
   "cell_type": "code",
   "execution_count": null,
   "metadata": {},
   "outputs": [],
   "source": [
    "a[2], a[6]"
   ]
  },
  {
   "cell_type": "code",
   "execution_count": null,
   "metadata": {},
   "outputs": [],
   "source": [
    "_, _, _, _, _, a, _, _, _ = nie_wszystko_zawsze_jest_potrzebne (1, 2, 3)\n",
    "print(f\" a = {a}, _ = {_}\")"
   ]
  },
  {
   "attachments": {},
   "cell_type": "markdown",
   "metadata": {},
   "source": [
    "## ZASIĘG ARGUMENTÓW:"
   ]
  },
  {
   "cell_type": "code",
   "execution_count": null,
   "metadata": {},
   "outputs": [],
   "source": [
    "def suma(*args):\n",
    "    output = 0\n",
    "    for item in args:\n",
    "        output += item\n",
    "    return output"
   ]
  },
  {
   "cell_type": "code",
   "execution_count": null,
   "metadata": {},
   "outputs": [],
   "source": [
    "suma(1,2,3,4,5)"
   ]
  },
  {
   "cell_type": "code",
   "execution_count": null,
   "metadata": {},
   "outputs": [],
   "source": [
    "print(output)"
   ]
  },
  {
   "cell_type": "code",
   "execution_count": null,
   "metadata": {},
   "outputs": [],
   "source": [
    "output = 5\n",
    "\n",
    "def suma(*args):\n",
    "    output = 0\n",
    "    for item in args:\n",
    "        output += item\n",
    "    return output\n",
    "\n",
    "suma(1,2,3,4,5)\n",
    "\n",
    "print(output)"
   ]
  },
  {
   "cell_type": "code",
   "execution_count": null,
   "metadata": {},
   "outputs": [],
   "source": [
    "output = 5\n",
    "\n",
    "def suma(*args):\n",
    "    for item in args:\n",
    "        output += item\n",
    "    return output\n",
    "\n",
    "suma(1,2,3,4,5)\n",
    "\n",
    "print(output)"
   ]
  },
  {
   "cell_type": "code",
   "execution_count": null,
   "metadata": {},
   "outputs": [],
   "source": [
    "output = 5\n",
    "\n",
    "def suma(*args):\n",
    "    global output\n",
    "    for item in args:\n",
    "        output += item\n",
    "    return output\n",
    "\n",
    "suma(1,2,3,4,5)\n",
    "\n",
    "print(output)"
   ]
  },
  {
   "attachments": {},
   "cell_type": "markdown",
   "metadata": {},
   "source": [
    "### PRZYKŁADY Z ŻYCIA WZIĘTE:"
   ]
  },
  {
   "attachments": {},
   "cell_type": "markdown",
   "metadata": {},
   "source": [
    "#### a. przetwarzanie danych - mam z bazy danych datę podaną w formacie teskstowym 'DDMMYYYY', chcę ją przetworzyć na datę w formacie 'YYYY-DD'MM'"
   ]
  },
  {
   "cell_type": "code",
   "execution_count": null,
   "metadata": {},
   "outputs": [],
   "source": [
    "def date_transformer(ddmmyyyy):\n",
    "    output = ''\n",
    "    output += ddmmyyyy[4:]\n",
    "    output += '-'\n",
    "    output += ddmmyyyy[2:4]\n",
    "    output += '-'    \n",
    "    output += ddmmyyyy[0:2]\n",
    "    return output"
   ]
  },
  {
   "attachments": {},
   "cell_type": "markdown",
   "metadata": {},
   "source": [
    "#### b. użycie funkcji lambda w przetwarzaniu danych w dataframe (Adresy)"
   ]
  },
  {
   "attachments": {},
   "cell_type": "markdown",
   "metadata": {},
   "source": [
    "#### c. funkcja sterująca przepływem --> 'return' jest opcjonalny (Model)"
   ]
  },
  {
   "attachments": {},
   "cell_type": "markdown",
   "metadata": {},
   "source": [
    "## Rekurencja:\n",
    "Rekurencja, zwana także rekursją (ang. recursion, z łac. recurrere, przybiec z powrotem) – odwoływanie się np. funkcji lub definicji do samej siebie. \n",
    "Poniżej przykład dla sumy n kolejnych liczb."
   ]
  },
  {
   "cell_type": "code",
   "execution_count": null,
   "metadata": {},
   "outputs": [],
   "source": [
    "# dodawanie n kolejnych liczb\n",
    "def dodawanie(liczba):\n",
    "    if liczba == 1:\n",
    "        return 1\n",
    "    else:\n",
    "        return liczba + dodawanie(liczba-1)\n",
    "\n",
    "dodawanie(5)"
   ]
  },
  {
   "attachments": {},
   "cell_type": "markdown",
   "metadata": {},
   "source": [
    "jak działa rekurencja?\n",
    "\n",
    "dodawanie(5) = 5 + dodawanie(4) <br>\n",
    "= 5 + 4 + dodawanie(3) <br>\n",
    "= 5 + 4 + 3 + dodawanie(2) <br>\n",
    "= 5 + 4 + 3 + 2 + dodawanie(1) <br>\n",
    "= 5 + 4 + 3 + 2 + 1\n"
   ]
  },
  {
   "attachments": {},
   "cell_type": "markdown",
   "metadata": {},
   "source": [
    "Zamiana liczby dziesiętnej na binarną zgodnie z poniższym algorytmem pokazanym dla liczby 20:\n",
    "\n",
    "| n / 2 | n % 2 |\n",
    "|-------|-------|\n",
    "| 20    | 0     |\n",
    "| 10    | 0     |\n",
    "| 5     | 1     |\n",
    "| 2     | 0     |\n",
    "| 1     | 1     |\n",
    "| 0     |       |"
   ]
  },
  {
   "cell_type": "code",
   "execution_count": null,
   "metadata": {},
   "outputs": [],
   "source": [
    "def binarna(liczba):\n",
    "    if liczba<2:\n",
    "        return str(int(liczba)%2)\n",
    "    else:\n",
    "        return  binarna(liczba/2) + str(int(liczba)%2)"
   ]
  },
  {
   "cell_type": "code",
   "execution_count": null,
   "metadata": {},
   "outputs": [],
   "source": [
    "binarna(20)"
   ]
  },
  {
   "attachments": {},
   "cell_type": "markdown",
   "metadata": {},
   "source": [
    "### Zadanie (10 minut)\n",
    "Klasyczne zadanie z pierwszego semestru podstaw programowania na politechnice: zaimplementuj w sposób rekurencyjny funkcję silnia. Przypominam:\n",
    "```\n",
    "silnia(0) = 1\n",
    "silnia(n) = silnia(n-1) * n\n",
    "```"
   ]
  },
  {
   "cell_type": "code",
   "execution_count": null,
   "metadata": {},
   "outputs": [],
   "source": [
    "def factorial(number):\n",
    "    pass"
   ]
  },
  {
   "attachments": {},
   "cell_type": "markdown",
   "metadata": {},
   "source": [
    "### Zadanie (10 minut)\n",
    "Kolejny klasyk: ciąg Fibonacciego. Przypominam\n",
    "```\n",
    "F(0) = 0\n",
    "F(1) = 1\n",
    "F(n) = F(n-1) + F(n-2)\n",
    "\n",
    "Kilka pierwszych wyrazów ciągu: 0, 1, 1, 2, 3, 5, 8, 13, 21, 34, 55, 89, 144, 233, 377, 610, 987, 1597, 2584, 4181 ...\n",
    "```\n",
    "\n",
    "Napisz funkcję, która oblicza n-tą wartość ciągu Fibonacciego\n",
    "- klasycznie (proceduralnie)\n",
    "- rekurencyjnie"
   ]
  },
  {
   "cell_type": "code",
   "execution_count": null,
   "metadata": {},
   "outputs": [],
   "source": [
    "def fib_procedural(number):\n",
    "    pass\n",
    "\n",
    "def fib_recurrence(number):\n",
    "    pass"
   ]
  },
  {
   "attachments": {},
   "cell_type": "markdown",
   "metadata": {},
   "source": [
    "## WPROWADZENIE DO PROGRAMOWANIA OBIEKTOWEGO - KLASY JAKO ZBIORY FUNKCJI"
   ]
  },
  {
   "attachments": {},
   "cell_type": "markdown",
   "metadata": {},
   "source": [
    "Klasa opisuje pewien konkretny, zamodelowany byt, który z jakichś powodów potrzebujemy przetworzyć.\n",
    "\n",
    "Przykłady (mniej lub bardziej trywialne):\n",
    "- trójkąty na płaszczyźnie --> chcemy umieć policzyć obwód, pole, promień okręgu wpisanego, opisanego etc.\n",
    "- klienci banku --> chcemy umieć sporządzić zgodę na marketing elektroniczny, wysłać komunikację o ofercie kredytowej, przeprowadzić proces KYC\n",
    "- baza danych - chcemy mieć listę obiektów, przeprowadzać proces anonimizacji danych, zarządzać uprawnieniami użytkowników\n",
    "...\n",
    "\n",
    "WSZYSTKO można zamodelować klasami. Kwestia dobrej analizy i ustrukturyzowania."
   ]
  },
  {
   "attachments": {},
   "cell_type": "markdown",
   "metadata": {},
   "source": [
    "### PRZYKŁAD - gra w Wojnę\n",
    "\n",
    "Co potrzebujemy mieć, żeby zamodelować grę w wojnę:\n",
    "- talia kart,\n",
    "- gracze,\n",
    "- stolik\n",
    "- rozgrywka.\n",
    "\n",
    "Czy da się obiektowo ? Pewnie!"
   ]
  },
  {
   "attachments": {},
   "cell_type": "markdown",
   "metadata": {},
   "source": [
    "#### Klasa `talia` - modeluje nam klasyczną talię kart, którą można:\n",
    "- potasować,\n",
    "- rozdać pomiędzy graczy,\n",
    "- przypisać kartom wartość punktową (np. tak jak w brydżu albo w tysiącu)\n",
    "- wyświetlić.\n",
    "\n",
    "#### Klasa `karta` - modeluje nam pojedynczą kartę w talii kart, jej cechy to kolor i wartość\n",
    "\n",
    "# Jak ? \n",
    "##### Poniżej przykład klasy 'Karta' - dobry początek do zakodowania mechaniki gry w wojnę"
   ]
  },
  {
   "cell_type": "code",
   "execution_count": null,
   "metadata": {},
   "outputs": [],
   "source": [
    "class Karta:  # składnia: słowo kluczowe `class`, nazwa klasy - z dużej litery, dwukropek\n",
    "    \n",
    "    # parametr statyczny klasy - dostępny po zdefiniowaniu klasy, nawet przed powołaniem do istnienia jakiegokolwiek obiektu\n",
    "    # do tego tworu odwołujemy się przez etykietkę <nazwa klasy>.<nazwa parametru> --> tutaj: Karta.wartosc_figur\n",
    "    # Ten słownik wprowadza porządek w zbiorze figur poprzez nadanie im wartości liczbowych, które dają możliwość porównania kart\n",
    "    \n",
    "    wartosc_figur = {str(i): i for i in range(2, 11)} | {'J': 11, 'Q': 12, 'K': 13, 'A': 14}\n",
    "    \n",
    "    # funkcja inicjująca - pozwala tworzyć obiekty = twory o strukturze zdefiniowanej w klasie; \n",
    "    # na tych tworach możliwe jest wykonanie funkcji zdefiniowanych w klasie (metod)\n",
    "    # dane zgromadzone w obiekcie są przechowywane w atrybutach\n",
    "    # funkcję inicjującą wywołujemy <nazwa klasy>(argumenty bez pierwszego), tutaj np. Karta('Q', 'pik')\n",
    "    # 'self' jest odniesieniem do obiektu, który tworzy funkcja __init__\n",
    "    \n",
    "    def __init__(self, figura, kolor): \n",
    "        self.kolor = kolor  # pierwszy atrybut klasy --> tu będziemy przechowywać kolor karty\n",
    "        self.figura = figura # drugi atrybut klasy --> tutaj będziemy przechowywać figurę karty\n",
    "        self.wartosc = Karta.wartosc_figur[figura] # trzeci atrybut klasy --> tutaj przechowujemy wartość karty do celów porównania\n",
    "    \n",
    "    # metody klasy - od zwykłych funkcji różnią się tym, że pierwszym argumentem jest 'self' --> działają na obiekt klasy\n",
    "    def get_figura(self):\n",
    "        return self.figura  # zwraca figurę karty\n",
    "    \n",
    "    def get_wartosc(self):\n",
    "        return self.wartosc  # zwraca wartość karty\n",
    "    \n",
    "    def get_kolor(self):\n",
    "        return self.kolor  # zwraca kolor karty\n",
    "    \n",
    "    def __gt__(self, other):  # zwraca wynik porównania '>' wartości karty 'self' i karty 'other' (operator dwuargumentowy)\n",
    "        return self.wartosc > other.wartosc\n",
    "    \n",
    "    def __lt__(self, other):  # zwraca wynik porównania '<' wartości karty 'self' i karty 'other' (operator dwuargumentowy)\n",
    "        return self.wartosc < other.wartosc\n",
    "    \n",
    "    def __eq__(self, other):  # zwraca wynik porównania '==' wartości karty 'self' i karty 'other' (operator dwuargumentowy)\n",
    "        return self.wartosc == other.wartosc\n",
    "    \n",
    "    def __str__(self):\n",
    "        return self.figura + ' ' + self.kolor"
   ]
  },
  {
   "cell_type": "code",
   "execution_count": null,
   "metadata": {},
   "outputs": [],
   "source": [
    "Karta.wartosc_figur"
   ]
  },
  {
   "cell_type": "code",
   "execution_count": null,
   "metadata": {},
   "outputs": [],
   "source": [
    "# użycie - tworzymy obiekt klasy Karta - nadajemy mu etykietę k1\n",
    "k1 = Karta('Q', 'pik')"
   ]
  },
  {
   "cell_type": "code",
   "execution_count": null,
   "metadata": {},
   "outputs": [],
   "source": [
    "k1.get_figura() # na obiekcie możemy wykonać dowolną metodę zdefiniowaną w klasie. "
   ]
  },
  {
   "cell_type": "code",
   "execution_count": null,
   "metadata": {},
   "outputs": [],
   "source": [
    "k1.get_kolor()"
   ]
  },
  {
   "cell_type": "code",
   "execution_count": null,
   "metadata": {},
   "outputs": [],
   "source": [
    "k1.get_wartosc()"
   ]
  },
  {
   "cell_type": "code",
   "execution_count": null,
   "metadata": {},
   "outputs": [],
   "source": [
    "k1.figura # możliwy jest również bezpośredni dostęp do atrybutów obiektu"
   ]
  },
  {
   "cell_type": "code",
   "execution_count": null,
   "metadata": {},
   "outputs": [],
   "source": [
    "print(k1) # to zadziała, jeżeli zdefiniowaliśmy metodę __str__"
   ]
  },
  {
   "cell_type": "code",
   "execution_count": null,
   "metadata": {},
   "outputs": [],
   "source": [
    "str(k1) # to zadziała, jeżeli zdefiniowaliśmy metodę __str__"
   ]
  },
  {
   "cell_type": "code",
   "execution_count": null,
   "metadata": {},
   "outputs": [],
   "source": [
    "# bezpośrednie odwołanie do obiektu pokaże z jakiej klasy pochodzi oraz jego adres w pamięci; \n",
    "# jest to swoisty unikalny identyfikator obiektu umożliwiający jego odróżnienie od innych obiektów tego samego typu\n",
    "k1"
   ]
  },
  {
   "cell_type": "code",
   "execution_count": null,
   "metadata": {},
   "outputs": [],
   "source": [
    "# type(<obiekt>) zwróci nam nazwę klasy, z której obiekt pochodzi\n",
    "type(k1)"
   ]
  },
  {
   "cell_type": "code",
   "execution_count": null,
   "metadata": {},
   "outputs": [],
   "source": [
    "k2 = Karta('10', 'trefl')"
   ]
  },
  {
   "cell_type": "code",
   "execution_count": null,
   "metadata": {},
   "outputs": [],
   "source": [
    "k1 > k2 # operatory (jeżeli zostały zdefiniowane) wołamy w naturalny sposób"
   ]
  },
  {
   "cell_type": "code",
   "execution_count": null,
   "metadata": {},
   "outputs": [],
   "source": [
    "k1 < k2"
   ]
  },
  {
   "cell_type": "code",
   "execution_count": null,
   "metadata": {},
   "outputs": [],
   "source": [
    "k1 == k2"
   ]
  },
  {
   "cell_type": "code",
   "execution_count": null,
   "metadata": {},
   "outputs": [],
   "source": [
    "Karta # sama klasa zawołana zwróci nam etykietkę klasy"
   ]
  },
  {
   "cell_type": "code",
   "execution_count": null,
   "metadata": {},
   "outputs": [],
   "source": [
    "help(k1) # wykonanie funkcji 'help' na dowolnym obiekcie wywietli nam szczegółowa informację o klasie, z której obiekt pochodzi"
   ]
  },
  {
   "cell_type": "code",
   "execution_count": null,
   "metadata": {},
   "outputs": [],
   "source": [
    "aaa = [1, 2, 3, 4]\n",
    "help(aaa)"
   ]
  },
  {
   "cell_type": "code",
   "execution_count": null,
   "metadata": {},
   "outputs": [],
   "source": []
  }
 ],
 "metadata": {
  "kernelspec": {
   "display_name": "Python 3 (ipykernel)",
   "language": "python",
   "name": "python3"
  },
  "language_info": {
   "codemirror_mode": {
    "name": "ipython",
    "version": 3
   },
   "file_extension": ".py",
   "mimetype": "text/x-python",
   "name": "python",
   "nbconvert_exporter": "python",
   "pygments_lexer": "ipython3",
   "version": "3.11.2"
  }
 },
 "nbformat": 4,
 "nbformat_minor": 4
}
