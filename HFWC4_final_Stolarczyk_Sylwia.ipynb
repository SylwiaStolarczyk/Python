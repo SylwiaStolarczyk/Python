{
 "cells": [
  {
   "attachments": {},
   "cell_type": "markdown",
   "id": "aeecbe05-5b0f-4652-96b4-312297fadaef",
   "metadata": {},
   "source": [
    "# Have fun with codING#4 - zadanie 1 (50 pkt.)\n",
    "## Weryfikator haseł - obiektowo\n",
    "\n",
    "Zaprojektuj klasę, która będzie zajmowała się weryfikacją poziomu skomplikowania haseł. Tworząc instancję klasy dajemy 0, 1 lub wiele parametrów, które posłużą do sprawdzenia hasła. \n",
    "\n",
    "Możliwe parametry:\n",
    "- upper - minimalna ilość wielkich liter\n",
    "- lower - minimalna ilość małych liter\n",
    "- length - minimalna długość hasła\n",
    "- special - minimalna ilość znaków specjalnych\n",
    "- digit - minimalna ilość cyfr\n",
    "\n",
    "Gdy nie podamy żadnych warunków, należy tylko sprawdzić czy hasło nie jest puste.\n",
    "\n",
    "Poniżej przykłady użycia:  \n",
    "```python\n",
    "chk1 = PasswordChecker(upper=2, lower=3, length=10, special=4, digit=1)\n",
    "chk1.is_password_valid('aaaAA#$%^1')\n",
    "# should return True\n",
    "chk1.is_password_valid('aAAA#$%^1')\n",
    "# should return False\n",
    "\n",
    "chk2 = PasswordChecker(upper=2)\n",
    "chk2.is_password_valid('hdgsBsksK')\n",
    "# should return True\n",
    "chk2.is_password_valid('hdgsBsks1')\n",
    "# should return False\n",
    "                       \n",
    "chk3 = PasswordChecker()\n",
    "chk3.is_password_valid('a')\n",
    "# should return True\n",
    "chk3.is_password_valid('')\n",
    "# should return False\n",
    "```"
   ]
  },
  {
   "cell_type": "code",
   "execution_count": 27,
   "id": "3f952b6a-6bd9-4fba-8c4a-cdd6481717c0",
   "metadata": {},
   "outputs": [
    {
     "name": "stdout",
     "output_type": "stream",
     "text": [
      "True\n",
      "False\n",
      "True\n",
      "False\n",
      "True\n",
      "False\n"
     ]
    }
   ],
   "source": [
    "# Tu rozwiązuj\n",
    "class PasswordChecker:\n",
    "    def __init__(self, upper=0, lower=0, length=0, special=0, digit=0):\n",
    "        self.upper = upper\n",
    "        self.lower = lower\n",
    "        self.length = length\n",
    "        self.special = special\n",
    "        self.digit = digit\n",
    "    \n",
    "    def is_password_valid(self, password):\n",
    "        \n",
    "        if self.upper > 0 and sum(1 for char in password if char.isupper()) < self.upper:\n",
    "            return False\n",
    "        \n",
    "        if self.lower > 0 and sum(1 for char in password if char.islower()) < self.lower:\n",
    "            return False\n",
    "        \n",
    "        if self.length > 0 and len(password) < self.length:\n",
    "            return False\n",
    "        \n",
    "        if self.special > 0 and sum(1 for char in password if not char.isalnum()) < self.special:\n",
    "            return False\n",
    "        \n",
    "        if self.digit > 0 and sum(1 for char in password if char.isdigit()) < self.digit:\n",
    "            return False\n",
    "        if not password:\n",
    "            return False\n",
    "        return True\n",
    "\n",
    "chk1 = PasswordChecker(upper=2, lower=3, length=10, special=4, digit=1)\n",
    "print(chk1.is_password_valid('aaaAA#$%^1'))\n",
    "# should return True\n",
    "print(chk1.is_password_valid('aAAA#$%^1'))\n",
    "# should return False\n",
    "\n",
    "chk2 = PasswordChecker(upper=2)\n",
    "print(chk2.is_password_valid('hdgsBsksK'))\n",
    "# should return True\n",
    "print(chk2.is_password_valid('hdgsBsks1'))\n",
    "# should return False\n",
    "                       \n",
    "chk3 = PasswordChecker()\n",
    "print(chk3.is_password_valid('a'))\n",
    "# should return True\n",
    "print(chk3.is_password_valid(''))\n",
    "# should return False\n"
   ]
  },
  {
   "attachments": {},
   "cell_type": "markdown",
   "id": "5077b138-3c0c-4f07-b540-160de5df5d94",
   "metadata": {},
   "source": [
    "# Have fun with codING#4 - zadanie 2 (60 + 10 pkt.)\n",
    "## ToDoList - Lista rzeczy do zrobienia (60 pkt.)\n",
    "\n",
    "Zadanie polega na  napisaniu prostej aplikacji przechowującej listę rzeczy do zrobienia. \n",
    "\n",
    "Aplikacja ma umożliwiać:\n",
    "\n",
    "* dodawanie nowych zadań `metoda add_task`, \n",
    "* oznaczanie zadań jako wykonanych `metoda finish`\n",
    "* zwracanie na ekran listy zadań z ich statusem (wykonane / niewykonane) `metoda print_list`. Zadanie oznaczone jako wykonane otrzymuje znak `[x]`\n",
    "\n",
    "Aplikacja ma działać w taki sposób, aby wykonanie kodu:\n",
    "```python\n",
    "mylist = ToDoList('My sample ToDoList')\n",
    "for i in range(1, 11):\n",
    "    task = Task(f'Simple task #{i}')\n",
    "    if i % 2:\n",
    "        task.finish()\n",
    "    mylist.add_task(task)\n",
    "mylist.print_list()\n",
    "```\n",
    "\n",
    "zwróciło (wypisało na ekran) dokładnie to co poniżej:\n",
    "```\n",
    "My sample ToDoList\n",
    "###\n",
    "[x] Simple task #1\n",
    "[ ] Simple task #2\n",
    "[x] Simple task #3\n",
    "[ ] Simple task #4\n",
    "[x] Simple task #5\n",
    "[ ] Simple task #6\n",
    "[x] Simple task #7\n",
    "[ ] Simple task #8\n",
    "[x] Simple task #9\n",
    "[ ] Simple task #10\n",
    "```"
   ]
  },
  {
   "cell_type": "code",
   "execution_count": 3,
   "id": "9cddcd7a-5c94-4735-91b5-17212cdb7690",
   "metadata": {},
   "outputs": [
    {
     "name": "stdout",
     "output_type": "stream",
     "text": [
      "My sample ToDoList\n",
      "###\n",
      "[x] Simple task #1\n",
      "[ ] Simple task #2\n",
      "[x] Simple task #3\n",
      "[ ] Simple task #4\n",
      "[x] Simple task #5\n",
      "[ ] Simple task #6\n",
      "[x] Simple task #7\n",
      "[ ] Simple task #8\n",
      "[x] Simple task #9\n",
      "[ ] Simple task #10\n"
     ]
    }
   ],
   "source": [
    "# Tu rozwiązuj\n",
    "class Task:\n",
    "    def __init__(self, description):\n",
    "        self.description = description\n",
    "        self.is_finished = False\n",
    "\n",
    "    def finish(self):\n",
    "        self.is_finished = True\n",
    "\n",
    "    def __str__(self):\n",
    "        status = '[x]' if self.is_finished else '[ ]'\n",
    "        return f'{status} {self.description}'\n",
    "\n",
    "\n",
    "class ToDoList:\n",
    "    def __init__(self, name):\n",
    "        self.name = name\n",
    "        self.tasks = []\n",
    "\n",
    "    def add_task(self, task):\n",
    "        self.tasks.append(task)\n",
    "\n",
    "    def print_list(self):\n",
    "        print(self.name)\n",
    "        print('###')\n",
    "        for task in self.tasks:\n",
    "            print(task)\n",
    "\n",
    "\n",
    "mylist = ToDoList('My sample ToDoList')\n",
    "for i in range(1, 11):\n",
    "    task = Task(f'Simple task #{i}')\n",
    "    if i % 2:\n",
    "        task.finish()\n",
    "    mylist.add_task(task)\n",
    "mylist.print_list()\n"
   ]
  },
  {
   "attachments": {},
   "cell_type": "markdown",
   "id": "d77f2578-170d-4ec0-a7ef-f0105c20ad1a",
   "metadata": {},
   "source": [
    "### Sprawdź swoje rozwiązanie wykonując kod poniżej"
   ]
  },
  {
   "cell_type": "code",
   "execution_count": 4,
   "id": "5dd40985-3d9c-4d6a-a500-8fd5edc17eea",
   "metadata": {},
   "outputs": [
    {
     "name": "stdout",
     "output_type": "stream",
     "text": [
      "My sample ToDoList\n",
      "###\n",
      "[x] Simple task #1\n",
      "[ ] Simple task #2\n",
      "[x] Simple task #3\n",
      "[ ] Simple task #4\n",
      "[x] Simple task #5\n",
      "[ ] Simple task #6\n",
      "[x] Simple task #7\n",
      "[ ] Simple task #8\n",
      "[x] Simple task #9\n",
      "[ ] Simple task #10\n"
     ]
    }
   ],
   "source": [
    "# Weryfikacja poprawności rozwiązania\n",
    "mylist = ToDoList('My sample ToDoList')\n",
    "for i in range(1, 11):\n",
    "    task = Task(f'Simple task #{i}')\n",
    "    if i % 2:\n",
    "        task.finish()\n",
    "    mylist.add_task(task)\n",
    "mylist.print_list()"
   ]
  },
  {
   "attachments": {},
   "cell_type": "markdown",
   "id": "f3f5ac02-856b-4603-99f8-08f1d76d0088",
   "metadata": {},
   "source": [
    "# Wersja z gwiazdką (+10 pkt. prawie zupełnie gratis)\n",
    "Dodatkowe 10 pkt od Mistrza Yody dostanie ten, kto do każdego wykonanego zadania doda czas jego wykonania.\n",
    "\n",
    "* Czas wykonania zadania, to czas od umieszczenia zadania na liście do zaznaczenia go jako wykonane.\n",
    "* Czas podajemy w sekundach\n",
    "* Zadania, które nie zostały ukończone powinny mieć `---` w miejscu czasu (patrz przykład)\n",
    "\n",
    "Wykonanie kodu\n",
    "```python\n",
    "import time\n",
    "mylist = ToDoList('My sample ToDoList with time')\n",
    "tasks = []\n",
    "for i in range(1, 11):\n",
    "    task = Task(f'Simple timed task #{i}')\n",
    "    tasks.append(task)\n",
    "time.sleep(2)\n",
    "for task in tasks:\n",
    "    mylist.add_task(task)\n",
    "for idx, task in enumerate(tasks):\n",
    "    if idx % 2 == 0:\n",
    "        time.sleep(1)\n",
    "        task.finish()\n",
    "mylist.print_list()\n",
    "```\n",
    "\n",
    "Powinno zwrócić (wypisać na ekran) dokładnie to co poniżej:\n",
    "```\n",
    "My sample ToDoList with time\n",
    "###\n",
    "[x] Simple timed task #1 [1 s]\n",
    "[ ] Simple timed task #2 [--- s]\n",
    "[x] Simple timed task #3 [2 s]\n",
    "[ ] Simple timed task #4 [--- s]\n",
    "[x] Simple timed task #5 [3 s]\n",
    "[ ] Simple timed task #6 [--- s]\n",
    "[x] Simple timed task #7 [4 s]\n",
    "[ ] Simple timed task #8 [--- s]\n",
    "[x] Simple timed task #9 [5 s]\n",
    "[ ] Simple timed task #10 [--- s]\n",
    "```"
   ]
  },
  {
   "cell_type": "code",
   "execution_count": 5,
   "id": "55b2fcb8-f1fa-41bd-9503-5cab0e0b8749",
   "metadata": {},
   "outputs": [
    {
     "name": "stdout",
     "output_type": "stream",
     "text": [
      "My sample ToDoList with time\n",
      "###\n",
      "[x] Simple timed task #1 [1 s]\n",
      "[ ] Simple timed task #2 [--- s]\n",
      "[x] Simple timed task #3 [2 s]\n",
      "[ ] Simple timed task #4 [--- s]\n",
      "[x] Simple timed task #5 [3 s]\n",
      "[ ] Simple timed task #6 [--- s]\n",
      "[x] Simple timed task #7 [4 s]\n",
      "[ ] Simple timed task #8 [--- s]\n",
      "[x] Simple timed task #9 [5 s]\n",
      "[ ] Simple timed task #10 [--- s]\n"
     ]
    }
   ],
   "source": [
    "# Tu rozwiązuj (można skopiować kod z rozwiązania powyżej i wzbogacić go o wymagane funkcjonalności)\n",
    "class Task:\n",
    "    def __init__(self, description):\n",
    "        self.description = description\n",
    "        self.is_finished = False\n",
    "        self.start_time = None\n",
    "        self.end_time = None\n",
    "\n",
    "    def finish(self):\n",
    "        self.is_finished = True\n",
    "        self.end_time = time.time()\n",
    "\n",
    "    def set_start_time(self, start_time):\n",
    "        self.start_time = start_time\n",
    "\n",
    "    def get_execution_time(self):\n",
    "        if self.is_finished:\n",
    "            execution_time = self.end_time - self.start_time\n",
    "            return f'{int(execution_time)} s'\n",
    "        else:\n",
    "            return '--- s'\n",
    "\n",
    "    def __str__(self):\n",
    "        status = '[x]' if self.is_finished else '[ ]'\n",
    "        execution_time = self.get_execution_time()\n",
    "        return f'{status} {self.description} [{execution_time}]'\n",
    "\n",
    "\n",
    "class ToDoList:\n",
    "    def __init__(self, name):\n",
    "        self.name = name\n",
    "        self.tasks = []\n",
    "\n",
    "    def add_task(self, task):\n",
    "        current_time = time.time()\n",
    "        task.set_start_time(current_time)\n",
    "        self.tasks.append(task)\n",
    "\n",
    "    def print_list(self):\n",
    "        print(self.name)\n",
    "        print('###')\n",
    "        for task in self.tasks:\n",
    "            print(task)\n",
    "\n",
    "\n",
    "import time\n",
    "\n",
    "mylist = ToDoList('My sample ToDoList with time')\n",
    "tasks = []\n",
    "for i in range(1, 11):\n",
    "    task = Task(f'Simple timed task #{i}')\n",
    "    tasks.append(task)\n",
    "time.sleep(2)\n",
    "for task in tasks:\n",
    "    mylist.add_task(task)\n",
    "for idx, task in enumerate(tasks):\n",
    "    if idx % 2 == 0:\n",
    "        time.sleep(1)\n",
    "        task.finish()\n",
    "mylist.print_list()\n"
   ]
  },
  {
   "cell_type": "code",
   "execution_count": 6,
   "id": "351826f6-110a-4a86-b027-a487be4d9929",
   "metadata": {},
   "outputs": [
    {
     "name": "stdout",
     "output_type": "stream",
     "text": [
      "My sample ToDoList with time\n",
      "###\n",
      "[x] Simple timed task #1 [1 s]\n",
      "[ ] Simple timed task #2 [--- s]\n",
      "[x] Simple timed task #3 [2 s]\n",
      "[ ] Simple timed task #4 [--- s]\n",
      "[x] Simple timed task #5 [3 s]\n",
      "[ ] Simple timed task #6 [--- s]\n",
      "[x] Simple timed task #7 [4 s]\n",
      "[ ] Simple timed task #8 [--- s]\n",
      "[x] Simple timed task #9 [5 s]\n",
      "[ ] Simple timed task #10 [--- s]\n"
     ]
    }
   ],
   "source": [
    "# Weryfikacja poprawności rozwiązania\n",
    "mylist = ToDoList('My sample ToDoList with time')\n",
    "tasks = []\n",
    "for i in range(1, 11):\n",
    "    task = Task(f'Simple timed task #{i}')\n",
    "    tasks.append(task)\n",
    "time.sleep(2)\n",
    "for task in tasks:\n",
    "    mylist.add_task(task)\n",
    "for idx, task in enumerate(tasks):\n",
    "    if idx % 2 == 0:\n",
    "        time.sleep(1)\n",
    "        task.finish()\n",
    "mylist.print_list()"
   ]
  },
  {
   "attachments": {},
   "cell_type": "markdown",
   "id": "8c131f28-29a0-4b01-a8e9-44575cf89e47",
   "metadata": {},
   "source": [
    "# Have fun with codING#4 - zadanie 3 (80 pkt.)\n",
    "## Integrated Computerized Banking System v2.0 a.k.a. \"Oranżada\"\n",
    "\n",
    "Pewna instytucja finansowa postanowiła zlecić przepisanie swojego systemu transakcyjnego grupie wysoko wykwalifikowanych studentów.  \n",
    "\n",
    "Studenci (w zamian za obietnicę obfitego posiłku i możliwości zorganizowania w siedzibie firmy całonocnej imprezy zakrapianej oranżadą) postanowili sprostać zadaniu i natychmiast wzięli się do pracy.\n",
    "\n",
    "Okazało się, że taki system w banku jest bardzo prosty w implementacji i wymaga jedynie 33 linii kodu w pythonie.  \n",
    "\n",
    "Po godzinie kod było gotowy do podegrania na produkcję, co też uczyniono ..."
   ]
  },
  {
   "cell_type": "code",
   "execution_count": 7,
   "id": "5e14d7de-9efa-4f24-bd44-bcea4c35b4aa",
   "metadata": {},
   "outputs": [],
   "source": [
    "class Customer:\n",
    "    def __init__(self, name, surname):\n",
    "        self.name = name\n",
    "        self.surname = surname\n",
    "\n",
    "    def __str__(self):\n",
    "        return f'Customer {self.name} {self.surname}'\n",
    "\n",
    "\n",
    "class Account:\n",
    "    def __init__(self, amount, iban_number, owner):\n",
    "        self.amount = amount\n",
    "        self.iban_number = iban_number\n",
    "        self.owner = owner\n",
    "\n",
    "    def __str__(self):\n",
    "        return f'Account number {self.iban_number} owned by {self.owner}'\n",
    "\n",
    "    def cash_transaction(self, transaction_type, amount):\n",
    "        print(f'Amount before transaction is {self.amount}')\n",
    "        if transaction_type == 'WITHDRAW':\n",
    "            print(f'Withdrawing {amount} from account number {self.iban_number}')\n",
    "            self.amount -= amount\n",
    "        else:\n",
    "            print(f'Depositing {amount} to account number {self.iban_number}')\n",
    "            self.amount += amount\n",
    "        print(f'New amount is {self.amount}\\n')\n",
    "        \n",
    "    def print_transactions_list(self):\n",
    "        raise NotImplementedError\n",
    "        \n",
    "    def print_account_balance(self):\n",
    "        print(f'Account balance for account {self.iban_number} is {self.amount}\\n')"
   ]
  },
  {
   "attachments": {},
   "cell_type": "markdown",
   "id": "7bfabc06-5a82-42f1-a3d2-0295b04afb0c",
   "metadata": {},
   "source": [
    "### Jak widac poniżej, kod działa całkiem nieźle.\n",
    "Umożliwia tworzenie kont dla klientów i wpłacanie i wypłacanie gotówki (wpłatomaty / bankomaty). Zwraca też stan konta każdego klienta."
   ]
  },
  {
   "cell_type": "code",
   "execution_count": 8,
   "id": "138814c0-20b4-40bc-a666-9ce918e6df02",
   "metadata": {},
   "outputs": [
    {
     "name": "stdout",
     "output_type": "stream",
     "text": [
      "Amount before transaction is 100\n",
      "Depositing 300 to account number PL40109024025249592124718384\n",
      "New amount is 400\n",
      "\n",
      "Amount before transaction is 400\n",
      "Withdrawing 200 from account number PL40109024025249592124718384\n",
      "New amount is 200\n",
      "\n",
      "Amount before transaction is 200\n",
      "Depositing 150 to account number PL40109024025249592124718384\n",
      "New amount is 350\n",
      "\n",
      "Account balance for account PL40109024025249592124718384 is 350\n",
      "\n",
      "###########################################\n",
      "\n",
      "Amount before transaction is 500\n",
      "Depositing 300 to account number PL05109024021887523769458146\n",
      "New amount is 800\n",
      "\n",
      "Amount before transaction is 800\n",
      "Depositing 300 to account number PL05109024021887523769458146\n",
      "New amount is 1100\n",
      "\n",
      "Account balance for account PL05109024021887523769458146 is 1100\n",
      "\n"
     ]
    }
   ],
   "source": [
    "customer1 = Customer('Jan', 'Kowalski')\n",
    "account1 = Account(100, 'PL40109024025249592124718384', customer1)\n",
    "\n",
    "account1.cash_transaction('DEPOSIT', 300)\n",
    "account1.cash_transaction('WITHDRAW', 200)\n",
    "account1.cash_transaction('DEPOSIT', 150)\n",
    "account1.print_account_balance()\n",
    "\n",
    "print('###########################################\\n')\n",
    "\n",
    "customer2 = Customer('Adam', 'Nowak')\n",
    "account2 = Account(500, 'PL05109024021887523769458146', customer2)\n",
    "\n",
    "account2.cash_transaction('DEPOSIT', 300)\n",
    "account2.cash_transaction('DEPOSIT', 300)\n",
    "account2.print_account_balance()"
   ]
  },
  {
   "attachments": {},
   "cell_type": "markdown",
   "id": "81d5e035-c3e4-4e38-b8e6-31ce0b7ab406",
   "metadata": {},
   "source": [
    "### Niestety nie zawsze :-)\n",
    "Do wspomnianej wcześniej instytucji zaczęły spływać liczne zgłoszenia błędów zarówno od zdziwionych klientów jak i specjalistów od bezpieczeństwa."
   ]
  },
  {
   "attachments": {},
   "cell_type": "markdown",
   "id": "c47b9c36-670c-46ea-8370-9842370c2e63",
   "metadata": {},
   "source": [
    "#### Bug #1 (10 pkt.)\n",
    "W przypadku niektórych bankomatów wykryliśmy, że gdy klient wypłaca pieniądze, to na rachunku ... przybywa środków. Podejrzewamy, że coś jest nietak ze sposobem w jaki bankomat wywołuje metodę `cash_transaction`.  \n",
    "\n",
    "**Zabezpiecz metodę cash_transaction przed taką podatnością. W przypadku, gdy coś się nie zgadza powinna rzucić wyjątek i nie wykonywać takiej transakcji.**  \n",
    "\n",
    "hint #1: Poniżej przykład błędnego i poprawnego wywołania (nie wolno go ruszać).  \n",
    "hint #2: Podobno wspomniany poniżej błąd występuje w bankomatach, które wcześniej pracowały w Grecji."
   ]
  },
  {
   "cell_type": "code",
   "execution_count": 28,
   "id": "3377a813-b143-4ddb-9efb-a502d88fe701",
   "metadata": {
    "scrolled": true
   },
   "outputs": [
    {
     "name": "stdout",
     "output_type": "stream",
     "text": [
      "Amount before transaction is 1100\n",
      "Depositing 200 to account number PL05109024021887523769458146\n",
      "New amount is 1300\n",
      "\n",
      "Amount before transaction is 1300\n",
      "Withdrawing 200 from account number PL05109024021887523769458146\n",
      "New amount is 1100\n",
      "\n"
     ]
    }
   ],
   "source": [
    "# Popsuty bankomat wywołuje metodę w taki sposób:\n",
    "account2.cash_transaction('WITΗDRAW', 200)\n",
    "\n",
    "# Sprawny bankomat wywołuje metodę w taki sposób:\n",
    "account2.cash_transaction('WITHDRAW', 200)"
   ]
  },
  {
   "attachments": {},
   "cell_type": "markdown",
   "id": "92f6d892-aeef-43e4-a151-01f1b990c45b",
   "metadata": {},
   "source": [
    "#### Bug #2 (10 pkt.)\n",
    "Gdy wywoła się ww. metodę z wartością ujemną dzieją się dziwne rzeczy. Trzeba to jakoś naprawić. Nie powinno być możliwości wpłacania i wypłacania wartości ujemnych!  \n",
    "**Metoda powinna rzucić wyjątek i nie wykonać transakcji.**"
   ]
  },
  {
   "cell_type": "code",
   "execution_count": 10,
   "id": "c68faade-8825-4de9-a4e3-0bb0360fc6ee",
   "metadata": {
    "scrolled": true
   },
   "outputs": [
    {
     "name": "stdout",
     "output_type": "stream",
     "text": [
      "Account balance for account PL40109024025249592124718384 is 350\n",
      "\n",
      "Amount before transaction is 350\n",
      "Depositing -100 to account number PL40109024025249592124718384\n",
      "New amount is 250\n",
      "\n",
      "Account balance for account PL40109024025249592124718384 is 250\n",
      "\n"
     ]
    }
   ],
   "source": [
    "account1.print_account_balance()\n",
    "account1.cash_transaction('DEPOSIT', -100)\n",
    "account1.print_account_balance()"
   ]
  },
  {
   "attachments": {},
   "cell_type": "markdown",
   "id": "6bfdebe3-c153-480e-b27b-a79cd5491487",
   "metadata": {},
   "source": [
    "#### Bug #3 (10 pkt.)\n",
    "Zaimplementowany mechanizm zupełnie nie sprawdza czy klient ma wystarczającą ilość środków na koncie i pozwala na nieograniczone wypłaty.  \n",
    "**W przypadku braku środków na koncie aplikacja powinna rzucić wyjątek i zwrócić stosowny komunikat**"
   ]
  },
  {
   "cell_type": "code",
   "execution_count": 11,
   "id": "586d89b2-217e-4d33-9947-b3a0b35eb669",
   "metadata": {},
   "outputs": [
    {
     "name": "stdout",
     "output_type": "stream",
     "text": [
      "Account balance for account PL40109024025249592124718384 is 250\n",
      "\n",
      "Amount before transaction is 250\n",
      "Withdrawing 100000 from account number PL40109024025249592124718384\n",
      "New amount is -99750\n",
      "\n",
      "Account balance for account PL40109024025249592124718384 is -99750\n",
      "\n"
     ]
    }
   ],
   "source": [
    "account1.print_account_balance()\n",
    "account1.cash_transaction('WITHDRAW', 100000)\n",
    "account1.print_account_balance()"
   ]
  },
  {
   "attachments": {},
   "cell_type": "markdown",
   "id": "b5f1dc4b-566d-4cda-acf9-d43debe29afa",
   "metadata": {},
   "source": [
    "#### Rozwój #1 (15 pkt.)\n",
    "Aplikacja nie została dokończona: brakuje funkcjonalności zwracania listy transakcji dla konta. W chwili obecnej metoda rzuca wyjątek `NotImplementedError`.\n",
    "**Zaimplementuj wymaganą funkcjonalność.**"
   ]
  },
  {
   "cell_type": "code",
   "execution_count": 12,
   "id": "72066af1-ff41-4e82-9a25-63f536ddb0f8",
   "metadata": {
    "scrolled": true
   },
   "outputs": [
    {
     "ename": "NotImplementedError",
     "evalue": "",
     "output_type": "error",
     "traceback": [
      "\u001b[1;31m---------------------------------------------------------------------------\u001b[0m",
      "\u001b[1;31mNotImplementedError\u001b[0m                       Traceback (most recent call last)",
      "Cell \u001b[1;32mIn[12], line 1\u001b[0m\n\u001b[1;32m----> 1\u001b[0m account1\u001b[39m.\u001b[39;49mprint_transactions_list()\n",
      "Cell \u001b[1;32mIn[7], line 30\u001b[0m, in \u001b[0;36mAccount.print_transactions_list\u001b[1;34m(self)\u001b[0m\n\u001b[0;32m     29\u001b[0m \u001b[39mdef\u001b[39;00m \u001b[39mprint_transactions_list\u001b[39m(\u001b[39mself\u001b[39m):\n\u001b[1;32m---> 30\u001b[0m     \u001b[39mraise\u001b[39;00m \u001b[39mNotImplementedError\u001b[39;00m\n",
      "\u001b[1;31mNotImplementedError\u001b[0m: "
     ]
    }
   ],
   "source": [
    "account1.print_transactions_list()"
   ]
  },
  {
   "attachments": {},
   "cell_type": "markdown",
   "id": "6ebb8d2d-c5b9-4397-ac53-d089c2d52550",
   "metadata": {},
   "source": [
    "#### Rozwój #2 (35 pkt.)\n",
    "Biznes widział działający software i chce dodatkowych funkcjonalności (wspominali coś o drobnych, kosmetycznych zmianach, które na pewno nie zabiorą wiele czasu):\n",
    "- importu listy klientów z odpowiedniego słownika\n",
    "- importu listy kont z odpowiedniego słownika\n",
    "- wykonywania transakcji między kontami klientów\n",
    "- zwracania listy transakcji dla określonego konta\n",
    "- zwracania listy transakcji dla wszystkich kont\n",
    "\n",
    "(nie wskazano jaka dokładnie ma być struktura słowników, więc \"zróbcie tak, żeby było dobrze\")\n",
    "\n",
    "Chcemy, aby zarządzała tym wszystkim nowa klasa o nazwie `Bank`, której szkielet znajduje się poniżej.\n",
    "\n",
    "**Zaimplementuj brakujące funkcjonalności.**"
   ]
  },
  {
   "cell_type": "code",
   "execution_count": 13,
   "id": "513c5ac5-b6c6-4704-8b74-7ece0e33b0ed",
   "metadata": {},
   "outputs": [],
   "source": [
    "class Transaction:\n",
    "    def __init__(self, from_account, to_account, amount):\n",
    "        self.from_account = from_account\n",
    "        self.to_account = to_account\n",
    "        self.amount = amount\n",
    "\n",
    "\n",
    "class Bank:\n",
    "    def __init__(self):\n",
    "        pass\n",
    "    \n",
    "    def import_clients(self, clients_dict):\n",
    "        pass\n",
    "    \n",
    "    def import_accounts(self, accounts_dict):\n",
    "        pass\n",
    "\n",
    "    def money_transfer_transaction(self, amount, from_account, to_account):\n",
    "        pass\n",
    "    \n",
    "    def print_transaction_list_for_account(self, iban):\n",
    "        pass\n",
    "\n",
    "    def print_transaction_list_for_all_accounts(self):\n",
    "        pass"
   ]
  }
 ],
 "metadata": {
  "kernelspec": {
   "display_name": "Python 3 (ipykernel)",
   "language": "python",
   "name": "python3"
  },
  "language_info": {
   "codemirror_mode": {
    "name": "ipython",
    "version": 3
   },
   "file_extension": ".py",
   "mimetype": "text/x-python",
   "name": "python",
   "nbconvert_exporter": "python",
   "pygments_lexer": "ipython3",
   "version": "3.9.5"
  }
 },
 "nbformat": 4,
 "nbformat_minor": 5
}
