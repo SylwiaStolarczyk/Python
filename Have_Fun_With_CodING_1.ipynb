{
 "cells": [
  {
   "cell_type": "markdown",
   "metadata": {},
   "source": [
    "# Have Fun With CodING #1\n",
    "##### "
   ]
  },
  {
   "cell_type": "markdown",
   "metadata": {},
   "source": [
    "# 1. Typy znakowe i operacje na nich (10 pkt.)\n",
    "## Zadanie 1.1\n",
    "\n",
    "1. Policz długość poniższego stringa\n",
    "1. Wyświetl pierwsze 6 znaków oraz zakres znaków od indeksu 208 do 248 w jednym `print()`\n",
    "1. Zwróć co dziesiąty wyraz tekstu (wyraz to ciąg znaków oddzielony spacjami) zaczynając od indeksu 1\n",
    "1. Wyświetl tekst odwrotnie: zamiast 'abcd' -> 'dcba'\n",
    "1. Policz ile raz w tekście pojawia się słowo 'Python' (nie bierzemy pod uwagę słów takich jak CLPython, czy CPython)\n",
    "1. Wyświetl osobno akapit 1, 2 oraz 3\n",
    "1. Zamień litery zgodnie z poniższą zasadą:\n",
    "    * pierwszy akapit: wszystkie wyrazy zaczynające się z wielkiej litery (reszta małe)\n",
    "    * drugi akapit: wszystkie wyrazy zapisane małymi literami\n",
    "    * trzeci akapit: wszystkie wyrazy zapisane dużymi literami\n",
    "    * Połącz ze sobą wszystkie akapity w jeden string i przypisz do zmiennej: nowy_tekst\n",
    "1. Zamień wszystkie w tekście wszystie \"i\" na \"oraz\". Nie zamień przy okazji wyrazów zawierających i w środku np. programowania na programowanoraza :)  \n",
    "  "
   ]
  },
  {
   "cell_type": "code",
   "execution_count": 9,
   "metadata": {},
   "outputs": [],
   "source": [
    "tekst = '''Python – język programowania wysokiego poziomu ogólnego przeznaczenia,\n",
    "o rozbudowanym pakiecie bibliotek standardowych[5], którego ideą przewodnią jest czytelność \n",
    "i klarowność kodu źródłowego. Jego składnia cechuje się przejrzystością i zwięzłością. \n",
    "\n",
    "Python wspiera różne paradygmaty programowania: obiektowy, \n",
    "imperatywny oraz w mniejszym stopniu funkcyjny. \n",
    "Posiada w pełni dynamiczny system typów i automatyczne zarządzanie pamięcią, \n",
    "będąc w tym podobnym do języków Perl, Ruby, Scheme czy Tcl. \n",
    "Podobnie jak inne języki dynamiczne jest często używany jako język skryptowy. \n",
    "Interpretery Pythona są dostępne na wiele systemów operacyjnych. \n",
    "\n",
    "Python rozwijany jest jako projekt Open Source zarządzany przez Python Software Foundation, \n",
    "która jest organizacją non-profit. Standardową implementacją języka jest CPython (napisany w C), \n",
    "ale istnieją też inne, np. Jython (napisany w Javie), CLPython napisany w Common Lisp, \n",
    "IronPython (na platformę .NET) i PyPy (napisany w Pythonie, zob. bootstrap).'''"
   ]
  },
  {
   "cell_type": "code",
   "execution_count": 7,
   "metadata": {},
   "outputs": [
    {
     "name": "stdout",
     "output_type": "stream",
     "text": [
      "1002\n",
      "Python cechuje się przejrzystością i zwięzłością\n",
      "–\n",
      "bibliotek\n",
      "źródłowego.\n",
      "różne\n",
      "Posiada\n",
      "będąc\n",
      "Tcl.\n",
      "język\n",
      "Python\n",
      "Software\n",
      "CPython\n",
      "(napisany\n",
      "platformę\n",
      ".)partstoob .boz ,einohtyP w ynasipan( yPyP i )TEN. ęmroftalp an( nohtyPnorI\n",
      " ,psiL nommoC w ynasipan nohtyPLC ,)eivaJ w ynasipan( nohtyJ .pn ,enni żet ąjeintsi ela\n",
      " ,)C w ynasipan( nohtyPC tsej akyzęj ąjcatnemelpmi ąwodradnatS .tiforp-non ąjcazinagro tsej arótk\n",
      " ,noitadnuoF erawtfoS nohtyP zezrp ynazdązraz ecruoS nepO tkejorp okaj tsej ynajiwzor nohtyP\n",
      "\n",
      " .hcynjycarepo wómetsys eleiw an enpętsod ąs anohtyP yreterpretnI\n",
      " .ywotpyrks kyzęj okaj ynawyżu otsęzc tsej enzcimanyd ikyzęj enni kaj einbodoP\n",
      " .lcT yzc emehcS ,ybuR ,lreP wókyzęj od mynbodop myt w cądęb\n",
      " ,ąicęimap einazdązraz enzcytamotua i wópyt metsys ynzcimanyd inłep w adaisoP\n",
      " .ynjycknuf uinpots myzsjeinm w zaro ynwytarepmi\n",
      " ,ywotkeibo :ainawomargorp ytamgydarap enżór areipsw nohtyP\n",
      "\n",
      " .ąicśołzęiwz i ąicśotsyzrjezrp ęis ejuhcec aindałks ogeJ .ogewołdórź udok ćśonworalk i\n",
      " ćśonletyzc tsej ąindowezrp ąedi ogerótk ,]5[hcywodradnats ketoilbib eiceikap mynawodubzor o\n",
      ",ainezcanzezrp ogenlógo umoizop ogeikosyw ainawomargorp kyzęj – nohtyP\n",
      "9\n",
      "Akapit 1:\n",
      "Python – język programowania wysokiego poziomu ogólnego przeznaczenia,\n",
      "o rozbudowanym pakiecie bibliotek standardowych[5], którego ideą przewodnią jest czytelność \n",
      "i klarowność kodu źródłowego. Jego składnia cechuje się przejrzystością i zwięzłością. \n",
      "\n",
      "Akapit 2:\n",
      "Python wspiera różne paradygmaty programowania: obiektowy, \n",
      "imperatywny oraz w mniejszym stopniu funkcyjny. \n",
      "Posiada w pełni dynamiczny system typów i automatyczne zarządzanie pamięcią, \n",
      "będąc w tym podobnym do języków Perl, Ruby, Scheme czy Tcl. \n",
      "Podobnie jak inne języki dynamiczne jest często używany jako język skryptowy. \n",
      "Interpretery Pythona są dostępne na wiele systemów operacyjnych. \n",
      "\n",
      "Akapit 3:\n",
      "Python rozwijany jest jako projekt Open Source zarządzany przez Python Software Foundation, \n",
      "która jest organizacją non-profit. Standardową implementacją języka jest CPython (napisany w C), \n",
      "ale istnieją też inne, np. Jython (napisany w Javie), CLPython napisany w Common Lisp, \n",
      "IronPython (na platformę .NET) i PyPy (napisany w Pythonie, zob. bootstrap).\n",
      "\n",
      "\n",
      "Zmiana wielkości liter:  \n",
      " Python – Język Programowania Wysokiego Poziomu Ogólnego Przeznaczenia,\n",
      "O Rozbudowanym Pakiecie Bibliotek Standardowych[5], Którego Ideą Przewodnią Jest Czytelność \n",
      "I Klarowność Kodu Źródłowego. Jego Składnia Cechuje Się Przejrzystością I Zwięzłością. \n",
      "python wspiera różne paradygmaty programowania: obiektowy, \n",
      "imperatywny oraz w mniejszym stopniu funkcyjny. \n",
      "posiada w pełni dynamiczny system typów i automatyczne zarządzanie pamięcią, \n",
      "będąc w tym podobnym do języków perl, ruby, scheme czy tcl. \n",
      "podobnie jak inne języki dynamiczne jest często używany jako język skryptowy. \n",
      "interpretery pythona są dostępne na wiele systemów operacyjnych. \n",
      "PYTHON ROZWIJANY JEST JAKO PROJEKT OPEN SOURCE ZARZĄDZANY PRZEZ PYTHON SOFTWARE FOUNDATION, \n",
      "KTÓRA JEST ORGANIZACJĄ NON-PROFIT. STANDARDOWĄ IMPLEMENTACJĄ JĘZYKA JEST CPYTHON (NAPISANY W C), \n",
      "ALE ISTNIEJĄ TEŻ INNE, NP. JYTHON (NAPISANY W JAVIE), CLPYTHON NAPISANY W COMMON LISP, \n",
      "IRONPYTHON (NA PLATFORMĘ .NET) I PYPY (NAPISANY W PYTHONIE, ZOB. BOOTSTRAP).\n",
      "\n",
      "\n",
      "Zamiana 'i' na 'oraz': \n",
      " Python – Język Programowania Wysokiego Poziomu Ogólnego Przeznaczenia,\n",
      "O Rozbudowanym Pakiecie Bibliotek Standardowych[5], Którego Ideą Przewodnią Jest Czytelność \n",
      "oraz Klarowność Kodu Źródłowego. Jego Składnia Cechuje Się Przejrzystością oraz Zwięzłością. \n",
      "python wspiera różne paradygmaty programowania: obiektowy, \n",
      "imperatywny oraz w mniejszym stopniu funkcyjny. \n",
      "posiada w pełnoraz dynamiczny system typów oraz automatyczne zarządzanie pamięcią, \n",
      "będąc w tym podobnym do języków perl, ruby, scheme czy tcl. \n",
      "podobnie jak inne językoraz dynamiczne jest często używany jako język skryptowy. \n",
      "interpretery pythona są dostępne na wiele systemów operacyjnych. \n",
      "PYTHON ROZWIJANY JEST JAKO PROJEKT OPEN SOURCE ZARZĄDZANY PRZEZ PYTHON SOFTWARE FOUNDATION, \n",
      "KTÓRA JEST ORGANIZACJĄ NON-PROFIT. STANDARDOWĄ IMPLEMENTACJĄ JĘZYKA JEST CPYTHON (NAPISANY W C), \n",
      "ALE ISTNIEJĄ TEŻ INNE, NP. JYTHON (NAPISANY W JAVIE), CLPYTHON NAPISANY W COMMON LISP, \n",
      "IRONPYTHON (NA PLATFORMĘ .NET) oraz PYPY (NAPISANY W PYTHONIE, ZOB. BOOTSTRAP).\n"
     ]
    }
   ],
   "source": [
    "# TUTAJ ROZWIĄZUJ\n",
    "\n",
    "tekst = '''Python – język programowania wysokiego poziomu ogólnego przeznaczenia,\n",
    "o rozbudowanym pakiecie bibliotek standardowych[5], którego ideą przewodnią jest czytelność \n",
    "i klarowność kodu źródłowego. Jego składnia cechuje się przejrzystością i zwięzłością. \n",
    "\n",
    "Python wspiera różne paradygmaty programowania: obiektowy, \n",
    "imperatywny oraz w mniejszym stopniu funkcyjny. \n",
    "Posiada w pełni dynamiczny system typów i automatyczne zarządzanie pamięcią, \n",
    "będąc w tym podobnym do języków Perl, Ruby, Scheme czy Tcl. \n",
    "Podobnie jak inne języki dynamiczne jest często używany jako język skryptowy. \n",
    "Interpretery Pythona są dostępne na wiele systemów operacyjnych. \n",
    "\n",
    "Python rozwijany jest jako projekt Open Source zarządzany przez Python Software Foundation, \n",
    "która jest organizacją non-profit. Standardową implementacją języka jest CPython (napisany w C), \n",
    "ale istnieją też inne, np. Jython (napisany w Javie), CLPython napisany w Common Lisp, \n",
    "IronPython (na platformę .NET) i PyPy (napisany w Pythonie, zob. bootstrap).'''\n",
    "#1\n",
    "print(len(tekst)) # 1002\n",
    "#2\n",
    "print(tekst[0:6] + \" \" + tekst[208:249]) #Python cechuje się przejrzystością i zwięzłością\n",
    "#3\n",
    "words = tekst.split()\n",
    "for i in range(1, len(words), 10):\n",
    "    print(words[i])\n",
    "#4\n",
    "odwrotny_tekst = tekst [::-1]\n",
    "print(odwrotny_tekst)\n",
    "#5\n",
    "count = tekst.count(\"Python\")\n",
    "print(count) #9\n",
    "#6\n",
    "lines = tekst.split('\\n')\n",
    "\n",
    "print(\"Akapit 1:\")\n",
    "akapit1 = '\\n'.join(lines[:4])\n",
    "print(akapit1)\n",
    "print(\"Akapit 2:\")\n",
    "akapit2 = ('\\n'.join((lines[4:11])))\n",
    "print(akapit2)\n",
    "print(\"Akapit 3:\")\n",
    "akapit3 = ('\\n'.join(lines[11:]))\n",
    "print(akapit3)\n",
    "print(\"\\n\")\n",
    "#7\n",
    "akapit1 = akapit1.title()\n",
    "akapit2 = akapit2.lower()\n",
    "akapit3 = akapit3.upper()\n",
    "nowy_tekst = akapit1 + akapit2 + akapit3\n",
    "print(\"Zmiana wielkości liter: \", \"\\n\", nowy_tekst)\n",
    "#8\n",
    "print(\"\\n\")\n",
    "nowy_tekst = nowy_tekst.replace(\"i \", \"oraz \")\n",
    "nowy_tekst = nowy_tekst.replace(\"I \", \"oraz \")\n",
    "print(\"Zamiana 'i' na 'oraz':\", \"\\n\", nowy_tekst)\n"
   ]
  },
  {
   "cell_type": "markdown",
   "metadata": {},
   "source": [
    "# 2. Zagnieżdżenia (10 pkt.)\n",
    "## Zadanie 2.1\n",
    "1. Wypisz za pomocą print():'znajdź mnie' ze słowników: slownik_1, slownik_2\n",
    "1. Podaj indeks 'ok' w liście, odnosząc się do słowników"
   ]
  },
  {
   "cell_type": "code",
   "execution_count": null,
   "metadata": {},
   "outputs": [],
   "source": [
    "slownik_1 = {\n",
    "    'pierwsza struktura':{1:'znajdź mnie'},\n",
    "    'coś innego':[1,2,3,4,1233,32,1,2,13,44,6,2,3,45,7,5,3,4,'ok',4,24,0,6,42,4,6,4,2,9,7,5,5,42,5]\n",
    "}\n",
    "\n",
    "slownik_2 = {\n",
    "    1: {'element_1':[(1,2),(2,4),('znajdź mnie',2)], 'element_2':[(1,2),(2,4),(0,2)]},\n",
    "    2: {1:'coś', 2:'coś innego'},\n",
    "    3: {1.3:[24,46,'ok',4,3], 1.4:[0,2]}\n",
    "}"
   ]
  },
  {
   "cell_type": "code",
   "execution_count": 30,
   "metadata": {},
   "outputs": [
    {
     "name": "stdout",
     "output_type": "stream",
     "text": [
      "znajdź mnie\n",
      "znajdź mnie\n",
      "Indeks 'ok' w słowniku_1:  18\n",
      "Indeks 'ok' w słowniku_2:  2\n"
     ]
    }
   ],
   "source": [
    "# TUTAJ ROZWIĄZUJ\n",
    "slownik_1 = {\n",
    "    'pierwsza struktura':{1:'znajdź mnie'},\n",
    "    'coś innego':[1,2,3,4,1233,32,1,2,13,44,6,2,3,45,7,5,3,4,'ok',4,24,0,6,42,4,6,4,2,9,7,5,5,42,5]\n",
    "}\n",
    "\n",
    "slownik_2 = {\n",
    "    1: {'element_1':[(1,2),(2,4),('znajdź mnie',2)], 'element_2':[(1,2),(2,4),(0,2)]},\n",
    "    2: {1:'coś', 2:'coś innego'},\n",
    "    3: {1.3:[24,46,'ok',4,3], 1.4:[0,2]}\n",
    "}\n",
    "\n",
    "#1\n",
    "print(slownik_1['pierwsza struktura'][1])\n",
    "print(slownik_2[1]['element_1'][2][0])\n",
    "#2\n",
    "print(\"Indeks 'ok' w słowniku_1: \" , slownik_1['coś innego'].index('ok'))\n",
    "print(\"Indeks 'ok' w słowniku_2: \" , slownik_2[3][1.3].index('ok'))"
   ]
  },
  {
   "cell_type": "markdown",
   "metadata": {},
   "source": [
    "## Zadanie 2.2\n",
    "Mając zagnieżdżoną sekwencję ```list_``` rozszerz ją, dodając listę ```sub_list```, żeby w wyniku otrzymać ```expected_list```"
   ]
  },
  {
   "cell_type": "code",
   "execution_count": null,
   "metadata": {},
   "outputs": [],
   "source": [
    "# Lista na wejściu:\n",
    "list_ = [\"PEP8\", \"Zmienne\", [[\"Typ_int\", \"Typ_float\"], \"Typ_logiczny\"], \"String\",\n",
    "         [[\"Lista\"], \"Slowniki\"]]"
   ]
  },
  {
   "cell_type": "code",
   "execution_count": null,
   "metadata": {},
   "outputs": [],
   "source": [
    "# Lista która powinna być dodana do wejściowej listy:\n",
    "sub_list = [\"Krotka\", \"Set\"]"
   ]
  },
  {
   "cell_type": "code",
   "execution_count": null,
   "metadata": {},
   "outputs": [],
   "source": [
    "# Oczekiwany wynik:\n",
    "expected_list = [\"PEP8\", \"Zmienne\", [[\"Typ_int\", \"Typ_float\"], \"Typ_logiczny\"], \"String\",\n",
    "         [[\"Lista\", \"Krotka\", \"Set\"], \"Slowniki\"]]"
   ]
  },
  {
   "cell_type": "code",
   "execution_count": 34,
   "metadata": {},
   "outputs": [
    {
     "name": "stdout",
     "output_type": "stream",
     "text": [
      "['PEP8', 'Zmienne', [['Typ_int', 'Typ_float'], 'Typ_logiczny'], 'String', [['Lista', 'Krotka', 'Set'], 'Slowniki']]\n",
      "<class 'list'>\n"
     ]
    }
   ],
   "source": [
    "# TUTAJ ROZWIĄZUJ\n",
    "list_ = [\"PEP8\", \"Zmienne\", [[\"Typ_int\", \"Typ_float\"], \"Typ_logiczny\"], \"String\",\n",
    "         [[\"Lista\"], \"Slowniki\"]]\n",
    "sub_list = [\"Krotka\", \"Set\"]\n",
    "list_[4][0].extend(sub_list)\n",
    "expected_list = list_\n",
    "my_list = list_\n",
    "print(my_list)\n",
    "print(type(my_list))"
   ]
  },
  {
   "cell_type": "code",
   "execution_count": 38,
   "metadata": {},
   "outputs": [
    {
     "data": {
      "text/plain": [
       "True"
      ]
     },
     "execution_count": 38,
     "metadata": {},
     "output_type": "execute_result"
    }
   ],
   "source": [
    "# Sprawdź czy my_list jest taka sama jak expected_list\n",
    "my_list == expected_list #True\n"
   ]
  },
  {
   "cell_type": "markdown",
   "metadata": {},
   "source": [
    "# 3. Relacje między słownikami (10 pkt.) [z gwiazdką]\n",
    "\n",
    "W Akademii wyniki egzaminów końcowych przechowujemy w specjalnej strukturze składającej się z dwóch słowników (poniżej fragmenty):\n",
    "- słownik studenci ma postać (klucz to numer pesel):\n",
    "```python\n",
    "{99887766543:\n",
    "    {\"imie\":\"Jan\",\n",
    "    \"nazwisko\":\"Nowak\"},\n",
    "12345678901:\n",
    "    {\"imie\":\"Anna\",\n",
    "    \"nazwisko\":\"Kowalska\"}}\n",
    "```\n",
    "  \n",
    "- słownik wyniki ma postać (klucz to nazwa grupy, a wewnątrz klucz to pesel (w którym Zły Imperator trochę pogrzebał), a wartość to ilość zdobytych punktów)\n",
    "```python\n",
    "{\"grupa_a\":\n",
    "    {\"9L9O8R8D7_7V6A6D5E4R3\":25,\n",
    "    \"0L0O0R0D0_0V0A0D0E0R0\":32},\n",
    "\"grupa_b\":\n",
    "    {\"1L3O5R7D9_7V5A3D1E9R7\":33,\n",
    "    \"1L2O3R4D5_6V7A8D9E0R1\":52}\n",
    "}\n",
    "```\n",
    "\n",
    "Jak widzicie te słowniki pozostają ze sobą w relacji - łączy je PESEL.\n",
    "\n",
    "W powyższym przykładzie: Jan Nowak jest w grupie A i ma 25 punktów, natomiast Anna Kowalska jest w grupie B i ma 52 punkty.\n",
    "\n",
    "W zmiennych ```studenci``` i ```wyniki``` znajduje się cała nasza baza."
   ]
  },
  {
   "cell_type": "code",
   "execution_count": null,
   "metadata": {},
   "outputs": [],
   "source": [
    "studenci = {60101374286: {'imie': 'Bronisław', 'nazwisko': 'Mróz'}, 74090834726: {'imie': 'Kajetan', 'nazwisko': 'Krupa'}, 99092773462: {'imie': 'Miron', 'nazwisko': 'Zawadzki'}, 69071955945: {'imie': 'Marcel', 'nazwisko': 'Dąbrowski'}, 65031061536: {'imie': 'Ksawery', 'nazwisko': 'Witkowski'}, 62062359557: {'imie': 'Ignacy', 'nazwisko': 'Walczak'}, 83122543884: {'imie': 'Mariusz', 'nazwisko': 'Chmielewski'}, 48090662812: {'imie': 'Antoni', 'nazwisko': 'Czerwiński'}, 75072922653: {'imie': 'Krystian', 'nazwisko': 'Szewczyk'}, 54040148912: {'imie': 'Borys', 'nazwisko': 'Piotrowski'}, 81082875854: {'imie': 'Kornel', 'nazwisko': 'Tomaszewski'}, 80022651222: {'imie': 'Aleks', 'nazwisko': 'Górecki'}, 45090651497: {'imie': 'Amadeusz', 'nazwisko': 'Andrzejewski'}, 71031134545: {'imie': 'Allan', 'nazwisko': 'Mróz'}, 76112114575: {'imie': 'Remigiusz', 'nazwisko': 'Kowalczyk'}, 92030672294: {'imie': 'Anatol', 'nazwisko': 'Witkowski'}, 99112553214: {'imie': 'Gustaw', 'nazwisko': 'Czarnecki'}, 45121867952: {'imie': 'Mikołaj', 'nazwisko': 'Krupa'}, 74083059666: {'imie': 'Jarosław', 'nazwisko': 'Pietrzak'}, 53012967195: {'imie': 'Dariusz', 'nazwisko': 'Szulc'}, 97030648258: {'imie': 'Alex', 'nazwisko': 'Bąk'}, 90061815918: {'imie': 'Leonardo', 'nazwisko': 'Malinowski'}, 50102597722: {'imie': 'Bruno', 'nazwisko': 'Pawlak'}, 76033084683: {'imie': 'Przemysław', 'nazwisko': 'Maciejewski'}, 80121669654: {'imie': 'Olaf', 'nazwisko': 'Błaszczyk'}, 64032373893: {'imie': 'Jerzy', 'nazwisko': 'Bąk'}, 80070664782: {'imie': 'Maciej', 'nazwisko': 'Wiśniewski'}, 78041878748: {'imie': 'Oktawian', 'nazwisko': 'Sokołowski'}, 70120589983: {'imie': 'Damian', 'nazwisko': 'Nowak'}, 99072213474: {'imie': 'Ludwik', 'nazwisko': 'Lewandowski'}, 92092646668: {'imie': 'Aureliusz', 'nazwisko': 'Kowalczyk'}, 32914356321: {'imie': 'Amadeusz', 'nazwisko': 'Witkowski'}, 66053098454: {'imie': 'Miłosz', 'nazwisko': 'Wasilewska'}, 61092339991: {'imie': 'Emanuel', 'nazwisko': 'Gajewska'}, 22122628361: {'imie': 'Bartosz', 'nazwisko': 'Wysocki'}, 75081143786: {'imie': 'Cyprian', 'nazwisko': 'Kołodziej'}, 69110678378: {'imie': 'Olgierd', 'nazwisko': 'Włodarczyk'}, 90031312542: {'imie': 'Gabriel', 'nazwisko': 'Czerwiński'}, 54022326334: {'imie': 'Adrian', 'nazwisko': 'Kaźmierczak'}, 48022099541: {'imie': 'Hubert', 'nazwisko': 'Gajewska'}, 66042797421: {'imie': 'Lucjan', 'nazwisko': 'Borkowski'}, 13208275864: {'imie': 'Adrian', 'nazwisko': 'Głowacka'}, 12619622827: {'imie': 'Ariel', 'nazwisko': 'Baran'}, 48051151238: {'imie': 'Florian', 'nazwisko': 'Górski'}, 58010213484: {'imie': 'Bruno', 'nazwisko': 'Baranowski'}, 50021092999: {'imie': 'Jędrzej', 'nazwisko': 'Górecki'}, 42724171511: {'imie': 'Robert', 'nazwisko': 'Ostrowski'}, 62013189686: {'imie': 'Kuba', 'nazwisko': 'Wojciechowski'}, 45072018694: {'imie': 'Ludwik', 'nazwisko': 'Bąk'}, 82101961741: {'imie': 'Ryszard', 'nazwisko': 'Zieliński'}, 46081985557: {'imie': 'Bronisław', 'nazwisko': 'Górski'}, 56051577622: {'imie': 'Alfred', 'nazwisko': 'Borkowski'}, 99123115421: {'imie': 'Julian', 'nazwisko': 'Borkowski'}, 94031881422: {'imie': 'Eustachy', 'nazwisko': 'Wróblewski'}, 74113058234: {'imie': 'Ryszard', 'nazwisko': 'Dąbrowski'}, 77012285158: {'imie': 'Olgierd', 'nazwisko': 'Urbańska'}, 65112524372: {'imie': 'Adrian', 'nazwisko': 'Wiśniewski'}, 53110419192: {'imie': 'Klaudiusz', 'nazwisko': 'Marciniak'}, 82030659975: {'imie': 'Albert', 'nazwisko': 'Marciniak'}, 66062848334: {'imie': 'Marcin', 'nazwisko': 'Krajewska'}, 96053075551: {'imie': 'Denis', 'nazwisko': 'Tomaszewski'}, 68070876659: {'imie': 'Przemysław', 'nazwisko': 'Kamiński'}, 86021674972: {'imie': 'Kacper', 'nazwisko': 'Rutkowski'}, 85102594264: {'imie': 'Eustachy', 'nazwisko': 'Wójcik'}, 90041659147: {'imie': 'Dominik', 'nazwisko': 'Urbańska'}, 62082424316: {'imie': 'Przemysław', 'nazwisko': 'Cieślak'}, 99050348727: {'imie': 'Jacek', 'nazwisko': 'Krajewska'}, 88112887113: {'imie': 'Dawid', 'nazwisko': 'Sikora'}, 50042098781: {'imie': 'Ignacy', 'nazwisko': 'Lis'}, 88080579155: {'imie': 'Ernest', 'nazwisko': 'Gajewska'}, 65040528439: {'imie': 'Roman', 'nazwisko': 'Jaworski'}, 87111482114: {'imie': 'Krzysztof', 'nazwisko': 'Szczepański'}, 71110353621: {'imie': 'Ignacy', 'nazwisko': 'Jakubowski'}, 85040824168: {'imie': 'Rafał', 'nazwisko': 'Walczak'}, 91110745657: {'imie': 'Bartłomiej', 'nazwisko': 'Borkowski'}, 90062797688: {'imie': 'Marcin', 'nazwisko': 'Głowacka'}, 50081784337: {'imie': 'Jarosław', 'nazwisko': 'Sikora'}, 93100628537: {'imie': 'Dariusz', 'nazwisko': 'Gajewska'}, 74112451328: {'imie': 'Bronisław', 'nazwisko': 'Krupa'}, 58102636832: {'imie': 'Martin', 'nazwisko': 'Kamiński'}, 66030534564: {'imie': 'Przemysław', 'nazwisko': 'Górski'}, 93041535752: {'imie': 'Oskar', 'nazwisko': 'Zawadzki'}, 47112891964: {'imie': 'Alek', 'nazwisko': 'Sadowska'}, 93080721754: {'imie': 'Florian', 'nazwisko': 'Mróz'}, 55032147526: {'imie': 'Mateusz', 'nazwisko': 'Ziółkowska'}, 74110583786: {'imie': 'Ignacy', 'nazwisko': 'Maciejewski'}, 48092615252: {'imie': 'Olaf', 'nazwisko': 'Górecki'}, 75011115447: {'imie': 'Hubert', 'nazwisko': 'Piotrowski'}, 23122094775: {'imie': 'Kacper', 'nazwisko': 'Stępień'}, 32812582612: {'imie': 'Przemysław', 'nazwisko': 'Zawadzki'}, 71080779984: {'imie': 'Kacper', 'nazwisko': 'Jasiński'}, 64091497262: {'imie': 'Jędrzej', 'nazwisko': 'Wróblewski'}, 48041861697: {'imie': 'Janusz', 'nazwisko': 'Kowalczyk'}, 53021466887: {'imie': 'Aleksander', 'nazwisko': 'Wysocki'}, 88121517878: {'imie': 'Bruno', 'nazwisko': 'Jankowski'}, 77120155431: {'imie': 'Janusz', 'nazwisko': 'Kaźmierczak'}, 60022394235: {'imie': 'Łukasz', 'nazwisko': 'Baran'}, 80021643963: {'imie': 'Anastazy', 'nazwisko': 'Mazurek'}, 63010391289: {'imie': 'Olaf', 'nazwisko': 'Brzeziński'}, 50080241482: {'imie': 'Aureliusz', 'nazwisko': 'Witkowski'}, 33130127754: {'imie': 'Emilia', 'nazwisko': 'Duda'}, 12606169564: {'imie': 'Oksana', 'nazwisko': 'Ostrowska'}, 80031393579: {'imie': 'Emilia', 'nazwisko': 'Wiśniewska'}, 99082474881: {'imie': 'Bogumiła', 'nazwisko': 'Baranowska'}, 28173318478: {'imie': 'Alana', 'nazwisko': 'Kaźmierczak'}, 50081857253: {'imie': 'Agata', 'nazwisko': 'Sikora'}, 94110393776: {'imie': 'Liliana', 'nazwisko': 'Walczak'}, 92032034665: {'imie': 'Luiza', 'nazwisko': 'Lis'}, 62021555226: {'imie': 'Aniela', 'nazwisko': 'Pawlak'}, 46080192484: {'imie': 'Berenika', 'nazwisko': 'Zawadzka'}, 47112318221: {'imie': 'Alana', 'nazwisko': 'Górecka'}, 60102561757: {'imie': 'Dorota', 'nazwisko': 'Szymańska'}, 46111743739: {'imie': 'Ewa', 'nazwisko': 'Wiśniewska'}, 53061922255: {'imie': 'Teresa', 'nazwisko': 'Sobczak'}, 46070693663: {'imie': 'Kornelia', 'nazwisko': 'Kalinowska'}, 89062826885: {'imie': 'Klaudia', 'nazwisko': 'Baran'}, 54090328571: {'imie': 'Eleonora', 'nazwisko': 'Walczak'}, 83041842488: {'imie': 'Paulina', 'nazwisko': 'Dąbrowska'}, 76031412574: {'imie': 'Izabela', 'nazwisko': 'Głowacka'}, 45031291289: {'imie': 'Dominika', 'nazwisko': 'Zawadzka'}, 22617394524: {'imie': 'Adrianna', 'nazwisko': 'Michalak'}, 78042632639: {'imie': 'Oliwia', 'nazwisko': 'Szewczyk'}, 97022798721: {'imie': 'Felicja', 'nazwisko': 'Jakubowska'}, 87101951422: {'imie': 'Marysia', 'nazwisko': 'Wójcik'}, 98030831969: {'imie': 'Justyna', 'nazwisko': 'Zalewska'}, 87070742827: {'imie': 'Amelia', 'nazwisko': 'Sobczak'}, 97102793314: {'imie': 'Angelika', 'nazwisko': 'Włodarczyk'}, 54091923119: {'imie': 'Dominika', 'nazwisko': 'Kucharska'}, 50012292724: {'imie': 'Kornelia', 'nazwisko': 'Piotrowska'}, 73040575917: {'imie': 'Anastazja', 'nazwisko': 'Wojciechowska'}, 99071283261: {'imie': 'Marysia', 'nazwisko': 'Pietrzak'}, 94052476519: {'imie': 'Franciszka', 'nazwisko': 'Gajewska'}, 57112344959: {'imie': 'Róża', 'nazwisko': 'Górska'}, 75111972762: {'imie': 'Anastazja', 'nazwisko': 'Przybylska'}, 92040165344: {'imie': 'Hortensja', 'nazwisko': 'Mróz'}, 73082896511: {'imie': 'Bernadetta', 'nazwisko': 'Krawczyk'}, 51010474624: {'imie': 'Gabriela', 'nazwisko': 'Lis'}, 66072929825: {'imie': 'Florentyna', 'nazwisko': 'Jaworska'}, 45072567723: {'imie': 'Oksana', 'nazwisko': 'Dąbrowska'}, 58032247333: {'imie': 'Patrycja', 'nazwisko': 'Zielińska'}, 87090288655: {'imie': 'Weronika', 'nazwisko': 'Głowacka'}, 33224492144: {'imie': 'Monika', 'nazwisko': 'Kołodziej'}, 77021651384: {'imie': 'Patrycja', 'nazwisko': 'Ziółkowska'}, 53062997137: {'imie': 'Asia', 'nazwisko': 'Witkowska'}, 99031314325: {'imie': 'Andrea', 'nazwisko': 'Malinowska'}, 88111847983: {'imie': 'Elżbieta', 'nazwisko': 'Sikorska'}, 52021466552: {'imie': 'Kaja', 'nazwisko': 'Borkowska'}, 83032971917: {'imie': 'Ewelina', 'nazwisko': 'Ziółkowska'}, 46080156851: {'imie': 'Jolanta', 'nazwisko': 'Piotrowska'}, 89010646228: {'imie': 'Elżbieta', 'nazwisko': 'Czerwińska'}, 69072887641: {'imie': 'Maja', 'nazwisko': 'Ostrowska'}, 60051414263: {'imie': 'Weronika', 'nazwisko': 'Sikorska'}, 81050141233: {'imie': 'Malwina', 'nazwisko': 'Marciniak'}, 33129481449: {'imie': 'Marlena', 'nazwisko': 'Błaszczyk'}, 55090657164: {'imie': 'Anna', 'nazwisko': 'Szymańska'}, 51010316447: {'imie': 'Amelia', 'nazwisko': 'Mazurek'}, 49082828777: {'imie': 'Anita', 'nazwisko': 'Mazurek'}, 12632574946: {'imie': 'Urszula', 'nazwisko': 'Wasilewska'}, 71120956498: {'imie': 'Zofia', 'nazwisko': 'Andrzejewska'}, 23410235231: {'imie': 'Paula', 'nazwisko': 'Zalewska'}, 85111149992: {'imie': 'Wanda', 'nazwisko': 'Piotrowska'}, 64111658758: {'imie': 'Marta', 'nazwisko': 'Zalewska'}, 12125474952: {'imie': 'Amanda', 'nazwisko': 'Jankowska'}, 71050188196: {'imie': 'Felicja', 'nazwisko': 'Brzezińska'}, 76042669136: {'imie': 'Elwira', 'nazwisko': 'Kowalska'}, 91062734523: {'imie': 'Dagmara', 'nazwisko': 'Zielińska'}, 91011711476: {'imie': 'Gabriela', 'nazwisko': 'Przybylska'}, 87040397727: {'imie': 'Bianka', 'nazwisko': 'Kubiak'}, 70041539252: {'imie': 'Zuzanna', 'nazwisko': 'Wysocka'}, 98052016252: {'imie': 'Klara', 'nazwisko': 'Wojciechowska'}, 86092628298: {'imie': 'Amelia', 'nazwisko': 'Wiśniewska'}, 74072577917: {'imie': 'Franciszka', 'nazwisko': 'Sadowska'}, 64030244333: {'imie': 'Florentyna', 'nazwisko': 'Krupa'}, 45070751669: {'imie': 'Alice', 'nazwisko': 'Kubiak'}, 72010173245: {'imie': 'Klara', 'nazwisko': 'Mazur'}, 51082161578: {'imie': 'Amelia', 'nazwisko': 'Krawczyk'}, 75032953871: {'imie': 'Lara', 'nazwisko': 'Lis'}, 67070652665: {'imie': 'Florencja', 'nazwisko': 'Krajewska'}, 54052679626: {'imie': 'Józefa', 'nazwisko': 'Kamińska'}, 47093011852: {'imie': 'Bogumiła', 'nazwisko': 'Jasińska'}, 63061964258: {'imie': 'Danuta', 'nazwisko': 'Szewczyk'}, 79053029478: {'imie': 'Blanka', 'nazwisko': 'Sadowska'}, 91031479428: {'imie': 'Zuza', 'nazwisko': 'Szulc'}, 42343187385: {'imie': 'Oksana', 'nazwisko': 'Brzezińska'}, 95112993766: {'imie': 'Mirosława', 'nazwisko': 'Sobczak'}, 12728877577: {'imie': 'Urszula', 'nazwisko': 'Górska'}, 78060691814: {'imie': 'Honorata', 'nazwisko': 'Czarnecka'}, 50093021589: {'imie': 'Stanisława', 'nazwisko': 'Górecka'}, 96111137566: {'imie': 'Jagoda', 'nazwisko': 'Zielińska'}, 96082017955: {'imie': 'Jolanta', 'nazwisko': 'Szczepańska'}, 90071637562: {'imie': 'Bogna', 'nazwisko': 'Górska'}, 96031577961: {'imie': 'Iza', 'nazwisko': 'Jakubowska'}, 96020958155: {'imie': 'Maria', 'nazwisko': 'Baran'}, 61091369236: {'imie': 'Anatolia', 'nazwisko': 'Szczepańska'}, 73042449487: {'imie': 'Lara', 'nazwisko': 'Zalewska'}, 91052584639: {'imie': 'Luiza', 'nazwisko': 'Witkowska'}, 80062647137: {'imie': 'Izyda', 'nazwisko': 'Maciejewska'}, 61010181493: {'imie': 'Klara', 'nazwisko': 'Stępień'}, 47011445581: {'imie': 'Marysia', 'nazwisko': 'Woźniak'}, 49091867985: {'imie': 'Klaudia', 'nazwisko': 'Kołodziej'}}\n",
    "wyniki = {'grupa_a': {'6L0O1R0D1_3V7A4D2E8R6': 61, '6L5O0R3D1_0V6A1D5E3R6': 86, '7L5O0R7D2_9V2A2D6E5R3': 87, '4L5O0R9D0_6V5A1D4E9R7': 83, '9L9O1R1D2_5V5A3D2E1R4': 40, '9L7O0R3D0_6V4A8D2E5R8': 98, '8L0O1R2D1_6V6A9D6E5R4': 12, '7L0O1R2D0_5V8A9D9E8R3': 26, '6L6O0R5D3_0V9A8D4E5R4': 86, '6L9O1R1D0_6V7A8D3E7R8': 87, '6L6O0R4D2_7V9A7D4E2R1': 67, '5L8O0R1D0_2V1A3D4E8R4': 11, '4L5O0R7D2_0V1A8D6E9R4': 0, '9L9O1R2D3_1V1A5D4E2R1': 12, '6L5O1R1D2_5V2A4D3E7R2': 51, '9L6O0R5D3_0V7A5D5E5R1': 39, '9L0O0R4D1_6V5A9D1E4R7': 25, '5L0O0R4D2_0V9A8D7E8R1': 26, '7L1O1R1D0_3V5A3D6E2R1': 70, '5L0O0R8D1_7V8A4D3E3R7': 39, '6L6O0R3D0_5V3A4D5E6R4': 45, '5L5O0R3D2_1V4A7D5E2R6': 72, '2L3O1R2D2_0V9A4D7E7R5': 12, '4L8O0R4D1_8V6A1D6E9R7': 55, '6L0O0R2D2_3V9A4D2E3R5': 12, '3L3O1R3D0_1V2A7D7E5R4': 22, '2L8O1R7D3_3V1A8D4E7R8': 12, '6L2O0R2D1_5V5A5D2E2R6': 37, '4L6O1R1D1_7V4A3D7E3R9': 92, '5L4O0R9D0_3V2A8D5E7R1': 74, '2L2O6R1D7_3V9A4D5E2R4': 8, '9L8O0R3D0_8V3A1D9E6R9': 8, '5L0O0R1D2_2V9A2D7E2R4': 71, '5L7O1R1D2_3V4A4D9E5R9': 24, '5L1O0R1D0_4V7A4D6E2R4': 73, '8L7O0R9D0_2V8A8D6E5R5': 25, '9L9O0R3D1_3V1A4D3E2R5': 56, '4L6O0R8D0_1V5A6D8E5R1': 81, '8L1O0R5D0_1V4A1D2E3R3': 92, '4L9O0R8D2_8V2A8D7E7R7': 86, '8L5O1R1D1_1V4A9D9E9R2': 92, '7L6O0R4D2_6V6A9D1E3R6': 66, '7L0O0R4D1_5V3A9D2E5R2': 35, '6L4O0R3D0_2V4A4D3E3R3': 42, '7L5O0R3D2_9V5A3D8E7R1': 35, '6L3O0R6D1_9V6A4D2E5R8': 76, '9L5O1R1D2_9V9A3D7E6R6': 40, '9L6O1R1D1_1V3A7D5E6R6': 28, '9L6O0R2D0_9V5A8D1E5R5': 46, '8L0O0R6D2_6V4A7D1E3R7': 59}, 'grupa_b': {'7L4O0R9D0_8V3A4D7E2R6': 13, '6L2O0R6D2_3V5A9D5E5R7': 38, '5L4O0R4D0_1V4A8D9E1R2': 81, '7L1O0R3D1_1V3A4D5E4R5': 32, '4L5O1R2D1_8V6A7D9E5R2': 42, '9L0O0R6D1_8V1A5D9E1R8': 71, '6L4O0R3D2_3V7A3D8E9R3': 92, '9L9O0R7D2_2V1A3D4E7R4': 55, '6L1O0R9D2_3V3A9D9E9R1': 59, '9L0O0R3D1_3V1A2D5E4R2': 6, '1L3O2R0D8_2V7A5D8E6R4': 20, '5L0O0R2D1_0V9A2D9E9R9': 9, '8L2O1R0D1_9V6A1D7E4R1': 60, '9L4O0R3D1_8V8A1D4E2R2': 13, '5L3O1R1D0_4V1A9D1E9R2': 13, '6L8O0R7D0_8V7A6D6E5R9': 17, '6L2O0R8D2_4V2A4D3E1R6': 41, '8L8O0R8D0_5V7A9D1E5R5': 82, '8L5O0R4D0_8V2A4D1E6R8': 11, '9L3O1R0D0_6V2A8D5E3R7': 75, '9L3O0R4D1_5V3A5D7E5R2': 83, '7L4O1R1D0_5V8A3D7E8R6': 94, '3L2O8R1D2_5V8A2D6E1R2': 74, '5L3O0R2D1_4V6A6D8E8R7': 80, '8L0O0R2D1_6V4A3D9E6R3': 29, '1L2O6R0D6_1V6A9D5E6R4': 69, '5L0O0R8D1_8V5A7D2E5R3': 70, '4L6O0R8D0_1V9A2D4E8R4': 73, '5L3O0R6D1_9V2A2D2E5R5': 48, '8L3O0R4D1_8V4A2D4E8R8': 93, '7L8O0R4D2_6V3A2D6E3R9': 43, '8L7O0R7D0_7V4A2D8E2R7': 7, '7L3O0R4D0_5V7A5D9E1R7': 94, '7L5O1R1D1_9V7A2D7E6R2': 53, '6L6O0R7D2_9V2A9D8E2R5': 52, '3L3O2R2D4_4V9A2D1E4R4': 3, '8L8O1R1D1_8V4A7D9E8R3': 51, '8L9O0R1D0_6V4A6D2E2R8': 50, '3L3O1R2D9_4V8A1D4E4R9': 73, '1L2O6R3D2_5V7A4D9E4R6': 99, '6L4O1R1D1_6V5A8D7E5R8': 91, '9L1O0R6D2_7V3A4D5E2R3': 65, '9L8O0R5D2_0V1A6D2E5R2': 73, '4L5O0R7D0_7V5A1D6E6R9': 73, '6L7O0R7D0_6V5A2D6E6R5': 23, '7L9O0R5D3_0V2A9D4E7R8': 93, '1L2O7R2D8_8V7A7D5E7R7': 69, '9L6O0R8D2_0V1A7D9E5R5': 81, '6L1O0R9D1_3V6A9D2E3R6': 3, '6L1O0R1D0_1V8A1D4E9R3': 63}, 'grupa_c': {'9L9O0R9D2_7V7A3D4E6R2': 6, '8L3O1R2D2_5V4A3D8E8R4': 44, '8L1O0R8D2_8V7A5D8E5R4': 48, '7L6O1R1D2_1V1A4D5E7R5': 98, '7L4O0R8D3_0V5A9D6E6R6': 57, '5L0O1R0D2_5V9A7D7E2R2': 48, '8L0O0R7D0_6V6A4D7E8R2': 99, '9L2O0R9D2_6V4A6D6E6R8': 61, '2L2O1R2D2_6V2A8D3E6R1': 67, '5L4O0R2D2_3V2A6D3E3R4': 51, '1L2O6R1D9_6V2A2D8E2R7': 75, '4L2O7R2D4_1V7A1D5E1R1': 6, '4L6O0R8D1_9V8A5D5E5R7': 77, '7L4O1R1D3_0V5A8D2E3R4': 26, '8L2O0R3D0_6V5A9D9E7R5': 0, '8L6O0R2D1_6V7A4D9E7R2': 31, '9L9O0R5D0_3V4A8D7E2R7': 30, '6L5O0R4D0_5V2A8D4E3R9': 89, '9L1O1R1D0_7V4A5D6E5R7': 25, '7L4O1R1D2_4V5A1D3E2R8': 30, '4L7O1R1D2_8V9A1D9E6R4': 47, '4L8O0R9D2_6V1A5D2E5R2': 53, '7L1O0R8D0_7V7A9D9E8R4': 18, '8L8O1R2D1_5V1A7D8E7R8': 8, '6L3O0R1D0_3V9A1D2E8R9': 41, '8L0O0R3D1_3V9A3D5E7R9': 13, '9L4O1R1D0_3V9A3D7E7R6': 77, '4L7O1R1D2_3V1A8D2E2R1': 20, '4L6O0R7D0_6V9A3D6E6R3': 55, '7L6O0R3D1_4V1A2D5E7R4': 69, '9L7O0R2D2_7V9A8D7E2R1': 89, '9L7O1R0D2_7V9A3D3E1R4': 86, '9L9O0R7D1_2V8A3D2E6R1': 62, '9L2O0R4D0_1V6A5D3E4R4': 100, '4L5O0R7D2_5V6A7D7E2R3': 94, '7L7O0R2D1_6V5A1D3E8R4': 34, '5L2O0R2D1_4V6A6D5E5R2': 9, '6L9O0R7D2_8V8A7D6E4R1': 9, '5L5O0R9D0_6V5A7D1E6R4': 71, '7L1O1R2D0_9V5A6D4E9R8': 41, '1L2O1R2D5_4V7A4D9E5R2': 36, '9L1O0R1D1_7V1A1D4E7R6': 88, '8L6O0R9D2_6V2A8D2E9R8': 96, '7L2O0R1D0_1V7A3D2E4R5': 63, '5L4O0R5D2_6V7A9D6E2R6': 1, '9L1O0R3D1_4V7A9D4E2R8': 36, '7L8O0R6D0_6V9A1D8E1R4': 92, '9L0O0R7D1_6V3A7D5E6R2': 12, '7L3O0R4D2_4V4A9D4E8R7': 59, '4L7O0R1D1_4V4A5D5E8R1': 70}, 'grupa_d': {'6L9O0R7D1_9V5A5D9E4R5': 5, '4L8O0R9D0_6V6A2D8E1R2': 98, '8L0O0R2D2_6V5A1D2E2R2': 44, '9L2O0R3D0_6V7A2D2E9R4': 4, '5L3O0R1D2_9V6A7D1E9R5': 20, '7L6O0R3D3_0V8A4D6E8R3': 23, '7L8O0R4D1_8V7A8D7E4R8': 55, '3L2O9R1D4_3V5A6D3E2R1': 15, '7L5O0R8D1_1V4A3D7E8R6': 3, '4L8O0R2D2_0V9A9D5E4R1': 59, '4L8O0R5D1_1V5A1D2E3R8': 2, '6L2O0R1D3_1V8A9D6E8R6': 27, '5L6O0R5D1_5V7A7D6E2R2': 57, '7L7O0R1D2_2V8A5D1E5R8': 15, '6L6O0R6D2_8V4A8D3E3R4': 3, '8L5O1R0D2_5V9A4D2E6R4': 13, '8L8O1R1D2_8V8A7D1E1R3': 60, '8L7O1R1D1_4V8A2D1E1R4': 77, '9L0O0R6D2_7V9A7D6E8R8': 82, '5L8O1R0D2_6V3A6D8E3R2': 13, '9L3O0R8D0_7V2A1D7E5R4': 28, '7L5O0R1D1_1V1A5D4E4R7': 15, '6L4O0R9D1_4V9A7D2E6R2': 27, '7L7O1R2D0_1V5A5D4E3R1': 3, '5L0O0R8D0_2V4A1D4E8R2': 91, '9L9O0R8D2_4V7A4D8E8R1': 97, '9L2O0R3D2_0V3A4D6E6R5': 13, '6L0O1R0D2_5V6A1D7E5R7': 24, '8L9O0R6D2_8V2A6D8E8R5': 2, '4L5O0R3D1_2V9A1D2E8R9': 13, '8L7O1R0D1_9V5A1D4E2R2': 94, '5L4O0R9D1_9V2A3D1E1R9': 54, '9L4O0R5D2_4V7A6D5E1R9': 70, '7L3O0R8D2_8V9A6D5E1R1': 7, '5L8O0R3D2_2V4A7D3E3R3': 73, '5L3O0R6D2_9V9A7D1E3R7': 54, '8L3O0R3D2_9V7A1D9E1R7': 32, '6L0O0R5D1_4V1A4D2E6R3': 78, '5L1O0R1D0_3V1A6D4E4R7': 44, '2L3O4R1D0_2V3A5D2E3R1': 96, '7L1O0R5D0_1V8A8D1E9R6': 9, '8L7O0R4D0_3V9A7D7E2R7': 74, '7L4O0R7D2_5V7A7D9E1R7': 25, '5L1O0R8D2_1V6A1D5E7R8': 93, '4L7O0R9D3_0V1A1D8E5R2': 50, '4L2O3R4D3_1V8A7D3E8R5': 46, '5L0O0R9D3_0V2A1D5E8R9': 80, '9L6O0R3D1_5V7A7D9E6R1': 18, '9L1O0R5D2_5V8A4D6E3R9': 79, '4L9O0R9D1_8V6A7D9E8R5': 78}}"
   ]
  },
  {
   "cell_type": "markdown",
   "metadata": {},
   "source": [
    "## Zadanie 3.1\n",
    "Napisz fragmenty kodu, które wyciągną informacje:\n",
    "* jak ma na imię student(ka) o numerze pesel 87101951422?\n",
    "* czy jest w grupie a?\n",
    "* czy jest w grupie b?\n",
    "* czy jest w grupie c?\n",
    "* czy jest w grupie d?\n",
    "* ile punktów dostał(a)?\n",
    "* ile punktów w sumie dostali studenci grupy B?"
   ]
  },
  {
   "cell_type": "code",
   "execution_count": 31,
   "metadata": {},
   "outputs": [
    {
     "name": "stdout",
     "output_type": "stream",
     "text": [
      "Imię osoby o numerze PESEL '87101951422' to Marysia\n",
      "Nie jest w grupie A\n",
      "Nie jest w grupie B\n",
      "Nie jest w grupie C\n",
      "Jest w grupie D\n",
      "Wynik Marysi to 94\n",
      "W grupie B zdobyto w sumie 2702 punktów\n"
     ]
    }
   ],
   "source": [
    "# TUTAJ ROZWIĄZUJ\n",
    "\n",
    "\n",
    "pesel = 87101951422\n",
    "#1\n",
    "imie = studenci[pesel]['imie']\n",
    "print(\"Imię osoby o numerze PESEL '87101951422' to\" ,imie)\n",
    "\n",
    "grupaA = wyniki['grupa_a']\n",
    "grupaB = wyniki['grupa_b']\n",
    "grupaC = wyniki['grupa_c']\n",
    "grupaD = wyniki['grupa_d']\n",
    "\n",
    "nowe_wyniki_A = {}\n",
    "\n",
    "for (key, wynik) in grupaA.items():\n",
    "    nowe_wyniki_A [int(key[::2])]=wynik\n",
    "\n",
    "nowe_wyniki_B= {}\n",
    "\n",
    "for (key, wynik) in grupaB.items():\n",
    "    nowe_wyniki_B [int(key[::2])]=wynik\n",
    "\n",
    "nowe_wyniki_C = {}\n",
    "\n",
    "for (key, wynik) in grupaC.items():\n",
    "    nowe_wyniki_C [int(key[::2])]=wynik\n",
    "\n",
    "nowe_wyniki_D = {}\n",
    "\n",
    "for (key, wynik) in grupaD.items():\n",
    "    nowe_wyniki_D [int(key[::2])]=wynik\n",
    "\n",
    "\n",
    "\n",
    "#2 czy_jest_w_grupie_a\n",
    "if pesel in nowe_wyniki_A:\n",
    "    print('Jest w grupie A')\n",
    "else:\n",
    "    print('Nie jest w grupie A')\n",
    "\n",
    "# czy jest w grupie b?\n",
    "if pesel in nowe_wyniki_B:\n",
    "    print('Jest w grupie B')\n",
    "else:\n",
    "    print('Nie jest w grupie B')\n",
    "\n",
    "# czy jest w grupie c?\n",
    "if pesel in nowe_wyniki_C:\n",
    "    print('Jest w grupie C')\n",
    "else:\n",
    "    print('Nie jest w grupie C')\n",
    "\n",
    "# czy jest w grupie d?\n",
    "if pesel in nowe_wyniki_D:\n",
    "    print('Jest w grupie D')\n",
    "else:\n",
    "    print('Nie jest w grupie D')\n",
    "\n",
    "# ile punktów dostał(a)?\n",
    "wynik_Marysi = nowe_wyniki_D[pesel]\n",
    "print(\"Wynik Marysi to\" , wynik_Marysi)\n",
    "\n",
    "# ile punktów w sumie dostali studenci grupy B?\n",
    "punkty_b = sum(wyniki['grupa_b'].values())\n",
    "print(f'W grupie B zdobyto w sumie {punkty_b} punktów')"
   ]
  },
  {
   "cell_type": "markdown",
   "metadata": {},
   "source": [
    "## Zadanie 3.2\n",
    "Chcemy ocenić trenerów prowadzących zajęcia w akademii. Trener, którego grupa ma najsłabsze wyniki zostanie ukarany i w ramach pokuty będzie musiał przez 2 tygodnie pisać kod wyłącznie w JavaScript. Stawka jest wysoka, więc powinniśmy dokonać oceny w sposób rzetelny. Aby obiektywnie ocenić postępy poszczególnych grup oblicz minimalną, średnią i maksymalną liczbę punktów w każdej grupie. Zapisz dane w postaci słownika {nazwa_grupy:[min, srednia, max]} do zmiennej o nazwie groups_min_avg_max."
   ]
  },
  {
   "cell_type": "code",
   "execution_count": null,
   "metadata": {},
   "outputs": [],
   "source": [
    "groups_min_avg_max = # TUTAJ ROZWIĄZUJ"
   ]
  }
 ],
 "metadata": {
  "kernelspec": {
   "display_name": "Python 3",
   "language": "python",
   "name": "python3"
  },
  "language_info": {
   "codemirror_mode": {
    "name": "ipython",
    "version": 3
   },
   "file_extension": ".py",
   "mimetype": "text/x-python",
   "name": "python",
   "nbconvert_exporter": "python",
   "pygments_lexer": "ipython3",
   "version": "3.11.2"
  }
 },
 "nbformat": 4,
 "nbformat_minor": 4
}
