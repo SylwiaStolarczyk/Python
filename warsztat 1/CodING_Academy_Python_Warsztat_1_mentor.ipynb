{
 "cells": [
  {
   "cell_type": "markdown",
   "metadata": {},
   "source": [
    "# CodING Academy: Python\n",
    "\n",
    "## Warsztat 1"
   ]
  },
  {
   "cell_type": "markdown",
   "metadata": {},
   "source": [
    "# PEP 8\n",
    "\n",
    "### Czyli co to jest?\n",
    "0. \"Gramatyka\" języka Python\n",
    "0. Czytelność kodu - jednakowe zrozumienie\n",
    "\n",
    "### Główne założenia\n",
    "0. Wcięcia\n",
    "0. 4 spacje\n",
    "0. Długość linii (79 znaków)\n",
    "0. Łamanie linii przed operatorem binarnym\n",
    "0. Kodowanie UTF-8\n",
    "0. Importy w osobnych liniach\n",
    "0. Gdzie powinniśmy wstawiać spacje\n",
    "0. Komentarze\n",
    "0. Nazwy zmiennych (`snake_case`)\n",
    "0. I wiele innych - zobacz: https://www.python.org/dev/peps/pep-0008/"
   ]
  },
  {
   "cell_type": "markdown",
   "metadata": {},
   "source": [
    "### Zmienne"
   ]
  },
  {
   "cell_type": "markdown",
   "metadata": {},
   "source": [
    "#### Wyświetlanie wartości zmiennej"
   ]
  },
  {
   "cell_type": "code",
   "execution_count": 4,
   "metadata": {},
   "outputs": [],
   "source": [
    "# Zakładamy kartotekę dla klienta\n",
    "imie = 'Adelajda'\n",
    "nazwisko = 'Karczoszek'\n",
    "wiek = 69\n",
    "pesel = '22123110034'\n",
    "numer_rachunku = '11105000001234543212'\n",
    "flaga = False"
   ]
  },
  {
   "cell_type": "code",
   "execution_count": 5,
   "metadata": {},
   "outputs": [
    {
     "data": {
      "text/plain": [
       "49595380553044747163083092725373611577959692457573372693"
      ]
     },
     "execution_count": 5,
     "metadata": {},
     "output_type": "execute_result"
    }
   ],
   "source": [
    "# int --> w Python nie ma ograniczenia w wielkości zmiennej typu int:\n",
    "327683413413516431631613451341243 * 151351513451364135415151"
   ]
  },
  {
   "cell_type": "code",
   "execution_count": 6,
   "metadata": {},
   "outputs": [],
   "source": [
    "# ZEN Pythona - tych kilkanaście wersów w sposób kompaktowy pokazuje filozofię programowania w Python: prostota, czytelność, porządek\n",
    "import this"
   ]
  },
  {
   "cell_type": "code",
   "execution_count": 7,
   "metadata": {},
   "outputs": [
    {
     "name": "stdout",
     "output_type": "stream",
     "text": [
      "Nowy klient:  Adelajda   Karczoszek  z numerem PESEL  22123110034\n",
      "Nowy klient: Adelajda Karczoszek, z numerem PESEL 22123110034 w wieku 69\n",
      "Wiek: 69\n"
     ]
    }
   ],
   "source": [
    "# Wyświetl na ekranie zdanie: Nowy Klient: <imie> <nazwisko>, z numerem pesel <pesel>.\n",
    "\n",
    "# Wariant \"po przecinku\" --> separator \" \" dodany z automatu\n",
    "print(\"Nowy klient: \", imie, ' ', nazwisko, ' z numerem PESEL ', pesel)\n",
    "\n",
    "# Wariant ze stringiem formatowanym -> przedrostek f\n",
    "print(f\"Nowy klient: {imie} {nazwisko}, z numerem PESEL {pesel} w wieku {wiek}\")\n",
    "\n",
    "# Wariant z konkatenacją --> operator konkatenacji (złączenia) stringów to +\n",
    "print(\"Wiek: \" + str(wiek) )"
   ]
  },
  {
   "cell_type": "markdown",
   "metadata": {},
   "source": [
    "### Znak końca linii - '\\n'"
   ]
  },
  {
   "cell_type": "code",
   "execution_count": 10,
   "metadata": {},
   "outputs": [
    {
     "name": "stdout",
     "output_type": "stream",
     "text": [
      "Nowy klient:\n",
      " imie: Adelajda\n",
      " nazwisko: Karczoszek\n",
      " PESEL: 22123110034\n",
      "\n",
      "Nowy klient:\n",
      "\t imie: Adelajda\n",
      "\t nazwisko: Karczoszek\n",
      "\t PESEL: 22123110034\n"
     ]
    }
   ],
   "source": [
    "# Wyświetl na ekranie atrybuty klienta, żeby kazdy atrybut znajdował się w osobnej linijce.\n",
    "\n",
    "# znaki specjalne - poprzedzone \\ \n",
    "print(f\"Nowy klient:\\n imie: {imie}\\n nazwisko: {nazwisko}\\n PESEL: {pesel}\")\n",
    "\n",
    "# wariant z dodatkowymi tabulacjami \n",
    "print(f\"\\nNowy klient:\\n\\t imie: {imie}\\n\\t nazwisko: {nazwisko}\\n\\t PESEL: {pesel}\")\n"
   ]
  },
  {
   "cell_type": "code",
   "execution_count": 11,
   "metadata": {},
   "outputs": [
    {
     "name": "stdout",
     "output_type": "stream",
     "text": [
      "Hello World!\n"
     ]
    }
   ],
   "source": [
    "# Klasyk :)\n",
    "\n",
    "print(\"Hello World!\")"
   ]
  },
  {
   "cell_type": "markdown",
   "metadata": {},
   "source": [
    "### Operatory arytmetyczne"
   ]
  },
  {
   "cell_type": "code",
   "execution_count": 12,
   "metadata": {},
   "outputs": [],
   "source": [
    "# Tworzymy dwie zmienne, na których będziemy wykonywali operacje arytmetyczne\n",
    "saldo = 1000\n",
    "kwota_przelewu = 500"
   ]
  },
  {
   "cell_type": "code",
   "execution_count": 13,
   "metadata": {},
   "outputs": [
    {
     "name": "stdout",
     "output_type": "stream",
     "text": [
      "Saldo klienta: 1000\n",
      "Kwota przełewu: 500\n"
     ]
    }
   ],
   "source": [
    "# Wyświetl wartości zmiennych\n",
    "print('Saldo klienta:', saldo)\n",
    "print('Kwota przełewu:', kwota_przelewu)"
   ]
  },
  {
   "cell_type": "code",
   "execution_count": 14,
   "metadata": {},
   "outputs": [
    {
     "name": "stdout",
     "output_type": "stream",
     "text": [
      "Saldo klienta po wykonaniu przelewu: 1500\n"
     ]
    }
   ],
   "source": [
    "# Saldo klienta po wykonaniu przelewu na rachunek klienta\n",
    "print('Saldo klienta po wykonaniu przelewu:', saldo +  kwota_przelewu)"
   ]
  },
  {
   "cell_type": "code",
   "execution_count": 15,
   "metadata": {},
   "outputs": [
    {
     "name": "stdout",
     "output_type": "stream",
     "text": [
      "Saldo klienta po wykonaniu przelewu: 500\n"
     ]
    }
   ],
   "source": [
    "# Saldo klienta po wykonaniu przelewu z rachunku klienta\n",
    "print('Saldo klienta po wykonaniu przelewu:', saldo - kwota_przelewu )"
   ]
  },
  {
   "cell_type": "code",
   "execution_count": 16,
   "metadata": {},
   "outputs": [
    {
     "name": "stdout",
     "output_type": "stream",
     "text": [
      "Łączna suma przełewów: 300\n"
     ]
    }
   ],
   "source": [
    "# Przypuśćmy, że klient musi wykonać przełew na kwotę 100 zł. 3 razy, jaka będzie łączna suma przełewów\n",
    "kwota_przelewu = 100\n",
    "liczba_przelewow = 3\n",
    "print('Łączna suma przełewów:',  kwota_przelewu * liczba_przelewow )"
   ]
  },
  {
   "cell_type": "code",
   "execution_count": 18,
   "metadata": {},
   "outputs": [
    {
     "name": "stdout",
     "output_type": "stream",
     "text": [
      "Łączna suma przełewów: 33.333333333333336\n",
      "Łączna suma przełewów: 33\n",
      "Łączna suma przełewów: 33.33\n"
     ]
    }
   ],
   "source": [
    "\n",
    "# Przypuśćmy, że klient musi wykonać przełew na kwotę 100 zł. 3 razy, jaka będzie łączna suma przełewów\n",
    "kwota_przelewu = 100\n",
    "liczba_przelewow = 3\n",
    "\n",
    "# dzielenie bez reszty --> wynik to float (liczba zmiennoprzecinkowa)\n",
    "print('Łączna suma przełewów:', kwota_przelewu / liczba_przelewow )\n",
    "\n",
    "# dzielenie z resztą --> wynik to int\n",
    "print('Łączna suma przełewów:', kwota_przelewu // liczba_przelewow )\n",
    "\n",
    "# dorzucamy zaokrąglenie do pełnych groszy\n",
    "print('Łączna suma przełewów:', round(kwota_przelewu / liczba_przelewow, 2) )"
   ]
  },
  {
   "cell_type": "code",
   "execution_count": 19,
   "metadata": {},
   "outputs": [
    {
     "name": "stdout",
     "output_type": "stream",
     "text": [
      "Kwota bedzie na każdym z rachunków: 50.0\n"
     ]
    }
   ],
   "source": [
    "# Klient chcę równo podzielić 150 zł. pomiędzy 3 rachunkami. Jaka kwota bedzie na każdym z rachunków?\n",
    "suma = 150\n",
    "liczba_rachunkow = 3\n",
    "print('Kwota bedzie na każdym z rachunków:', suma / liczba_rachunkow )"
   ]
  },
  {
   "cell_type": "code",
   "execution_count": 20,
   "metadata": {},
   "outputs": [
    {
     "name": "stdout",
     "output_type": "stream",
     "text": [
      "Kwota bedzie na każdym z rachunków: 33\n"
     ]
    }
   ],
   "source": [
    "# Klient chcę równo podzielić 100 zł. pomiędzy 3 rachunkami, \n",
    "# żeby kwota na każdym z rachunków odpowiadała liczbie całkowitej\n",
    "suma = 100\n",
    "liczba_rachunkow = 3\n",
    "print('Kwota bedzie na każdym z rachunków:', suma // liczba_rachunkow)"
   ]
  },
  {
   "cell_type": "code",
   "execution_count": 22,
   "metadata": {},
   "outputs": [
    {
     "name": "stdout",
     "output_type": "stream",
     "text": [
      "Nieprzydzielona kwota: 1\n",
      "Nieprzydzielona kwota: 1\n"
     ]
    }
   ],
   "source": [
    "# Jaka kwota bedzie nieprzydzielona po wykonaniu poprzedniej operacji\n",
    "print('Nieprzydzielona kwota:', suma - liczba_rachunkow * (suma // liczba_rachunkow) )\n",
    "\n",
    "# można to też zrobić licząc resztę z dzielenia - operator modulo:\n",
    "print('Nieprzydzielona kwota:', suma % liczba_rachunkow)\n",
    "\n"
   ]
  },
  {
   "cell_type": "code",
   "execution_count": 23,
   "metadata": {},
   "outputs": [
    {
     "name": "stdout",
     "output_type": "stream",
     "text": [
      "Wynik potęgowania x ** y = 8\n"
     ]
    }
   ],
   "source": [
    "# Operację potęgowania\n",
    "x = 2\n",
    "y = 3\n",
    "print('Wynik potęgowania x ** y =', x ** y )"
   ]
  },
  {
   "cell_type": "code",
   "execution_count": 24,
   "metadata": {},
   "outputs": [
    {
     "name": "stdout",
     "output_type": "stream",
     "text": [
      "-9\n",
      "-9\n"
     ]
    }
   ],
   "source": [
    "# Skrócona ważność operatorów: (potęga), (iloczyn, iloraz, reszta z dzielenia, dzielenie całkowite), (suma, różnica)\n",
    "\n",
    "print(3 + (4*5) - (12%5) * (4**2) )\n",
    "\n",
    "# nawiasy są zbędne, gdy działania mają wykonać się wg \"naturalnego, matematycznego porządku:\n",
    "\n",
    "print( 3 + 4*5 - 12%5 * 4**2 )\n"
   ]
  },
  {
   "cell_type": "code",
   "execution_count": 25,
   "metadata": {},
   "outputs": [],
   "source": [
    "# Czy wynik będzie ten sam?"
   ]
  },
  {
   "cell_type": "code",
   "execution_count": 26,
   "metadata": {},
   "outputs": [
    {
     "name": "stdout",
     "output_type": "stream",
     "text": [
      "11\n"
     ]
    }
   ],
   "source": [
    "print(3 + 2 * 4)"
   ]
  },
  {
   "cell_type": "code",
   "execution_count": 27,
   "metadata": {},
   "outputs": [
    {
     "name": "stdout",
     "output_type": "stream",
     "text": [
      "20\n"
     ]
    }
   ],
   "source": [
    "print((3 + 2)* 4)"
   ]
  },
  {
   "cell_type": "code",
   "execution_count": 28,
   "metadata": {},
   "outputs": [
    {
     "ename": "SyntaxError",
     "evalue": "invalid syntax (temp/ipykernel_3896/3868021426.py, line 2)",
     "output_type": "error",
     "traceback": [
      "\u001b[1;36m  File \u001b[1;32m\"C:\\ProgramData\\ING\\Anaconda3\\ing\\temp/ipykernel_3896/3868021426.py\"\u001b[1;36m, line \u001b[1;32m2\u001b[0m\n\u001b[1;33m    = 5\u001b[0m\n\u001b[1;37m    ^\u001b[0m\n\u001b[1;31mSyntaxError\u001b[0m\u001b[1;31m:\u001b[0m invalid syntax\n"
     ]
    }
   ],
   "source": [
    "# SyntaxError\n",
    "= 5"
   ]
  },
  {
   "cell_type": "code",
   "execution_count": 33,
   "metadata": {},
   "outputs": [],
   "source": [
    "# Czy możemy wykonać następne działania?\n",
    "\n",
    "# = to operator przypisania, a nie porównania (==)\n",
    "# przypisać wartość mozemy do czegoś, co może reprezentować nazwę zmiennej \n",
    "# nie da się tego zrobić do stringa / inta / floata\n",
    "\n",
    "# niepoprawnie - próba przypisania wartości do stringa\n",
    "# 'imię' = 1\n",
    "\n",
    "# poprawnie --> imie to dopuszczalna etykietka dla zmiennej\n",
    "# imie = 1\n",
    "\n",
    "# niepoprawnie --> próba przypisania wartości do inta\n",
    "# 1 = 7\n",
    "\n",
    "# poprawnie, aczkolwiek... nieczytelnie, bo co to za zmienna _1 ???\n",
    "_1 = 7\n",
    "\n"
   ]
  },
  {
   "cell_type": "markdown",
   "metadata": {},
   "source": [
    "### Numeryczne typy danych"
   ]
  },
  {
   "cell_type": "code",
   "execution_count": 34,
   "metadata": {},
   "outputs": [
    {
     "name": "stdout",
     "output_type": "stream",
     "text": [
      "<class 'float'>\n",
      "<class 'int'>\n",
      "1053.99966\n",
      "<class 'float'>\n",
      "64.99999\n",
      "<class 'float'>\n",
      "0.9117644117647059\n",
      "<class 'float'>\n"
     ]
    }
   ],
   "source": [
    "# Sprawdź typy następnych zmiennych:\n",
    "saldo = 30.99999\n",
    "kwota_przelewu = 34\n",
    "\n",
    "print(type(saldo))\n",
    "print(type(kwota_przelewu))\n",
    "\n",
    "print(saldo * kwota_przelewu)\n",
    "print(type(saldo * kwota_przelewu))\n",
    "\n",
    "print(saldo + kwota_przelewu)\n",
    "print(type(saldo + kwota_przelewu))\n",
    "\n",
    "print(saldo / kwota_przelewu)\n",
    "print(type(saldo / kwota_przelewu))\n"
   ]
  },
  {
   "cell_type": "code",
   "execution_count": 35,
   "metadata": {},
   "outputs": [
    {
     "name": "stdout",
     "output_type": "stream",
     "text": [
      "Typ zmiennej saldo: <class 'float'>\n",
      "Typ zmiennej kwota_przelewu: <class 'int'>\n"
     ]
    }
   ],
   "source": [
    "print('Typ zmiennej saldo:', type(saldo))\n",
    "print('Typ zmiennej kwota_przelewu:', type(kwota_przelewu))"
   ]
  },
  {
   "cell_type": "code",
   "execution_count": 36,
   "metadata": {},
   "outputs": [
    {
     "name": "stdout",
     "output_type": "stream",
     "text": [
      "<class 'float'>\n",
      "<class 'int'>\n",
      "<class 'int'>\n",
      "<class 'float'>\n"
     ]
    }
   ],
   "source": [
    "# Skonwertuj zmienną kwota_przelewu do typu int:\n",
    "\n",
    "print(type(saldo))\n",
    "saldo = int(saldo)\n",
    "print(type(saldo))\n",
    "\n",
    "print(type(kwota_przelewu))\n",
    "kwota_przelewu = float(kwota_przelewu)\n",
    "print(type(kwota_przelewu))\n"
   ]
  },
  {
   "cell_type": "markdown",
   "metadata": {},
   "source": [
    "# Typy logiczne\n",
    "\n",
    "### bool\n",
    "0. `False`\n",
    "0. `True`\n",
    "\n",
    "### bool-like\n",
    "0. falsy\n",
    "0. truthy\n",
    "\n",
    "### Operatory porównania:\n",
    "0. `<`\n",
    "0. `<=`\n",
    "0. `>`\n",
    "0. `>=`\n",
    "0. `==`\n",
    "0. `!=`\n",
    "\n",
    "### Operatory logiczne:\n",
    "0. `and`\n",
    "0. `or`\n",
    "0. `in`\n",
    "0. `is`\n",
    "0. `not`\n",
    "\n",
    "### Rzutowanie\n",
    "`bool(x)`"
   ]
  },
  {
   "cell_type": "code",
   "execution_count": 37,
   "metadata": {},
   "outputs": [
    {
     "name": "stdout",
     "output_type": "stream",
     "text": [
      "[False, True, True]\n",
      "False\n"
     ]
    }
   ],
   "source": [
    "# Na podstawie egzekucji klienta przypisz flagę windykcji\n",
    "client_executions = [1000, 200, 200]\n",
    "vindication_flag = [x<=200 for x in client_executions]\n",
    "print(vindication_flag)\n",
    "print(all(vindication_flag))\n",
    "\n",
    "# analogie: operator dwuelementowy i funkcja działajaca na kontenerze danych (robią to samo, ale dla różnych ilości argumentów)\n",
    "#   +   --> sum\n",
    "#   and --> all \n",
    "#   or  --> any\n",
    "\n",
    "# vindication_flag = abs(sum(client_executions) - 1400.01 < 0.01)\n",
    "# abs(sum(client_executions) - 1400.01 < 0.01)\n",
    "# vindication_flag\n",
    "\n",
    "# client_executions = [1, 1, 0, 0, 1, 1]\n",
    "\n",
    "# vindication_flag = all(client_executions)\n",
    "\n",
    "# vindication_flag"
   ]
  },
  {
   "cell_type": "code",
   "execution_count": 42,
   "metadata": {},
   "outputs": [
    {
     "data": {
      "text/plain": [
       "False"
      ]
     },
     "execution_count": 42,
     "metadata": {},
     "output_type": "execute_result"
    }
   ],
   "source": [
    "# Na podstawie salda i kwoty transakcji sprawdź czy transakcja może być zrealizowana\n",
    "accout_balance = 5_123.00\n",
    "transaction_amount = 234000.99\n",
    "\n",
    "transaction_possible = transaction_amount <= accout_balance\n",
    "transaction_possible"
   ]
  },
  {
   "cell_type": "code",
   "execution_count": 40,
   "metadata": {},
   "outputs": [
    {
     "data": {
      "text/plain": [
       "False"
      ]
     },
     "execution_count": 40,
     "metadata": {},
     "output_type": "execute_result"
    }
   ],
   "source": [
    "# Na podstawie flagi aktywności rachunku oraz salda i kwoty transakcji sprawdź czy transakcja może być zrealizowana\n",
    "is_account_active = False\n",
    "accout_balance = 5_123.00\n",
    "transaction_amount = 234.99\n",
    "\n",
    "transaction_possible = transaction_amount <= accout_balance and is_account_active\n",
    "transaction_possible"
   ]
  },
  {
   "cell_type": "code",
   "execution_count": 45,
   "metadata": {},
   "outputs": [
    {
     "name": "stdout",
     "output_type": "stream",
     "text": [
      "False\n",
      "True\n",
      "False\n",
      "True\n",
      "False\n",
      "True\n",
      "wariant 1:\n",
      "\n",
      "wariant 2:\n",
      "1\n"
     ]
    }
   ],
   "source": [
    "# bool-like --> python w warunkach logicznych interpretuje str/int/float/obj jako true / false; nie trzeba nawet rzutować na bool\n",
    "\n",
    "# str: '' --> False, niepusty --> True\n",
    "print(bool(''))\n",
    "print(bool('Ala ma kota'))\n",
    "\n",
    "# int: 0 --> False, != 0 --> True\n",
    "print(bool(0))\n",
    "print(bool(-5))\n",
    "\n",
    "# tablica: [] --> False, niepusta --> True\n",
    "print(bool([]))\n",
    "print(bool([[]]))\n",
    "\n",
    "# nie trzeba rzutować, przykład - wypisz ilość elementów tablicy, jeżeli tablica jest niepusta:\n",
    "\n",
    "tablyca = []\n",
    "print('wariant 1:')\n",
    "if tablyca:\n",
    "    print(len(tablyca))\n",
    "\n",
    "print('\\nwariant 2:')\n",
    "tablyca = ['uuu']\n",
    "if tablyca:\n",
    "    print(len(tablyca))\n"
   ]
  },
  {
   "cell_type": "code",
   "execution_count": 46,
   "metadata": {},
   "outputs": [
    {
     "data": {
      "text/plain": [
       "True"
      ]
     },
     "execution_count": 46,
     "metadata": {},
     "output_type": "execute_result"
    }
   ],
   "source": [
    "# rzutowanie na typ logiczny\n",
    "bool('a')"
   ]
  },
  {
   "cell_type": "markdown",
   "metadata": {},
   "source": [
    "# Łańcuchy znaków\n",
    "\n",
    "### String\n",
    "0. `'string'`\n",
    "0. `\"string\"`\n",
    "0. `\"\"\"str\n",
    "    ing\"\"\"`\n",
    "\n",
    "### Znak wyjścia\n",
    "0. `\\'`\n",
    "0. `\\\"`\n",
    "\n",
    "### Konkatenacja\n",
    "`string_1 + string_2`\n",
    "\n",
    "### Slicing\n",
    "`string[start:stop:step]`\n",
    "\n",
    "### Rzutowanie\n",
    "`str(x)`"
   ]
  },
  {
   "cell_type": "code",
   "execution_count": 47,
   "metadata": {},
   "outputs": [
    {
     "data": {
      "text/plain": [
       "'k'"
      ]
     },
     "execution_count": 47,
     "metadata": {},
     "output_type": "execute_result"
    }
   ],
   "source": [
    "# Stworzenie loginu - końcowa liczba to iloczyn wieku klienta i magicznej liczby\n",
    "first_name = \"Jan\"\n",
    "last_name = \"Ingowski\"\n",
    "age = 34\n",
    "magic_number = 91\n",
    "\n",
    "customer_login = first_name[:-2] + last_name[:3] + str(age * magic_number)\n",
    "last_name[-2]"
   ]
  },
  {
   "cell_type": "code",
   "execution_count": 49,
   "metadata": {},
   "outputs": [
    {
     "data": {
      "text/plain": [
       "'0012343252'"
      ]
     },
     "execution_count": 49,
     "metadata": {},
     "output_type": "execute_result"
    }
   ],
   "source": [
    "# Uzupełnienie numeru rachunku do 10 znaków (wiodącymi zerami)\n",
    "account_number = 12343252\n",
    "len(str(account_number))\n",
    "\n",
    "account_number_str = (( 10 - len(str(account_number)) ) * '0' + str(account_number))\n",
    "# str(account_number).zfill(10) \n",
    "account_number_str"
   ]
  },
  {
   "cell_type": "code",
   "execution_count": 50,
   "metadata": {},
   "outputs": [
    {
     "name": "stdout",
     "output_type": "stream",
     "text": [
      "ArithmeticError \n",
      "asdasfdafaa\n",
      "adsfasdfasdfas\n",
      "adfasdfasdfasfd\n",
      "afdafdsaasda\n",
      "\n"
     ]
    },
    {
     "ename": "NameError",
     "evalue": "name 'index' is not defined",
     "output_type": "error",
     "traceback": [
      "\u001b[1;31m---------------------------------------------------------------------------\u001b[0m",
      "\u001b[1;31mNameError\u001b[0m                                 Traceback (most recent call last)",
      "\u001b[1;32mC:\\ProgramData\\ING\\Anaconda3\\ing\\temp/ipykernel_3896/3731355573.py\u001b[0m in \u001b[0;36m<module>\u001b[1;34m\u001b[0m\n\u001b[0;32m      6\u001b[0m \"\"\")\n\u001b[0;32m      7\u001b[0m \u001b[1;33m\u001b[0m\u001b[0m\n\u001b[1;32m----> 8\u001b[1;33m \u001b[0mindex\u001b[0m\u001b[1;33m\u001b[0m\u001b[1;33m\u001b[0m\u001b[0m\n\u001b[0m\u001b[0;32m      9\u001b[0m \u001b[0mreplace\u001b[0m\u001b[1;33m\u001b[0m\u001b[1;33m\u001b[0m\u001b[0m\n\u001b[0;32m     10\u001b[0m \u001b[0mjoin\u001b[0m\u001b[1;33m\u001b[0m\u001b[1;33m\u001b[0m\u001b[0m\n",
      "\u001b[1;31mNameError\u001b[0m: name 'index' is not defined"
     ]
    }
   ],
   "source": [
    "print(\"\"\"ArithmeticError \n",
    "asdasfdafaa\n",
    "adsfasdfasdfas\n",
    "adfasdfasdfasfd\n",
    "afdafdsaasda\n",
    "\"\"\")"
   ]
  },
  {
   "cell_type": "code",
   "execution_count": 55,
   "metadata": {},
   "outputs": [
    {
     "name": "stdout",
     "output_type": "stream",
     "text": [
      "4\n",
      "2\n",
      "5\n",
      "Ala ma kota\n",
      "Ala;ma;kota\n",
      "Ala_separator_ma_separator_kota\n",
      "['Abrakadabra']\n",
      "['Abr', 'k', 'd', 'br', '']\n"
     ]
    }
   ],
   "source": [
    "# index, join, split, \n",
    "\n",
    "# index - zwraca pozycję pierwszego wystąpienia substringa w stringu; jeżeli nie ma --> błąd\n",
    "s = 'Ala ma kota'\n",
    "print(s.index('ma'))\n",
    "\n",
    "# opcjonalny argument zawęża zakres poszukiwań (od, do)\n",
    "print(s.index('a')) # znajdzie pierwsze wystąpienie 'a'\n",
    "print(s.index('a', 4)) # znajdzie pierwsze wystąpienie 'a' po 4 znaku\n",
    "\n",
    "\n",
    "# join - łączy zestaw tekstów w jeden z użyciem substringa jako separatora\n",
    "\n",
    "teksty = ['Ala', 'ma', 'kota']\n",
    "print(\" \".join(teksty) )\n",
    "print(\";\".join(teksty) )\n",
    "print(\"_separator_\".join(teksty) )\n",
    "\n",
    "# split - dzieli tekst na fragmenty używając podanego substringa jako wskazanie miejsc cięcia; zwraca listę tesktów\n",
    "\n",
    "s = 'Abrakadabra'\n",
    "print(s.split('u'))\n",
    "print(s.split('a'))\n"
   ]
  },
  {
   "cell_type": "markdown",
   "metadata": {},
   "source": [
    "### Sekwencje"
   ]
  },
  {
   "cell_type": "markdown",
   "metadata": {},
   "source": [
    "#### tuple - tworzenie"
   ]
  },
  {
   "cell_type": "code",
   "execution_count": 57,
   "metadata": {},
   "outputs": [
    {
     "name": "stdout",
     "output_type": "stream",
     "text": [
      "(50.265196, 19.018155)\n"
     ]
    },
    {
     "ename": "TypeError",
     "evalue": "'tuple' object does not support item assignment",
     "output_type": "error",
     "traceback": [
      "\u001b[1;31m---------------------------------------------------------------------------\u001b[0m",
      "\u001b[1;31mTypeError\u001b[0m                                 Traceback (most recent call last)",
      "\u001b[1;32mC:\\ProgramData\\ING\\Anaconda3\\ing\\temp/ipykernel_3896/3144499011.py\u001b[0m in \u001b[0;36m<module>\u001b[1;34m\u001b[0m\n\u001b[0;32m      7\u001b[0m \u001b[1;31m# próba zmiany pojedynczego elementu --> błąd\u001b[0m\u001b[1;33m\u001b[0m\u001b[1;33m\u001b[0m\u001b[0m\n\u001b[0;32m      8\u001b[0m \u001b[1;33m\u001b[0m\u001b[0m\n\u001b[1;32m----> 9\u001b[1;33m \u001b[0msokolska_34_gps\u001b[0m\u001b[1;33m[\u001b[0m\u001b[1;36m0\u001b[0m\u001b[1;33m]\u001b[0m \u001b[1;33m=\u001b[0m \u001b[1;33m-\u001b[0m\u001b[1;36m1\u001b[0m\u001b[1;33m\u001b[0m\u001b[1;33m\u001b[0m\u001b[0m\n\u001b[0m",
      "\u001b[1;31mTypeError\u001b[0m: 'tuple' object does not support item assignment"
     ]
    }
   ],
   "source": [
    "# Stwórz krotkę, która zawiera współrzędne GPS budynku ING na Sokolskiej 34 w Katowicach: 50.265196, 19.018155\n",
    "# Krotka - uporządkowana (można sie odwoływać do elementów numerem kolejnym jako indeksem), niezmiennicza (nie da się edytować pojedynczych elementów), hashowalna\n",
    "sokolska_34_gps = (50.265196, 19.018155)\n",
    "\n",
    "print(sokolska_34_gps)\n",
    "\n",
    "# próba zmiany pojedynczego elementu --> błąd\n",
    "\n",
    "sokolska_34_gps[0] = -1\n"
   ]
  },
  {
   "cell_type": "markdown",
   "metadata": {},
   "source": [
    "#### list - tworzenie"
   ]
  },
  {
   "cell_type": "code",
   "execution_count": 58,
   "metadata": {},
   "outputs": [
    {
     "data": {
      "text/plain": [
       "['Klotylda', 'Bombulda', 12314132, 78.9]"
      ]
     },
     "execution_count": 58,
     "metadata": {},
     "output_type": "execute_result"
    }
   ],
   "source": [
    "# Stwórz listę, która zawiera imię, nazwisko, numer klienta, wiek\n",
    "imie = 'Klotylda'\n",
    "nazwisko = 'Bombulda'\n",
    "nr_klienta = 12314132\n",
    "wiek = 78.9\n",
    "client_features = [imie, nazwisko, nr_klienta, wiek]\n",
    "client_features"
   ]
  },
  {
   "cell_type": "markdown",
   "metadata": {},
   "source": [
    "#### tuple, list - indeksowanie, członkostwo, długość"
   ]
  },
  {
   "cell_type": "code",
   "execution_count": 59,
   "metadata": {},
   "outputs": [
    {
     "name": "stdout",
     "output_type": "stream",
     "text": [
      "Klotylda Bombulda 78.9 lata\n"
     ]
    }
   ],
   "source": [
    "# Znajdź pierwszy, drugi i ostatni element utworzonej wcześniej listy\n",
    "first_name = client_features[0]\n",
    "last_name = client_features[1]\n",
    "age = client_features[-1]\n",
    "print(first_name, last_name, age, \"lata\")"
   ]
  },
  {
   "cell_type": "code",
   "execution_count": 60,
   "metadata": {},
   "outputs": [
    {
     "data": {
      "text/plain": [
       "4"
      ]
     },
     "execution_count": 60,
     "metadata": {},
     "output_type": "execute_result"
    }
   ],
   "source": [
    "# Sprawdź długość listy client_features\n",
    "len(client_features)"
   ]
  },
  {
   "cell_type": "code",
   "execution_count": 61,
   "metadata": {},
   "outputs": [
    {
     "data": {
      "text/plain": [
       "False"
      ]
     },
     "execution_count": 61,
     "metadata": {},
     "output_type": "execute_result"
    }
   ],
   "source": [
    "# Sprawdź czy wartość 25 jest w client_features\n",
    "25 in client_features"
   ]
  },
  {
   "cell_type": "code",
   "execution_count": 63,
   "metadata": {},
   "outputs": [
    {
     "name": "stdout",
     "output_type": "stream",
     "text": [
      "['Klotylda', 'Bombulda', 12314132, 78.9]\n"
     ]
    },
    {
     "data": {
      "text/plain": [
       "1"
      ]
     },
     "execution_count": 63,
     "metadata": {},
     "output_type": "execute_result"
    }
   ],
   "source": [
    "# Sprawdź pozycję pierwszego wystąpienia wartości 25\n",
    "print(client_features)\n",
    "client_features.index('Bombulda')"
   ]
  },
  {
   "cell_type": "code",
   "execution_count": 195,
   "metadata": {},
   "outputs": [
    {
     "data": {
      "text/plain": [
       "1"
      ]
     },
     "execution_count": 195,
     "metadata": {},
     "output_type": "execute_result"
    }
   ],
   "source": [
    "# Sprawdź liczbę wystąpień wartości 25 w sekwencji\n",
    "client_features.count((50.265196, 19.018155))"
   ]
  },
  {
   "cell_type": "markdown",
   "metadata": {},
   "source": [
    "#### tuple, list - konkatenacja (łączenie)"
   ]
  },
  {
   "cell_type": "code",
   "execution_count": 72,
   "metadata": {},
   "outputs": [],
   "source": [
    "# MOCNO POLECAM OFICJALNĄ DOKUMENTACJĘ:\n",
    "\n",
    "# https://docs.python.org/3/tutorial/datastructures.html"
   ]
  },
  {
   "cell_type": "code",
   "execution_count": 64,
   "metadata": {},
   "outputs": [
    {
     "data": {
      "text/plain": [
       "['Jerzy', 'Mateusz', 'Robert', 'Alicja', 'Monika', 'Natalia']"
      ]
     },
     "execution_count": 64,
     "metadata": {},
     "output_type": "execute_result"
    }
   ],
   "source": [
    "# Połącz listę klientów z 03.08 i z 04.08\n",
    "clients_03_08 = ['Alicja', 'Monika', 'Natalia']\n",
    "clients_04_08 = ['Jerzy', 'Mateusz', 'Robert']\n",
    "clients_04_08 + clients_03_08\n"
   ]
  },
  {
   "cell_type": "code",
   "execution_count": 65,
   "metadata": {},
   "outputs": [
    {
     "data": {
      "text/plain": [
       "[100, 200, 100, 200, 100, 200]"
      ]
     },
     "execution_count": 65,
     "metadata": {},
     "output_type": "execute_result"
    }
   ],
   "source": [
    "# Stwórz listę z powtórzonej sekwencji elementów wykorzystując operator mnożenia\n",
    "lista = [100, 200]\n",
    "lista_new = lista * 3\n",
    "lista_new\n",
    "# [100,200,100,200,100,200]"
   ]
  },
  {
   "cell_type": "markdown",
   "metadata": {},
   "source": [
    "#### list - modyfikacja"
   ]
  },
  {
   "cell_type": "code",
   "execution_count": 66,
   "metadata": {},
   "outputs": [
    {
     "name": "stdout",
     "output_type": "stream",
     "text": [
      "[]\n"
     ]
    },
    {
     "data": {
      "text/plain": [
       "list"
      ]
     },
     "execution_count": 66,
     "metadata": {},
     "output_type": "execute_result"
    }
   ],
   "source": [
    "# Stwórz pustą listę, która będzie zawierała nazwy kont nowego klienta\n",
    "konta = [] \n",
    "print(konta)\n",
    "type(konta)"
   ]
  },
  {
   "cell_type": "code",
   "execution_count": 67,
   "metadata": {},
   "outputs": [
    {
     "name": "stdout",
     "output_type": "stream",
     "text": [
      "['Direct', 'Komfort']\n"
     ]
    }
   ],
   "source": [
    "# Dodaj nazwę konta Direct i nazwę konta Komfort do listy\n",
    "konta.append('Direct')\n",
    "konta.append('Komfort')\n",
    "\n",
    "print(konta)"
   ]
  },
  {
   "cell_type": "code",
   "execution_count": 68,
   "metadata": {},
   "outputs": [
    {
     "data": {
      "text/plain": [
       "['Mobi', 'Direct', 'Komfort']"
      ]
     },
     "execution_count": 68,
     "metadata": {},
     "output_type": "execute_result"
    }
   ],
   "source": [
    "# Dodaj nazwę konta Mobi do listy, żeby nazwa Mobi znajdowała się na pierwszej pozycji\n",
    "konta = [ ]\n",
    "konta.append('Direct')\n",
    "konta.append('Komfort')\n",
    "konta.insert(0, 'Mobi')\n",
    "konta\n"
   ]
  },
  {
   "cell_type": "code",
   "execution_count": 70,
   "metadata": {},
   "outputs": [
    {
     "name": "stdout",
     "output_type": "stream",
     "text": [
      "[1, 2, 3, 4]\n",
      "[1, 2, 3, 4, 5]\n",
      "[1, 2, 3, 4, 5, 7]\n",
      "[1, 2, 3, 4, 5, 7, 8]\n"
     ]
    },
    {
     "ename": "AttributeError",
     "evalue": "'NoneType' object has no attribute 'append'",
     "output_type": "error",
     "traceback": [
      "\u001b[1;31m---------------------------------------------------------------------------\u001b[0m",
      "\u001b[1;31mAttributeError\u001b[0m                            Traceback (most recent call last)",
      "\u001b[1;32mC:\\ProgramData\\ING\\Anaconda3\\ing\\temp/ipykernel_3896/3439081518.py\u001b[0m in \u001b[0;36m<module>\u001b[1;34m\u001b[0m\n\u001b[0;32m      7\u001b[0m \u001b[0ma\u001b[0m\u001b[1;33m.\u001b[0m\u001b[0minsert\u001b[0m\u001b[1;33m(\u001b[0m\u001b[1;36m8\u001b[0m\u001b[1;33m,\u001b[0m\u001b[1;36m8\u001b[0m\u001b[1;33m)\u001b[0m\u001b[1;33m\u001b[0m\u001b[1;33m\u001b[0m\u001b[0m\n\u001b[0;32m      8\u001b[0m \u001b[0mprint\u001b[0m\u001b[1;33m(\u001b[0m\u001b[0ma\u001b[0m\u001b[1;33m)\u001b[0m\u001b[1;33m\u001b[0m\u001b[1;33m\u001b[0m\u001b[0m\n\u001b[1;32m----> 9\u001b[1;33m \u001b[0ma\u001b[0m\u001b[1;33m.\u001b[0m\u001b[0mappend\u001b[0m\u001b[1;33m(\u001b[0m\u001b[1;36m10\u001b[0m\u001b[1;33m)\u001b[0m\u001b[1;33m.\u001b[0m\u001b[0mappend\u001b[0m\u001b[1;33m(\u001b[0m\u001b[1;36m12\u001b[0m\u001b[1;33m)\u001b[0m\u001b[1;33m\u001b[0m\u001b[1;33m\u001b[0m\u001b[0m\n\u001b[0m\u001b[0;32m     10\u001b[0m \u001b[1;33m\u001b[0m\u001b[0m\n\u001b[0;32m     11\u001b[0m \u001b[0ma\u001b[0m\u001b[1;33m\u001b[0m\u001b[1;33m\u001b[0m\u001b[0m\n",
      "\u001b[1;31mAttributeError\u001b[0m: 'NoneType' object has no attribute 'append'"
     ]
    }
   ],
   "source": [
    "a = [1, 2, 3, 4]\n",
    "print(a)\n",
    "a.append(5)\n",
    "print(a)\n",
    "a.insert(100,7)\n",
    "print(a)\n",
    "a.insert(8,8)\n",
    "print(a)\n",
    "a.append(10).append(12)\n",
    "\n",
    "a"
   ]
  },
  {
   "cell_type": "code",
   "execution_count": 71,
   "metadata": {},
   "outputs": [
    {
     "name": "stdout",
     "output_type": "stream",
     "text": [
      "['Mobi', 'Mobi', 'Direct', 'Komfort']\n",
      "['Konto_USD', 'Mobi', 'Direct', 'Komfort']\n"
     ]
    }
   ],
   "source": [
    "# Zamień nazwę konta Mobi na konto walutowe\n",
    "konta = [ ]\n",
    "konta.append('Direct')\n",
    "konta.append('Komfort')\n",
    "konta.insert(0, 'Mobi')\n",
    "konta.insert(0, 'Mobi')\n",
    "print(konta)\n",
    "\n",
    "# znajdż indeks, odwołaj się do wartości listy po indeksie, przypisz nową wartość\n",
    "index = konta.index('Mobi')\n",
    "konta[index] = 'Konto_USD'\n",
    "print(konta)\n"
   ]
  },
  {
   "cell_type": "code",
   "execution_count": 254,
   "metadata": {},
   "outputs": [
    {
     "ename": "AttributeError",
     "evalue": "'list' object has no attribute 'replace'",
     "output_type": "error",
     "traceback": [
      "\u001b[1;31m---------------------------------------------------------------------------\u001b[0m",
      "\u001b[1;31mAttributeError\u001b[0m                            Traceback (most recent call last)",
      "\u001b[1;32mC:\\ProgramData\\ING\\Anaconda3\\ing\\temp/ipykernel_15824/1028987933.py\u001b[0m in \u001b[0;36m<module>\u001b[1;34m\u001b[0m\n\u001b[0;32m      3\u001b[0m \u001b[0mkonta\u001b[0m\u001b[1;33m.\u001b[0m\u001b[0mappend\u001b[0m\u001b[1;33m(\u001b[0m\u001b[1;34m'Komfort'\u001b[0m\u001b[1;33m)\u001b[0m\u001b[1;33m\u001b[0m\u001b[1;33m\u001b[0m\u001b[0m\n\u001b[0;32m      4\u001b[0m \u001b[0mkonta\u001b[0m\u001b[1;33m.\u001b[0m\u001b[0minsert\u001b[0m\u001b[1;33m(\u001b[0m\u001b[1;36m0\u001b[0m\u001b[1;33m,\u001b[0m \u001b[1;34m'Mobi'\u001b[0m\u001b[1;33m)\u001b[0m\u001b[1;33m\u001b[0m\u001b[1;33m\u001b[0m\u001b[0m\n\u001b[1;32m----> 5\u001b[1;33m \u001b[0mkonta\u001b[0m\u001b[1;33m.\u001b[0m\u001b[0mreplace\u001b[0m\u001b[1;33m(\u001b[0m\u001b[1;34m'Mobi'\u001b[0m\u001b[1;33m,\u001b[0m \u001b[1;34m'Bobi'\u001b[0m\u001b[1;33m)\u001b[0m\u001b[1;33m\u001b[0m\u001b[1;33m\u001b[0m\u001b[0m\n\u001b[0m\u001b[0;32m      6\u001b[0m \u001b[0mkonta\u001b[0m\u001b[1;33m\u001b[0m\u001b[1;33m\u001b[0m\u001b[0m\n",
      "\u001b[1;31mAttributeError\u001b[0m: 'list' object has no attribute 'replace'"
     ]
    }
   ],
   "source": [
    "konta = [ ]\n",
    "konta.append('Direct')\n",
    "konta.append('Komfort')\n",
    "konta.insert(0, 'Mobi')\n",
    "konta.replace('Mobi', 'Bobi')\n",
    "konta"
   ]
  },
  {
   "cell_type": "code",
   "execution_count": 73,
   "metadata": {},
   "outputs": [
    {
     "name": "stdout",
     "output_type": "stream",
     "text": [
      "['Mobi', 'Direct', 'Komfort', 'Direct']\n",
      "wejście w pętlę\n",
      "Iteracja:\n",
      "przed:\n",
      "['Mobi', 'Direct', 'Komfort', 'Direct']\n",
      "Po:\n",
      "['Mobi', 'Komfort', 'Direct']\n",
      "Iteracja:\n",
      "przed:\n",
      "['Mobi', 'Komfort', 'Direct']\n",
      "Po:\n",
      "['Mobi', 'Komfort']\n",
      "Po pętli:\n",
      "['Mobi', 'Komfort']\n"
     ]
    }
   ],
   "source": [
    "# Usuń konto Direct z listy\n",
    "konta = [ ]\n",
    "konta.append('Direct')\n",
    "konta.append('Komfort')\n",
    "konta.insert(0, 'Mobi')\n",
    "konta.append('Direct')\n",
    "\n",
    "print(konta)\n",
    "\n",
    "print('wejście w pętlę')\n",
    "while('Direct' in konta):\n",
    "    print(\"Iteracja:\")\n",
    "    print(\"przed:\")\n",
    "    print(konta)\n",
    "    konta.remove('Direct')\n",
    "    print('Po:')\n",
    "    print(konta)\n",
    "\n",
    "print('Po pętli:')\n",
    "print(konta)"
   ]
  },
  {
   "cell_type": "code",
   "execution_count": 74,
   "metadata": {},
   "outputs": [
    {
     "name": "stdout",
     "output_type": "stream",
     "text": [
      "['Mobi', 'Direct', 'Komfort', 'Walutowe_eur', 'Walutowe_usd']\n"
     ]
    }
   ],
   "source": [
    "# Dodaj do listy 2 nowe konta: Walutowe_eur, Walutowe_usd\n",
    "konta = [ ]\n",
    "konta.append('Direct')\n",
    "konta.append('Komfort')\n",
    "konta.insert(0, 'Mobi')\n",
    "konta += ['Walutowe_eur', 'Walutowe_usd']\n",
    "print(konta)"
   ]
  },
  {
   "cell_type": "code",
   "execution_count": 75,
   "metadata": {},
   "outputs": [
    {
     "name": "stdout",
     "output_type": "stream",
     "text": [
      "['Direct']\n",
      "[]\n"
     ]
    }
   ],
   "source": [
    "# Usuń wszytskie elementy listy\n",
    "konta = [ ]\n",
    "konta.append('Direct')\n",
    "print(konta)\n",
    "konta.clear()\n",
    "print(konta)\n"
   ]
  },
  {
   "cell_type": "markdown",
   "metadata": {},
   "source": [
    "#### zmienne jako referencje"
   ]
  },
  {
   "cell_type": "code",
   "execution_count": 76,
   "metadata": {},
   "outputs": [
    {
     "name": "stdout",
     "output_type": "stream",
     "text": [
      "['Mobi', 'Direct', 'Oko']\n",
      "['Mobi', 'Direct', 'Oko']\n"
     ]
    }
   ],
   "source": [
    "# Stwórz listę z nazwami kont dla klienta 1, klienta 2 ma takie same konta.\n",
    "# Przypisz zmmienną klienta 1  do  zmiennej klienta 2.\n",
    "client_1  = ['Mobi', 'Direct', 'Oko']\n",
    "client_2 = client_1\n",
    "print(client_1)\n",
    "print(client_2)\n"
   ]
  },
  {
   "cell_type": "code",
   "execution_count": 77,
   "metadata": {},
   "outputs": [],
   "source": [
    "# Dodaj nazwę konta Direct do listy klienta 1\n",
    "client_1.append('USD1')\n",
    "client_2.append('USD2')\n",
    "\n"
   ]
  },
  {
   "cell_type": "code",
   "execution_count": 78,
   "metadata": {},
   "outputs": [
    {
     "name": "stdout",
     "output_type": "stream",
     "text": [
      "['Mobi', 'Direct', 'Oko', 'USD1', 'USD2']\n",
      "['Mobi', 'Direct', 'Oko', 'USD1', 'USD2']\n"
     ]
    }
   ],
   "source": [
    "# Czy zmiany widoczne są w obydwu zmiennych.\n",
    "print(client_1)\n",
    "print(client_2)\n",
    "\n"
   ]
  },
  {
   "cell_type": "markdown",
   "metadata": {},
   "source": [
    "#### list - klonowanie"
   ]
  },
  {
   "cell_type": "code",
   "execution_count": 79,
   "metadata": {},
   "outputs": [
    {
     "name": "stdout",
     "output_type": "stream",
     "text": [
      "['Mobi', 'Direct', 'Oko']\n",
      "['Mobi', 'Direct', 'Oko']\n"
     ]
    }
   ],
   "source": [
    "# Stworzymy listę z nazwami kont dla klienta 1, klienta 2 ma takie same konta.\n",
    "# Sklonuj zmmienną klienta 1  do  zmiennej klienta 2.\n",
    "client_1  = ['Mobi', 'Direct', 'Oko']\n",
    "client_2 = client_1.copy()\n",
    "print(client_1)\n",
    "print(client_2)\n"
   ]
  },
  {
   "cell_type": "code",
   "execution_count": 80,
   "metadata": {},
   "outputs": [],
   "source": [
    "# Dodajemy nazwe konta Direct do listy klienta 1\n",
    "client_1.append('USD1')\n",
    "client_2.append('USD2')\n"
   ]
  },
  {
   "cell_type": "code",
   "execution_count": 81,
   "metadata": {},
   "outputs": [
    {
     "name": "stdout",
     "output_type": "stream",
     "text": [
      "['Mobi', 'Direct', 'Oko', 'USD1']\n",
      "['Mobi', 'Direct', 'Oko', 'USD2']\n"
     ]
    }
   ],
   "source": [
    "# Czy zmiany widoczne są w obydwu zmiennych.\n",
    "print(client_1)\n",
    "print(client_2)\n"
   ]
  },
  {
   "cell_type": "code",
   "execution_count": 83,
   "metadata": {},
   "outputs": [
    {
     "name": "stdout",
     "output_type": "stream",
     "text": [
      "Przed zmianą:\n",
      "[['Direct', 100], ['Oko', 15000]]\n",
      "[['Direct', 100], ['Oko', 15000]]\n",
      "Po zmianie:\n",
      "[['Direct', 300], ['Oko', 15000]]\n",
      "[['Direct', 300], ['Oko', 15000]]\n",
      "Przed zmianą:\n",
      "[['Direct', 300], ['Oko', 15000]]\n",
      "[['Direct', 300], ['Oko', 15000]]\n",
      "Po zmianie:\n",
      "[['Direct', 500], ['Oko', 15000]]\n",
      "[['Direct', 300], ['Oko', 15000]]\n"
     ]
    }
   ],
   "source": [
    "klient1 = [ ['Direct',100], ['Oko', 15000] ]\n",
    "\n",
    "# płytkie kopiowanie --> nie wchodzimy w dalsze poziomy kopiowanych stroktur, kopiujemy jedynie referencje\n",
    "\n",
    "# zagnieżdżony obiekt jest zmodyfikowany zarówno na pierwszym, jak i drugim kliencie\n",
    "klient2 = klient1.copy()\n",
    "print('Przed zmianą:')\n",
    "print(klient1)\n",
    "print(klient2)\n",
    "# zmieniamy saldo na koncie 'Direct' pierwszego klienta\n",
    "klient1[0][1] += 200\n",
    "print('Po zmianie:')\n",
    "print(klient1)\n",
    "print(klient2)\n",
    "\n",
    "# głębokie kopiowanie - zapewnia pełną niezależnosć kopii od obiektu kopiowanego\n",
    "# zagnieżdżony obiekt jest zmodyfikowany tylko na pierwszym kliencie\n",
    "\n",
    "from copy import deepcopy\n",
    "\n",
    "klient2 = deepcopy(klient1)\n",
    "print('Przed zmianą:')\n",
    "print(klient1)\n",
    "print(klient2)\n",
    "# zmieniamy saldo na koncie 'Direct' pierwszego klienta\n",
    "klient1[0][1] += 200\n",
    "print('Po zmianie:')\n",
    "print(klient1)\n",
    "print(klient2)"
   ]
  },
  {
   "cell_type": "markdown",
   "metadata": {},
   "source": [
    "#### tuple, list - fragmenty (slicing)"
   ]
  },
  {
   "cell_type": "code",
   "execution_count": 85,
   "metadata": {},
   "outputs": [],
   "source": [
    "# Stwórz listę imion klientów\n",
    "lista_klientow = ['Ala', 'Ola', 'Ula', 'Ela', 'Mela', 'Zela', 'Fela']"
   ]
  },
  {
   "cell_type": "code",
   "execution_count": 86,
   "metadata": {},
   "outputs": [
    {
     "data": {
      "text/plain": [
       "['Ula', 'Ela', 'Mela']"
      ]
     },
     "execution_count": 86,
     "metadata": {},
     "output_type": "execute_result"
    }
   ],
   "source": [
    "# Wyświetl elementy listy od 2 (wliczjąc 2 element) do 5 (nie wliczając 5 element)\n",
    "lista_klientow[2:5]"
   ]
  },
  {
   "cell_type": "code",
   "execution_count": 88,
   "metadata": {},
   "outputs": [
    {
     "data": {
      "text/plain": [
       "['Ula', 'Ela', 'Mela']"
      ]
     },
     "execution_count": 88,
     "metadata": {},
     "output_type": "execute_result"
    }
   ],
   "source": [
    "# Wyświetl elementy listy od 2 (wliczjąc 2 element) do 5 (nie wliczając 5 element), używając ujemnych wartości\n",
    "lista_klientow[-5:-2]"
   ]
  },
  {
   "cell_type": "code",
   "execution_count": 89,
   "metadata": {},
   "outputs": [
    {
     "data": {
      "text/plain": [
       "['Ala', 'Ula', 'Mela', 'Fela']"
      ]
     },
     "execution_count": 89,
     "metadata": {},
     "output_type": "execute_result"
    }
   ],
   "source": [
    "# Wyswietl co 2 element listy, zaczynając od 1 elementu\n",
    "lista_klientow[::2]"
   ]
  },
  {
   "cell_type": "code",
   "execution_count": 91,
   "metadata": {},
   "outputs": [
    {
     "name": "stdout",
     "output_type": "stream",
     "text": [
      "['Ala', 'Ola', 'Ula', 'Ela', 'Mela', 'Zela', 'Fela']\n",
      "['Fela', 'Zela', 'Mela', 'Ela', 'Ula', 'Ola', 'Ala']\n",
      "['Ala', 'Ola', 'Ula', 'Ela', 'Mela', 'Zela', 'Fela']\n"
     ]
    }
   ],
   "source": [
    "# Odwróć kolejność elementów listy\n",
    "print(lista_klientow[::-1])\n",
    "print(lista_klientow)\n",
    "lista_klientow.reverse()\n",
    "print(lista_klientow)\n"
   ]
  },
  {
   "cell_type": "markdown",
   "metadata": {},
   "source": [
    "#### tuple, list - konwersje, zakresy"
   ]
  },
  {
   "cell_type": "code",
   "execution_count": 92,
   "metadata": {},
   "outputs": [
    {
     "name": "stdout",
     "output_type": "stream",
     "text": [
      "('Ala', 'Ola', 'Ula', 'Ela', 'Mela', 'Zela', 'Fela')\n",
      "['Ala', 'Ola', 'Ula', 'Ela', 'Mela', 'Zela', 'Fela']\n"
     ]
    }
   ],
   "source": [
    "# Stwórz listę na bazie krotki z numerami klientów\n",
    "krotka_klientow = tuple(lista_klientow)\n",
    "print(krotka_klientow)\n",
    "nowa_lista_klientow = list(krotka_klientow)\n",
    "print(nowa_lista_klientow)\n"
   ]
  },
  {
   "cell_type": "code",
   "execution_count": null,
   "metadata": {},
   "outputs": [],
   "source": [
    "# Stwórz krotkę  na bazie listy z numerami klientów"
   ]
  },
  {
   "cell_type": "code",
   "execution_count": 93,
   "metadata": {},
   "outputs": [
    {
     "data": {
      "text/plain": [
       "['I', 'N', 'G']"
      ]
     },
     "execution_count": 93,
     "metadata": {},
     "output_type": "execute_result"
    }
   ],
   "source": [
    "# Stwórz listę na bazie napisu \"ING\"\n",
    "list('ING')"
   ]
  },
  {
   "cell_type": "code",
   "execution_count": 95,
   "metadata": {},
   "outputs": [
    {
     "name": "stdout",
     "output_type": "stream",
     "text": [
      "(0, 1, 2, 3, 4)\n",
      "(0, 1, 2, 3, 4)\n",
      "(0, 1, 2, 3, 4)\n"
     ]
    }
   ],
   "source": [
    "# Stwórz krotkę zawierająca pięć pierwszych liczb naturalnych (licząc od zera).\n",
    "print( (0, 1, 2, 3, 4) )\n",
    "print( tuple(range(5)) )\n",
    "print( tuple(x for x in range(5)) )\n",
    "\n"
   ]
  },
  {
   "cell_type": "code",
   "execution_count": 96,
   "metadata": {},
   "outputs": [
    {
     "data": {
      "text/plain": [
       "[1, 2, 3, 4, 5]"
      ]
     },
     "execution_count": 96,
     "metadata": {},
     "output_type": "execute_result"
    }
   ],
   "source": [
    "# Stwórz listę pierwszych pięciu liczb naturalnych licząc od jeden.\n",
    "list(range(1,6))"
   ]
  },
  {
   "cell_type": "code",
   "execution_count": 97,
   "metadata": {},
   "outputs": [
    {
     "data": {
      "text/plain": [
       "(2,\n",
       " 4,\n",
       " 6,\n",
       " 8,\n",
       " 10,\n",
       " 12,\n",
       " 14,\n",
       " 16,\n",
       " 18,\n",
       " 20,\n",
       " 22,\n",
       " 24,\n",
       " 26,\n",
       " 28,\n",
       " 30,\n",
       " 32,\n",
       " 34,\n",
       " 36,\n",
       " 38,\n",
       " 40,\n",
       " 42,\n",
       " 44,\n",
       " 46,\n",
       " 48,\n",
       " 50,\n",
       " 52,\n",
       " 54,\n",
       " 56,\n",
       " 58,\n",
       " 60,\n",
       " 62,\n",
       " 64,\n",
       " 66,\n",
       " 68,\n",
       " 70,\n",
       " 72,\n",
       " 74,\n",
       " 76,\n",
       " 78,\n",
       " 80,\n",
       " 82,\n",
       " 84,\n",
       " 86,\n",
       " 88,\n",
       " 90,\n",
       " 92,\n",
       " 94,\n",
       " 96,\n",
       " 98)"
      ]
     },
     "execution_count": 97,
     "metadata": {},
     "output_type": "execute_result"
    }
   ],
   "source": [
    "# Stwórz krotkę zawierająca liczby parzyste zaczynające się od 2\n",
    "tuple( range(2,100, 2))"
   ]
  },
  {
   "cell_type": "markdown",
   "metadata": {},
   "source": [
    "#### tuple, list - porządek, sortowanie"
   ]
  },
  {
   "cell_type": "code",
   "execution_count": 99,
   "metadata": {},
   "outputs": [
    {
     "name": "stdout",
     "output_type": "stream",
     "text": [
      "True\n",
      "False\n"
     ]
    }
   ],
   "source": [
    "# Sprawdź czy kwoty przełewów, które zawiera lista 1 równe kwotom przełewów w liście 2\n",
    "lista_1 = [100, 200, 200, 100]\n",
    "lista_2 = [100, 200, 200, 100]\n",
    "\n",
    "print(lista_1 == lista_2)\n",
    "\n",
    "lista_1 = [100, 200, 200, 100]\n",
    "lista_2 = [200, 100, 200, 100]\n",
    "\n",
    "print(lista_1 == lista_2)\n",
    "\n",
    "\n"
   ]
  },
  {
   "cell_type": "code",
   "execution_count": 105,
   "metadata": {},
   "outputs": [
    {
     "name": "stdout",
     "output_type": "stream",
     "text": [
      "False\n",
      "True\n",
      "True\n",
      "False\n",
      "True\n",
      "False\n",
      "False\n",
      "True\n"
     ]
    }
   ],
   "source": [
    "# Sprawdź czy lista 1 większa od listy 2\n",
    "lista_1 = [100, 200, 200, 100]\n",
    "lista_2 = [100, 200, 200, 100]\n",
    "\n",
    "print(lista_1 < lista_2)\n",
    "print(lista_1 <= lista_2)\n",
    "\n",
    "lista_1 = [90, 100, 100, 90]\n",
    "lista_2 = [100, 200, 200, 100]\n",
    "\n",
    "print(lista_1 < lista_2)\n",
    "print(lista_1 > lista_2)\n",
    "\n",
    "lista_1 = [90, 300, 100, 190]\n",
    "lista_2 = [100, 200, 200, 100]\n",
    "\n",
    "print(lista_1 < lista_2)\n",
    "print(lista_1 > lista_2)\n",
    "\n",
    "lista_1 = [190, 200, 300, 190]\n",
    "lista_2 = [190, 200, 200, 400]\n",
    "\n",
    "print(lista_1 < lista_2)\n",
    "print(lista_1 > lista_2)\n",
    "\n"
   ]
  },
  {
   "cell_type": "code",
   "execution_count": 109,
   "metadata": {},
   "outputs": [
    {
     "name": "stdout",
     "output_type": "stream",
     "text": [
      "['Andrzej', 'Krzysztof', 'Paweł', 'Robert', 'Ryszard']\n"
     ]
    }
   ],
   "source": [
    "# Posortuj krotkę listę imion klientów\n",
    "lista_imion =  (\"Ryszard\", \"Robert\", \"Andrzej\", \"Krzysztof\", \"Paweł\")\n",
    "print(sorted(lista_imion))"
   ]
  },
  {
   "cell_type": "markdown",
   "metadata": {},
   "source": [
    "#### tuple, list - rozpakowywanie"
   ]
  },
  {
   "cell_type": "code",
   "execution_count": 112,
   "metadata": {},
   "outputs": [
    {
     "name": "stdout",
     "output_type": "stream",
     "text": [
      "Ryszard\n",
      "Robert\n",
      "('Andrzej', 'Krzysztof', 'Paweł')\n"
     ]
    }
   ],
   "source": [
    "# Przypisz do zmiennych client1, client2, inni imiona z listy lista_imion\n",
    "client1, client2, inni = lista_imion[0], lista_imion[1], lista_imion[2:]\n",
    "print(client1)\n",
    "print(client2)\n",
    "print(inni)"
   ]
  },
  {
   "cell_type": "markdown",
   "metadata": {},
   "source": [
    "#### set - tworzenie"
   ]
  },
  {
   "cell_type": "code",
   "execution_count": 113,
   "metadata": {},
   "outputs": [
    {
     "data": {
      "text/plain": [
       "{'1233', '2345', '4567'}"
      ]
     },
     "execution_count": 113,
     "metadata": {},
     "output_type": "execute_result"
    }
   ],
   "source": [
    "# Utwórz zbiór, który zawiera tylko unikalne numery rachunków klienta\n",
    "nr_rachunku = {'1233', '2345', '4567', '2345'}\n",
    "nr_rachunku"
   ]
  },
  {
   "cell_type": "markdown",
   "metadata": {},
   "source": [
    "#### set - algebra zbiorów"
   ]
  },
  {
   "cell_type": "code",
   "execution_count": 115,
   "metadata": {},
   "outputs": [
    {
     "data": {
      "text/plain": [
       "True"
      ]
     },
     "execution_count": 115,
     "metadata": {},
     "output_type": "execute_result"
    }
   ],
   "source": [
    "# Sprawdź czy wszystkie elementy zbioru numerów rachunku 1 klienta\n",
    "# zawierają się w  zbiorze numerów rachunku 2 klienta\n",
    "client_1 = {'1233', '2345', '4567', '2345'}\n",
    "client_2 = {'1233', '4567', '2345'}\n",
    "client_1.issubset(client_2)\n",
    "client_1 == client_2"
   ]
  },
  {
   "cell_type": "code",
   "execution_count": 116,
   "metadata": {},
   "outputs": [
    {
     "data": {
      "text/plain": [
       "True"
      ]
     },
     "execution_count": 116,
     "metadata": {},
     "output_type": "execute_result"
    }
   ],
   "source": [
    "# Sprawdź czy wszystkie elementy zbioru numerów rachunku 2 klienta\n",
    "# zawierają się w  zbiorze numerów rachunku 1 klienta\n",
    "client_1 = {'1233', '2345', '4567', '2345'}\n",
    "client_2 = {'1233', '4567', '2345'}\n",
    "client_1 == client_2"
   ]
  },
  {
   "cell_type": "code",
   "execution_count": 117,
   "metadata": {},
   "outputs": [
    {
     "data": {
      "text/plain": [
       "{'1233', '2345', '4567'}"
      ]
     },
     "execution_count": 117,
     "metadata": {},
     "output_type": "execute_result"
    }
   ],
   "source": [
    "# Sprawdź czy zbiory są rozłączne\n",
    "client_1.intersection(client_2)"
   ]
  },
  {
   "cell_type": "markdown",
   "metadata": {},
   "source": [
    "#### set - modyfikacja"
   ]
  },
  {
   "cell_type": "code",
   "execution_count": 118,
   "metadata": {},
   "outputs": [
    {
     "data": {
      "text/plain": [
       "{'1233', '2345', '4567', '6789'}"
      ]
     },
     "execution_count": 118,
     "metadata": {},
     "output_type": "execute_result"
    }
   ],
   "source": [
    "# Zmodyfikuj zbiór numerów rachunku 1 klienta, dodając do niego nr rachunku '6789'\n",
    "client_1.add('6789')\n",
    "client_1"
   ]
  },
  {
   "cell_type": "code",
   "execution_count": 119,
   "metadata": {},
   "outputs": [
    {
     "data": {
      "text/plain": [
       "{'1233', '4567', '6789'}"
      ]
     },
     "execution_count": 119,
     "metadata": {},
     "output_type": "execute_result"
    }
   ],
   "source": [
    "# Usuń ze zbioru numerów rachunku 1 klienta, nr rachunku: 2345\n",
    "client_1.remove('2345')\n",
    "client_1"
   ]
  },
  {
   "cell_type": "code",
   "execution_count": 120,
   "metadata": {},
   "outputs": [
    {
     "data": {
      "text/plain": [
       "set()"
      ]
     },
     "execution_count": 120,
     "metadata": {},
     "output_type": "execute_result"
    }
   ],
   "source": [
    "# Usuń wszystkie elementy ze zbioru numerów rachunku 1 klienta\n",
    "client_1.clear()\n",
    "client_1"
   ]
  },
  {
   "cell_type": "markdown",
   "metadata": {},
   "source": [
    "#### set - elementy hashowalne"
   ]
  },
  {
   "cell_type": "code",
   "execution_count": 122,
   "metadata": {},
   "outputs": [
    {
     "ename": "TypeError",
     "evalue": "unhashable type: 'list'",
     "output_type": "error",
     "traceback": [
      "\u001b[1;31m---------------------------------------------------------------------------\u001b[0m",
      "\u001b[1;31mTypeError\u001b[0m                                 Traceback (most recent call last)",
      "\u001b[1;32mC:\\ProgramData\\ING\\Anaconda3\\ing\\temp/ipykernel_3896/3893403970.py\u001b[0m in \u001b[0;36m<module>\u001b[1;34m\u001b[0m\n\u001b[0;32m      1\u001b[0m \u001b[1;31m# lista jest modyfikowalna --> nie jest hashowalna\u001b[0m\u001b[1;33m\u001b[0m\u001b[1;33m\u001b[0m\u001b[0m\n\u001b[0;32m      2\u001b[0m \u001b[0mset_with_list\u001b[0m \u001b[1;33m=\u001b[0m \u001b[0mset\u001b[0m\u001b[1;33m(\u001b[0m\u001b[1;33m)\u001b[0m\u001b[1;33m\u001b[0m\u001b[1;33m\u001b[0m\u001b[0m\n\u001b[1;32m----> 3\u001b[1;33m \u001b[0mset_with_list\u001b[0m\u001b[1;33m.\u001b[0m\u001b[0madd\u001b[0m\u001b[1;33m(\u001b[0m\u001b[1;33m[\u001b[0m\u001b[1;36m1\u001b[0m\u001b[1;33m,\u001b[0m \u001b[1;36m2\u001b[0m\u001b[1;33m,\u001b[0m \u001b[1;36m3\u001b[0m\u001b[1;33m]\u001b[0m\u001b[1;33m)\u001b[0m\u001b[1;33m\u001b[0m\u001b[1;33m\u001b[0m\u001b[0m\n\u001b[0m",
      "\u001b[1;31mTypeError\u001b[0m: unhashable type: 'list'"
     ]
    }
   ],
   "source": [
    "# lista jest modyfikowalna --> nie jest hashowalna \n",
    "set_with_list = set()\n",
    "set_with_list.add([1, 2, 3])"
   ]
  },
  {
   "cell_type": "code",
   "execution_count": 123,
   "metadata": {},
   "outputs": [
    {
     "data": {
      "text/plain": [
       "{(1, 2, 3), 1, 2.3, 3, 'Some text'}"
      ]
     },
     "execution_count": 123,
     "metadata": {},
     "output_type": "execute_result"
    }
   ],
   "source": [
    "mix_set = { 1, 3, True, \"Some text\", 2.3, (1, 2, 3)}\n",
    "mix_set"
   ]
  },
  {
   "cell_type": "markdown",
   "metadata": {},
   "source": [
    "# Słowniki\n",
    "\n",
    "### Tworzenie słownika\n",
    "0. `{}`\n",
    "0. `dict()`\n",
    "\n",
    "### Funkcje\n",
    "0. `enumerate`\n",
    "0. `zip`"
   ]
  },
  {
   "cell_type": "code",
   "execution_count": 128,
   "metadata": {},
   "outputs": [
    {
     "name": "stdout",
     "output_type": "stream",
     "text": [
      "{'first_name': 'Jan', 'last_name': 'Ingowski', 'age': 34, 'magic_number': 91, 'accounts_balance': 5345.87}\n",
      "{'first_name': 'Jan', 'last_name': 'Ingowski', 'age': 34, 'magic_number': 88, 'accounts_balance': 5345.87}\n",
      "Jan\n",
      "False\n",
      "True\n"
     ]
    }
   ],
   "source": [
    "# Kartoteka klienta jako słownik\n",
    "first_name = \"Jan\"\n",
    "last_name = \"Ingowski\"\n",
    "age = 34\n",
    "magic_number = 91\n",
    "accounts_balance = 5_345.87\n",
    "\n",
    "customer_1234567890 = {'first_name':\"Jan\", 'last_name':\"Ingowski\", 'age':34,  'magic_number':91,  'accounts_balance': 5_345.87 }\n",
    "print(customer_1234567890)\n",
    "\n",
    "# zmiana wartosci w słowniku:\n",
    "customer_1234567890['magic_number'] = 88\n",
    "print(customer_1234567890)\n",
    "\n",
    "# odwołanie do elementu po indeksie:\n",
    "print(customer_1234567890['first_name'])\n",
    "\n",
    "# sprawdzenie przynależności elementów --> odwołuje się do kluczy, nie do wartości:\n",
    "print( 'Jan' in customer_1234567890 )\n",
    "print('age' in customer_1234567890)\n"
   ]
  },
  {
   "cell_type": "code",
   "execution_count": 129,
   "metadata": {},
   "outputs": [
    {
     "data": {
      "text/plain": [
       "[{'first_name': 'Jan',\n",
       "  'last_name': 'Ingowski',\n",
       "  'age': 34,\n",
       "  'magic_number': 91,\n",
       "  'accounts_balance': 5345.87},\n",
       " {'first_name': 'Anna',\n",
       "  'last_name': 'Ingowska',\n",
       "  'age': 32,\n",
       "  'magic_number': 98,\n",
       "  'accounts_balance': 6375.89}]"
      ]
     },
     "execution_count": 129,
     "metadata": {},
     "output_type": "execute_result"
    }
   ],
   "source": [
    "# Zebranie wielu kartotek do słownika\n",
    "first_name = \"Jan\"\n",
    "last_name = \"Ingowski\"\n",
    "age = 34\n",
    "magic_number = 91\n",
    "accounts_balance = 5_345.87\n",
    "\n",
    "customer_1234567890 = {'first_name':first_name, 'last_name':last_name, 'age':age,  'magic_number':magic_number,  'accounts_balance': accounts_balance }\n",
    "\n",
    "first_name = \"Anna\"\n",
    "last_name = \"Ingowska\"\n",
    "age = 32\n",
    "magic_number = 98\n",
    "accounts_balance = 6_375.89\n",
    "\n",
    "customer_1234567891 = {'first_name':first_name, 'last_name':last_name, 'age':age,  'magic_number':magic_number,  'accounts_balance': accounts_balance }\n",
    "\n",
    "customers = [customer_1234567890, customer_1234567891]\n",
    "\n",
    "customers"
   ]
  },
  {
   "cell_type": "markdown",
   "metadata": {},
   "source": [
    "#### zagnieżdżone sekwencje"
   ]
  },
  {
   "cell_type": "code",
   "execution_count": 131,
   "metadata": {},
   "outputs": [
    {
     "name": "stdout",
     "output_type": "stream",
     "text": [
      "[4, 5, 6]\n",
      "6\n"
     ]
    }
   ],
   "source": [
    "# Stwórz listę, której elementami są 2 poniższe listy:\n",
    "list_a=[1,2,3]\n",
    "list_b=[4,5,6]\n",
    "\n",
    "list_nested = [list_a, list_b]\n",
    "\n",
    "# wypisz na ekran listę list_b odnosząc się do niej z użyciem list_nested (użyj indeksu)\n",
    "print(list_nested[1])\n",
    "# wypisz na ekran element o indeksie 2 z listy o indeksie 1 (6)\n",
    "print(list_nested[1][2])\n"
   ]
  },
  {
   "cell_type": "code",
   "execution_count": 132,
   "metadata": {},
   "outputs": [
    {
     "name": "stdout",
     "output_type": "stream",
     "text": [
      "{'ala': 'ma kota'}\n",
      "ma kota\n"
     ]
    }
   ],
   "source": [
    "# stwórz krotkę (tuple), która zawiera kolejno: listę [1,2,3], słownik {\"ala\":\"ma kota\"}, set {1,2,3,4}\n",
    "krotka=([1,2,3], {\"ala\":\"ma kota\"}, {1,2,3,4})\n",
    "# zwróć z tej krotki:\n",
    "# sam słownik\n",
    "print(krotka[1])\n",
    "# stringa \"ma kota\"\n",
    "print(krotka[1]['ala'])\n"
   ]
  },
  {
   "cell_type": "markdown",
   "metadata": {},
   "source": [
    "Zagnieżdżać można wiele typów w sobie nawzajem. Przykładowo lista może zawierać słowniki, które to zawierają tuple (krotki).\n",
    "Pewnie zastanawiacie się do czego tak skomplikowane struktury mogą byc przydatne. Spójrz na naszą kartotekę:\n",
    "każdy klient, oprócz danych osobowych ma jeden lub więcej rachunków, a rachunek ma saldo i numer. Klientów jest wielu, więc możemy ich przechować np. w formie listy."
   ]
  },
  {
   "cell_type": "code",
   "execution_count": 141,
   "metadata": {},
   "outputs": [
    {
     "name": "stdout",
     "output_type": "stream",
     "text": [
      "['Konstanty', 'Gumisia', 'Bernard']\n",
      "['OKO']\n",
      "[1222.22, '1232323.12', 12.22]\n"
     ]
    }
   ],
   "source": [
    "# Zaprojektuj zagnieżdżoną strukturę do przechowywania takich kartotek i zapisz do niej 3 klientów. \n",
    "# Niech każdy klient ma po 2 rachunki.\n",
    "K1 = {\n",
    "    'imie': 'Konstanty', \n",
    "    'nazwisko': 'Gałczyński', \n",
    "    'rachunki': [ \n",
    "    {'produkt':'Direct', 'status':'Otwarty', 'saldo':1222.22, 'transakcje_oczekujace':[(500, 'UZNANIE'), (200, 'OBCIĄŻENIE')]}, \n",
    "    {'produkt': 'OKO', 'status':'Otwarty', 'saldo':'1232323.12', 'transakcje_oczekujace':[]  }\n",
    "    ]}\n",
    "\n",
    "K2 = {\n",
    "    'imie': 'Gumisia', \n",
    "    'nazwisko': 'Szymborska', \n",
    "    'rachunki': [ \n",
    "    {'produkt':'OKO', 'saldo': 12.22, 'status':'Uśpiony', 'transakcje_oczekujace':[(20000, 'OBCIĄŻENIE')] } \n",
    "    ]}\n",
    "\n",
    "K3 = {\n",
    "    'imie': 'Bernard', \n",
    "    'nazwisko': 'Bezproduktowy', \n",
    "    'rachunki': []}\n",
    "\n",
    "K = [K1, K2, K3]\n",
    "\n",
    "# Wypisz na ekran imiona klientów\n",
    "print([klient['imie'] for klient in K]) \n",
    "\n",
    "# Wypisz wszystkie typy rachunków klienta o indeksie 1\n",
    "print([ rachunek['produkt'] for rachunek in K[1]['rachunki'] ] )\n",
    "# Wypisz wszystkie salda wszystkich klientów\n",
    "print( [ rachunek['saldo'] for klient in K for rachunek in klient['rachunki']  ])"
   ]
  }
 ],
 "metadata": {
  "kernelspec": {
   "display_name": "Python 3 (ipykernel)",
   "language": "python",
   "name": "python3"
  },
  "language_info": {
   "codemirror_mode": {
    "name": "ipython",
    "version": 3
   },
   "file_extension": ".py",
   "mimetype": "text/x-python",
   "name": "python",
   "nbconvert_exporter": "python",
   "pygments_lexer": "ipython3",
   "version": "3.9.7"
  }
 },
 "nbformat": 4,
 "nbformat_minor": 4
}
