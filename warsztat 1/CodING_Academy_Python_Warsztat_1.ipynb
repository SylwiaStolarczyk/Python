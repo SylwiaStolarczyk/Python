{
 "cells": [
  {
   "cell_type": "markdown",
   "metadata": {},
   "source": [
    "# CodING Academy: Python\n",
    "\n",
    "## Warsztat 1"
   ]
  },
  {
   "attachments": {},
   "cell_type": "markdown",
   "metadata": {},
   "source": [
    "# PEP 8\n",
    "\n",
    "### Czyli co to jest?\n",
    "0. \"Gramatyka\" języka Python\n",
    "0. Czytelność kodu - jednakowe zrozumienie\n",
    "\n",
    "### Główne założenia\n",
    "0. Wcięcia\n",
    "0. 4 spacje\n",
    "0. Długość linii (79 znaków)\n",
    "0. Łamanie linii przed operatorem binarnym\n",
    "0. Kodowanie UTF-8\n",
    "0. Importy w osobnych liniach\n",
    "0. Gdzie powinniśmy wstawiać spacje\n",
    "0. Komentarze\n",
    "0. Nazwy zmiennych (`snake_case`) camelCase\n",
    "0. I wiele innych - zobacz: https://www.python.org/dev/peps/pep-0008/"
   ]
  },
  {
   "cell_type": "code",
   "execution_count": 49,
   "metadata": {},
   "outputs": [],
   "source": [
    "import this"
   ]
  },
  {
   "cell_type": "markdown",
   "metadata": {},
   "source": [
    "### Zmienne"
   ]
  },
  {
   "cell_type": "markdown",
   "metadata": {},
   "source": [
    "#### Wyświetlanie wartości zmiennej"
   ]
  },
  {
   "cell_type": "code",
   "execution_count": 50,
   "metadata": {},
   "outputs": [
    {
     "name": "stdout",
     "output_type": "stream",
     "text": [
      "Nowy klient Sylwia Pietrek z numerem PESEL 88100101504\n"
     ]
    }
   ],
   "source": [
    "# Zakładamy kartotekę dla klienta\n",
    "imie = \"Sylwia\"\n",
    "nazwisko = \"Pietrek\" \n",
    "wiek = 35\n",
    "pesel = 88100101504 \n",
    "numer_rachunku = 9712345685\n",
    "\n",
    "print(\"Nowy klient\", imie, nazwisko, \"z numerem PESEL\", pesel)"
   ]
  },
  {
   "cell_type": "code",
   "execution_count": 51,
   "metadata": {},
   "outputs": [
    {
     "data": {
      "text/plain": [
       "8236080071977237517091221213248314560"
      ]
     },
     "execution_count": 51,
     "metadata": {},
     "output_type": "execute_result"
    }
   ],
   "source": [
    "322145668412365120*25566322566332252663\n"
   ]
  },
  {
   "cell_type": "code",
   "execution_count": 52,
   "metadata": {},
   "outputs": [],
   "source": [
    "# Wyświetl na ekranie zdanie: Nowy Klient: <imie> <nazwisko>, z numerem pesel <pesel>."
   ]
  },
  {
   "cell_type": "markdown",
   "metadata": {},
   "source": [
    "### Znak końca linii - '\\n'"
   ]
  },
  {
   "cell_type": "code",
   "execution_count": 73,
   "metadata": {},
   "outputs": [
    {
     "name": "stdout",
     "output_type": "stream",
     "text": [
      "Nowy klient: Sylwia Pietrek  z numerem PESEL 88100101504\n",
      "Nowy klient: \n",
      " imię: Sylwia\n",
      " nazwisko Pietrek\n",
      " z numerem PESEL 88100101504\n"
     ]
    }
   ],
   "source": [
    "\n",
    "\n",
    "# Wyświetl na ekranie atrybuty klienta, żeby kazdy atrybut znajdował się w osobnej linijce. \n",
    "print(f\"Nowy klient: {imie} {nazwisko}  z numerem PESEL {pesel}\")\n",
    "print(f\"Nowy klient: \\n imię: {imie}\\n nazwisko {nazwisko}\\n z numerem PESEL {pesel}\")\n"
   ]
  },
  {
   "cell_type": "markdown",
   "metadata": {},
   "source": [
    "### Operatory arytmetyczne"
   ]
  },
  {
   "cell_type": "code",
   "execution_count": 54,
   "metadata": {},
   "outputs": [],
   "source": [
    "# Tworzymy dwie zmienne, na których będziemy wykonywali operacje arytmetyczne\n",
    "saldo = 1000\n",
    "kwota_przelewu = 500"
   ]
  },
  {
   "cell_type": "code",
   "execution_count": 74,
   "metadata": {},
   "outputs": [
    {
     "name": "stdout",
     "output_type": "stream",
     "text": [
      "Saldo klienta: 1000\n",
      "Kwota przełewu: 100\n"
     ]
    }
   ],
   "source": [
    "# Wyświetl wartości zmiennych\n",
    "print('Saldo klienta:', saldo)\n",
    "print('Kwota przełewu:', kwota_przelewu)"
   ]
  },
  {
   "cell_type": "code",
   "execution_count": 75,
   "metadata": {},
   "outputs": [
    {
     "name": "stdout",
     "output_type": "stream",
     "text": [
      "Saldo klienta po wykonaniu przelewu: 1100\n"
     ]
    }
   ],
   "source": [
    "# Saldo klienta po wykonaniu przelewu na rachunek klienta\n",
    "print('Saldo klienta po wykonaniu przelewu:', saldo + kwota_przelewu)"
   ]
  },
  {
   "cell_type": "code",
   "execution_count": 76,
   "metadata": {},
   "outputs": [
    {
     "name": "stdout",
     "output_type": "stream",
     "text": [
      "Saldo klienta po wykonaniu przelewu: 900\n"
     ]
    }
   ],
   "source": [
    "# Saldo klienta po wykonaniu przelewu z rachunku klienta\n",
    "print('Saldo klienta po wykonaniu przelewu:', saldo - kwota_przelewu)"
   ]
  },
  {
   "cell_type": "code",
   "execution_count": 79,
   "metadata": {},
   "outputs": [
    {
     "name": "stdout",
     "output_type": "stream",
     "text": [
      "Łączna suma przelewów: 300\n"
     ]
    }
   ],
   "source": [
    "# Przypuśćmy, że klient musi wykonać przełew na kwotę 100 zł. 3 razy, jaka będzie łączna suma przełewów\n",
    "kwota_przelewu = 100\n",
    "liczba_przelewow = 3\n",
    "print('Łączna suma przelewów:', kwota_przelewu*liczba_przelewow)"
   ]
  },
  {
   "cell_type": "code",
   "execution_count": 83,
   "metadata": {},
   "outputs": [
    {
     "name": "stdout",
     "output_type": "stream",
     "text": [
      "Łączna suma przelewów: 33.333333333333336\n",
      "Łączna suma przelewów: 33\n"
     ]
    }
   ],
   "source": [
    "# Przypuśćmy, że klient musi wykonać przełew na kwotę 100 zł. 3 razy, jaka będzie łączna suma przełewów\n",
    "kwota_przelewu = 100\n",
    "liczba_przelewow = 3\n",
    "print('Łączna suma przelewów:', kwota_przelewu/liczba_przelewow) #dzielenie dwóch liczb całkowitych daje liczbę zmiennoprzecinkową float\n",
    "print('Łączna suma przelewów:', round(kwota_przelewu/liczba_przelewow))"
   ]
  },
  {
   "cell_type": "code",
   "execution_count": 86,
   "metadata": {},
   "outputs": [
    {
     "name": "stdout",
     "output_type": "stream",
     "text": [
      "Kwota bedzie na każdym z rachunków: 50\n"
     ]
    }
   ],
   "source": [
    "# Klient chcę równo podzielić 150 zł. pomiędzy 3 rachunkami. Jaka kwota bedzie na każdym z rachunków?\n",
    "suma = 150\n",
    "liczba_rachunkow = 3\n",
    "print('Kwota bedzie na każdym z rachunków:', suma //liczba_rachunkow)"
   ]
  },
  {
   "cell_type": "code",
   "execution_count": 87,
   "metadata": {},
   "outputs": [
    {
     "name": "stdout",
     "output_type": "stream",
     "text": [
      "Kwota bedzie na każdym z rachunków: 33\n"
     ]
    }
   ],
   "source": [
    "# Klient chcę równo podzielić 100 zł. pomiędzy 3 rachunkami, \n",
    "# żeby kwota na każdym z rachunków odpowiadała liczbie całkowitej\n",
    "suma = 100\n",
    "liczba_rachunkow = 3\n",
    "print('Kwota bedzie na każdym z rachunków:', (suma // liczba_rachunkow))"
   ]
  },
  {
   "cell_type": "code",
   "execution_count": 88,
   "metadata": {},
   "outputs": [
    {
     "name": "stdout",
     "output_type": "stream",
     "text": [
      "Kwota bedzie na każdym z rachunków: 1\n"
     ]
    }
   ],
   "source": [
    "# Jaka kwota bedzie nieprzydzielona po wykonaniu poprzedniej operacji\n",
    "print('Kwota bedzie na każdym z rachunków:', suma - liczba_rachunkow * (suma // liczba_rachunkow))"
   ]
  },
  {
   "cell_type": "code",
   "execution_count": 89,
   "metadata": {},
   "outputs": [
    {
     "name": "stdout",
     "output_type": "stream",
     "text": [
      "Wynik potęgowania x ** y = 8\n"
     ]
    }
   ],
   "source": [
    "# Operację potęgowania\n",
    "x = 2\n",
    "y = 3\n",
    "print('Wynik potęgowania x ** y =', x**y)"
   ]
  },
  {
   "cell_type": "code",
   "execution_count": 90,
   "metadata": {},
   "outputs": [
    {
     "data": {
      "text/plain": [
       "-9"
      ]
     },
     "execution_count": 90,
     "metadata": {},
     "output_type": "execute_result"
    }
   ],
   "source": [
    "# Skrócona ważność operatorów: (potęga), (iloczyn, iloraz, reszta z dzielenia, dzielenie całkowite), (suma, różnica)\n",
    "3 + (4*5) - (12%5) * (4**2)"
   ]
  },
  {
   "cell_type": "code",
   "execution_count": 65,
   "metadata": {},
   "outputs": [],
   "source": [
    "# Czy wynik będzie ten sam?"
   ]
  },
  {
   "cell_type": "code",
   "execution_count": 91,
   "metadata": {},
   "outputs": [
    {
     "name": "stdout",
     "output_type": "stream",
     "text": [
      "11\n"
     ]
    }
   ],
   "source": [
    "print(3 + 2 * 4)"
   ]
  },
  {
   "cell_type": "code",
   "execution_count": 92,
   "metadata": {},
   "outputs": [
    {
     "name": "stdout",
     "output_type": "stream",
     "text": [
      "20\n"
     ]
    }
   ],
   "source": [
    "print((3 + 2)* 4)"
   ]
  },
  {
   "cell_type": "code",
   "execution_count": 95,
   "metadata": {},
   "outputs": [
    {
     "ename": "SyntaxError",
     "evalue": "invalid syntax (3868021426.py, line 2)",
     "output_type": "error",
     "traceback": [
      "\u001b[1;36m  Cell \u001b[1;32mIn[95], line 2\u001b[1;36m\u001b[0m\n\u001b[1;33m    = 5\u001b[0m\n\u001b[1;37m    ^\u001b[0m\n\u001b[1;31mSyntaxError\u001b[0m\u001b[1;31m:\u001b[0m invalid syntax\n"
     ]
    }
   ],
   "source": [
    "# SyntaxError\n",
    "= 5"
   ]
  },
  {
   "cell_type": "code",
   "execution_count": 96,
   "metadata": {},
   "outputs": [
    {
     "ename": "SyntaxError",
     "evalue": "cannot assign to literal here. Maybe you meant '==' instead of '='? (2036754599.py, line 2)",
     "output_type": "error",
     "traceback": [
      "\u001b[1;36m  Cell \u001b[1;32mIn[96], line 2\u001b[1;36m\u001b[0m\n\u001b[1;33m    'imię' = 1\u001b[0m\n\u001b[1;37m    ^\u001b[0m\n\u001b[1;31mSyntaxError\u001b[0m\u001b[1;31m:\u001b[0m cannot assign to literal here. Maybe you meant '==' instead of '='?\n"
     ]
    }
   ],
   "source": [
    "# Czy możemy wykonać następne działania?\n",
    "'imię' = 1\n",
    "1 = 'nazwisko'"
   ]
  },
  {
   "cell_type": "markdown",
   "metadata": {},
   "source": [
    "### Numeryczne typy danych"
   ]
  },
  {
   "cell_type": "code",
   "execution_count": 103,
   "metadata": {},
   "outputs": [],
   "source": [
    "# Sprawdź typy następnych zmiennych:\n",
    "saldo = - 3000\n",
    "kwota_przelewu1 = 345.75"
   ]
  },
  {
   "cell_type": "code",
   "execution_count": 104,
   "metadata": {},
   "outputs": [
    {
     "name": "stdout",
     "output_type": "stream",
     "text": [
      "Typ zmiennej saldo: <class 'int'>\n",
      "Typ zmiennej kwota_przelewu1: <class 'float'>\n"
     ]
    }
   ],
   "source": [
    "print('Typ zmiennej saldo:', type(saldo))\n",
    "print('Typ zmiennej kwota_przelewu1:', type(kwota_przelewu1))"
   ]
  },
  {
   "cell_type": "code",
   "execution_count": 105,
   "metadata": {},
   "outputs": [
    {
     "name": "stdout",
     "output_type": "stream",
     "text": [
      "<class 'float'>\n",
      "345 <class 'int'>\n"
     ]
    }
   ],
   "source": [
    "# Skonwertuj zmienną kwota_przelewu do typu int:\n",
    "print(type (kwota_przelewu1))\n",
    "kwota_przelewu1 = int(kwota_przelewu1)\n",
    "print(kwota_przelewu1, type(kwota_przelewu1))"
   ]
  },
  {
   "cell_type": "markdown",
   "metadata": {},
   "source": [
    "# Typy logiczne\n",
    "\n",
    "### bool\n",
    "0. `False`\n",
    "0. `True`\n",
    "\n",
    "### bool-like\n",
    "0. falsy\n",
    "0. truthy\n",
    "\n",
    "### Operatory porównania:\n",
    "0. `<`\n",
    "0. `<=`\n",
    "0. `>`\n",
    "0. `>=`\n",
    "0. `==`\n",
    "0. `!=`\n",
    "\n",
    "### Operatory logiczne:\n",
    "0. `and`\n",
    "0. `or`\n",
    "0. `in`\n",
    "0. `is`\n",
    "0. `not`\n",
    "\n",
    "### Rzutowanie\n",
    "`bool(x)`"
   ]
  },
  {
   "cell_type": "code",
   "execution_count": 107,
   "metadata": {},
   "outputs": [
    {
     "data": {
      "text/plain": [
       "False"
      ]
     },
     "execution_count": 107,
     "metadata": {},
     "output_type": "execute_result"
    }
   ],
   "source": [
    "# Na podstawie egzekucji klienta przypisz flagę windykcji\n",
    "client_executions = [100,200,200]\n",
    "vindication_flag = sum(client_executions) >= 1000\n",
    "vindication_flag\n",
    "# + ---> sum\n",
    "# and ---> all\n",
    "#or ---> any"
   ]
  },
  {
   "cell_type": "code",
   "execution_count": 108,
   "metadata": {},
   "outputs": [
    {
     "name": "stdout",
     "output_type": "stream",
     "text": [
      "True\n",
      "True\n",
      "False\n",
      "False\n",
      "True\n",
      "True\n"
     ]
    }
   ],
   "source": [
    "client_executions = [1,1,0,0,1,1]\n",
    "vindication_flag = all(client_executions)\n",
    "vindication_flag\n",
    "\n",
    "for i in client_executions:\n",
    "    print(bool(i))"
   ]
  },
  {
   "cell_type": "code",
   "execution_count": 109,
   "metadata": {},
   "outputs": [
    {
     "data": {
      "text/plain": [
       "True"
      ]
     },
     "execution_count": 109,
     "metadata": {},
     "output_type": "execute_result"
    }
   ],
   "source": [
    "# Na podstawie salda i kwoty transakcji sprawdź czy transakcja może być zrealizowana\n",
    "accout_balance = 5_123.00\n",
    "transaction_amount = 234.99\n",
    "\n",
    "transaction_possible = transaction_amount <= accout_balance\n",
    "transaction_possible"
   ]
  },
  {
   "cell_type": "code",
   "execution_count": 111,
   "metadata": {},
   "outputs": [
    {
     "data": {
      "text/plain": [
       "False"
      ]
     },
     "execution_count": 111,
     "metadata": {},
     "output_type": "execute_result"
    }
   ],
   "source": [
    "# Na podstawie flagi aktywności rachunku oraz salda i kwoty transakcji sprawdź czy transakcja może być zrealizowana\n",
    "is_account_active = False\n",
    "accout_balance = 5_123.00\n",
    "transaction_amount = 234.99\n",
    "\n",
    "transaction_possible = is_account_active and (transaction_amount <= accout_balance)\n",
    "transaction_possible"
   ]
  },
  {
   "cell_type": "markdown",
   "metadata": {},
   "source": [
    "# Łańcuchy znaków\n",
    "\n",
    "### String\n",
    "0. `'string'`\n",
    "0. `\"string\"`\n",
    "0. `\"\"\"str\n",
    "    ing\"\"\"`\n",
    "\n",
    "### Znak wyjścia\n",
    "0. `\\'`\n",
    "0. `\\\"`\n",
    "\n",
    "### Konkatenacja\n",
    "`string_1 + string_2`\n",
    "\n",
    "### Slicing\n",
    "`string[start:stop:step]`\n",
    "\n",
    "### Rzutowanie\n",
    "`str(x)`"
   ]
  },
  {
   "cell_type": "code",
   "execution_count": 115,
   "metadata": {},
   "outputs": [
    {
     "data": {
      "text/plain": [
       "'ikswognI'"
      ]
     },
     "execution_count": 115,
     "metadata": {},
     "output_type": "execute_result"
    }
   ],
   "source": [
    "# Stworzenie loginu - końcowa liczba to iloczyn wieku klienta i magicznej liczby\n",
    "first_name = \"Jan\"\n",
    "last_name = \"Ingowski\"\n",
    "age = 34\n",
    "magic_number = 91\n",
    "\n",
    "customer_login = first_name[:3] + last_name[:3] + str(age*magic_number)\n",
    "customer_login\n",
    "last_name[::-1]"
   ]
  },
  {
   "cell_type": "code",
   "execution_count": 130,
   "metadata": {},
   "outputs": [
    {
     "data": {
      "text/plain": [
       "['Ala@dasama@dasakota']"
      ]
     },
     "execution_count": 130,
     "metadata": {},
     "output_type": "execute_result"
    }
   ],
   "source": [
    "# Uzupełnienie numeru rachunku do 10 znaków (wiodącymi zerami)\n",
    "account_number = 12345678\n",
    "len(str(account_number))\n",
    "account_number_str = (10 - len(str(account_number))) * '0' + str(account_number)\n",
    "\n",
    "account_number_str\n",
    "\n",
    "#Napis jest niemutowalny\n",
    "\n",
    "\n",
    "#index - Znajduje pierwszą lokalizację danego elementu\n",
    "#replace\n",
    "#join\n",
    "#split\n",
    "\n",
    "s = \"Ala ma kota\"\n",
    "\n",
    "#s = replace.('Ala','Kasia')\n",
    "\"@dasa\".join(['Ala', 'ma', 'kota'])\n",
    "'Ala@dasama@dasakota'.split('?')\n",
    "\n"
   ]
  },
  {
   "cell_type": "markdown",
   "metadata": {},
   "source": [
    "### Sekwencje"
   ]
  },
  {
   "cell_type": "markdown",
   "metadata": {},
   "source": [
    "#### tuple - tworzenie"
   ]
  },
  {
   "cell_type": "code",
   "execution_count": 133,
   "metadata": {},
   "outputs": [
    {
     "name": "stdout",
     "output_type": "stream",
     "text": [
      "<class 'tuple'> (50.265196, 19.018155)\n"
     ]
    }
   ],
   "source": [
    "# Stwórz krotkę, która zawiera współrzędne GPS budynku ING na Sokolskiej 34 w Katowicach: 50.265196, 19.018155\n",
    "sokolska_34_gps = 50.265196, 19.018155\n",
    "print(type(sokolska_34_gps), sokolska_34_gps)"
   ]
  },
  {
   "cell_type": "markdown",
   "metadata": {},
   "source": [
    "#### list - tworzenie"
   ]
  },
  {
   "cell_type": "code",
   "execution_count": 134,
   "metadata": {},
   "outputs": [
    {
     "data": {
      "text/plain": [
       "['Anka', 'Kaczkowska', 123456, 35]"
      ]
     },
     "execution_count": 134,
     "metadata": {},
     "output_type": "execute_result"
    }
   ],
   "source": [
    "# Stwórz listę, która zawiera imię, nazwisko, numer klienta, wiek\n",
    "imie = 'Anka'\n",
    "nazwisko = 'Kaczkowska'\n",
    "nr_klienta = 123456\n",
    "wiek = 35\n",
    "client_features = [imie, nazwisko, nr_klienta, wiek, sokolska_34_gps]\n",
    "client_features"
   ]
  },
  {
   "cell_type": "markdown",
   "metadata": {},
   "source": [
    "#### tuple, list - indeksowanie, członkostwo, długość"
   ]
  },
  {
   "cell_type": "code",
   "execution_count": 136,
   "metadata": {},
   "outputs": [
    {
     "name": "stdout",
     "output_type": "stream",
     "text": [
      "Anka Kaczkowska 123456 lata\n"
     ]
    }
   ],
   "source": [
    "# Znajdź pierwszy, drugi i ostatni element utworzonej wcześniej listy\n",
    "first_name = client_features[0]\n",
    "last_name = client_features[1]\n",
    "age = client_features[-2]\n",
    "print(first_name, last_name, age, \"lata\")"
   ]
  },
  {
   "cell_type": "code",
   "execution_count": 145,
   "metadata": {},
   "outputs": [
    {
     "data": {
      "text/plain": [
       "35"
      ]
     },
     "execution_count": 145,
     "metadata": {},
     "output_type": "execute_result"
    }
   ],
   "source": [
    "# Sprawdź długość listy client_features\n",
    "len_client_features = len(client_features)\n",
    "client_features\n",
    "client_features[-1]"
   ]
  },
  {
   "cell_type": "code",
   "execution_count": 142,
   "metadata": {},
   "outputs": [
    {
     "data": {
      "text/plain": [
       "True"
      ]
     },
     "execution_count": 142,
     "metadata": {},
     "output_type": "execute_result"
    }
   ],
   "source": [
    "# Sprawdź czy wartość 25 jest w client_features\n",
    "123456 in client_features"
   ]
  },
  {
   "cell_type": "code",
   "execution_count": 147,
   "metadata": {},
   "outputs": [
    {
     "data": {
      "text/plain": [
       "3"
      ]
     },
     "execution_count": 147,
     "metadata": {},
     "output_type": "execute_result"
    }
   ],
   "source": [
    "# Sprawdź pozycję pierwszego wystąpienia wartości 25\n",
    "client_features.index(35)"
   ]
  },
  {
   "cell_type": "code",
   "execution_count": 148,
   "metadata": {},
   "outputs": [
    {
     "data": {
      "text/plain": [
       "1"
      ]
     },
     "execution_count": 148,
     "metadata": {},
     "output_type": "execute_result"
    }
   ],
   "source": [
    "# Sprawdź liczbę wystąpień wartości 25 w sekwencji\n",
    "client_features.count(35)"
   ]
  },
  {
   "cell_type": "markdown",
   "metadata": {},
   "source": [
    "#### tuple, list - konkatenacja (łączenie)"
   ]
  },
  {
   "cell_type": "code",
   "execution_count": 149,
   "metadata": {},
   "outputs": [
    {
     "data": {
      "text/plain": [
       "['Alicja', 'Monika', 'Natalia', 'Jerzy', 'Mateusz', 'Robert']"
      ]
     },
     "execution_count": 149,
     "metadata": {},
     "output_type": "execute_result"
    }
   ],
   "source": [
    "# Połącz listę klientów z 03.08 i z 04.08\n",
    "clients_03_08 = ['Alicja', 'Monika', 'Natalia']\n",
    "clients_04_08 = ['Jerzy', 'Mateusz', 'Robert']\n",
    "clients = clients_03_08 + clients_04_08\n",
    "clients\n",
    "# clients_03_08 + clients_04_08 == clients_04_08 + clients_03_08   #False\n"
   ]
  },
  {
   "cell_type": "code",
   "execution_count": 151,
   "metadata": {},
   "outputs": [
    {
     "data": {
      "text/plain": [
       "[100, 200, 100, 200]"
      ]
     },
     "execution_count": 151,
     "metadata": {},
     "output_type": "execute_result"
    }
   ],
   "source": [
    "# Stwórz listę z powtórzonej sekwencji elementów wykorzystując operator mnożenia\n",
    "lista = [100, 200]\n",
    "lista_new = lista *2\n",
    "lista_new\n",
    "# [100,200,100,200,100,200]"
   ]
  },
  {
   "cell_type": "markdown",
   "metadata": {},
   "source": [
    "#### list - modyfikacja"
   ]
  },
  {
   "cell_type": "code",
   "execution_count": 152,
   "metadata": {},
   "outputs": [
    {
     "name": "stdout",
     "output_type": "stream",
     "text": [
      "[]\n"
     ]
    },
    {
     "data": {
      "text/plain": [
       "list"
      ]
     },
     "execution_count": 152,
     "metadata": {},
     "output_type": "execute_result"
    }
   ],
   "source": [
    "# Stwórz pustą listę, która będzie zawierała nazwy kont nowego klienta\n",
    "konta = []\n",
    "print(konta)\n",
    "type (konta)"
   ]
  },
  {
   "cell_type": "code",
   "execution_count": 153,
   "metadata": {},
   "outputs": [
    {
     "name": "stdout",
     "output_type": "stream",
     "text": [
      "['Direct']\n"
     ]
    }
   ],
   "source": [
    "# Dodaj nazwę konta Direct i nazwę konta Komfort do listy\n",
    "\n",
    "konta.append('Direct')\n",
    "print(konta)"
   ]
  },
  {
   "cell_type": "code",
   "execution_count": 159,
   "metadata": {},
   "outputs": [
    {
     "data": {
      "text/plain": [
       "[7, 1, 2, 3, 4, 5]"
      ]
     },
     "execution_count": 159,
     "metadata": {},
     "output_type": "execute_result"
    }
   ],
   "source": [
    "b = [1,2,3,4]\n",
    "b.append(5)\n",
    "b\n",
    "b.insert(0, 7)\n",
    "b"
   ]
  },
  {
   "cell_type": "code",
   "execution_count": 161,
   "metadata": {},
   "outputs": [
    {
     "name": "stdout",
     "output_type": "stream",
     "text": [
      "['Direct', 'Komfort']\n",
      "['Mobi', 'Direct', 'Komfort']\n"
     ]
    }
   ],
   "source": [
    "# Dodaj nazwę konta Mobi do listy, żeby nazwa Mobi znajdowała się na pierwszej pozycji\n",
    "konta = []\n",
    "konta.append('Direct')\n",
    "konta.append('Komfort')\n",
    "print(konta)\n",
    "konta.insert(0, 'Mobi')\n",
    "print(konta)"
   ]
  },
  {
   "cell_type": "code",
   "execution_count": 167,
   "metadata": {},
   "outputs": [
    {
     "name": "stdout",
     "output_type": "stream",
     "text": [
      "['Konto USD', 'Konto Walutowe']\n"
     ]
    }
   ],
   "source": [
    "# Zamień nazwę konta Mobi na konto walutowe\n",
    "#konta[2] = 'Konto Walutowe'\n",
    "konta[konta.index('Mobi')] = \"Konto USD\"\n",
    "print(konta)"
   ]
  },
  {
   "cell_type": "code",
   "execution_count": 164,
   "metadata": {},
   "outputs": [
    {
     "name": "stdout",
     "output_type": "stream",
     "text": [
      "['Mobi', 'Konto Walutowe']\n"
     ]
    }
   ],
   "source": [
    "# Usuń konto Direct z listy\n",
    "while('Direct' in konta):\n",
    "    konta.remove('Direct')\n",
    "print(konta)"
   ]
  },
  {
   "cell_type": "code",
   "execution_count": 165,
   "metadata": {},
   "outputs": [
    {
     "ename": "TypeError",
     "evalue": "can only concatenate list (not \"str\") to list",
     "output_type": "error",
     "traceback": [
      "\u001b[1;31m---------------------------------------------------------------------------\u001b[0m",
      "\u001b[1;31mTypeError\u001b[0m                                 Traceback (most recent call last)",
      "Cell \u001b[1;32mIn[165], line 2\u001b[0m\n\u001b[0;32m      1\u001b[0m \u001b[39m# Dodaj do listy 2 nowe konta: Walutowe_eur, Walutowe_usd\u001b[39;00m\n\u001b[1;32m----> 2\u001b[0m konta \u001b[39m=\u001b[39m konta \u001b[39m+\u001b[39;49m \u001b[39m\"\u001b[39;49m\u001b[39mWalutowe_eur\u001b[39;49m\u001b[39m\"\u001b[39;49m  \u001b[39m+\u001b[39mWalutowe_usd\n\u001b[0;32m      3\u001b[0m \u001b[39mprint\u001b[39m(konta)\n",
      "\u001b[1;31mTypeError\u001b[0m: can only concatenate list (not \"str\") to list"
     ]
    }
   ],
   "source": [
    "# Dodaj do listy 2 nowe konta: Walutowe_eur, Walutowe_usd\n",
    "konta = konta + \"Walutowe_eur\"  + Walutowe_usd\n",
    "print(konta)"
   ]
  },
  {
   "cell_type": "code",
   "execution_count": null,
   "metadata": {},
   "outputs": [],
   "source": [
    "# Usuń wszytskie elementy listy\n",
    "\n",
    "print(konta)"
   ]
  },
  {
   "cell_type": "markdown",
   "metadata": {},
   "source": [
    "#### zmienne jako referencje"
   ]
  },
  {
   "cell_type": "code",
   "execution_count": 181,
   "metadata": {},
   "outputs": [
    {
     "name": "stdout",
     "output_type": "stream",
     "text": [
      "['Mobi', 'Direct', 'OKO']\n",
      "['Mobi', 'Direct', 'OKO']\n"
     ]
    }
   ],
   "source": [
    "# Stwórz listę z nazwami kont dla klienta 1, klienta 2 ma takie same konta.\n",
    "# Przypisz zmmienną klienta 1  do  zmiennej klienta 2.\n",
    "client_1  = ['Mobi', 'Direct', 'OKO']\n",
    "client_2 = client_1\n",
    "print(client_1)\n",
    "print(client_2)\n"
   ]
  },
  {
   "cell_type": "code",
   "execution_count": 182,
   "metadata": {},
   "outputs": [],
   "source": [
    "# Dodaj nazwę konta Direct do listy klienta 1\n",
    "client_1.append('USD1')\n",
    "client_2.append('USD2')"
   ]
  },
  {
   "cell_type": "code",
   "execution_count": 178,
   "metadata": {},
   "outputs": [
    {
     "name": "stdout",
     "output_type": "stream",
     "text": [
      "['Mobi', 'Direct', 'OKO', 'USD', 'USD1']\n",
      "['Mobi', 'Direct', 'OKO', 'USD', 'USD2']\n"
     ]
    }
   ],
   "source": [
    "# Czy zmiany widoczne są w obydwu zmiennych.\n",
    "print(client_1)\n",
    "print(client_2)\n",
    "#dodanie jednego elementu z jednej listy wpłyneło na drugą listę, tak jakby stworzyć nową etykietkę dla tego samego obiektu"
   ]
  },
  {
   "cell_type": "markdown",
   "metadata": {},
   "source": [
    "#### list - klonowanie"
   ]
  },
  {
   "cell_type": "code",
   "execution_count": 185,
   "metadata": {},
   "outputs": [],
   "source": [
    "# Stworzymy listę z nazwami kont dla klienta 1, klienta 2 ma takie same konta.\n",
    "# Sklonuj zmmienną klienta 1  do  zmiennej klienta 2.\n",
    "\n",
    "klient_1  = ['Mobi', 'Direct', 'OKO']\n",
    "klient_2 = klient_1.copy()\n",
    "klient_1.append('USD1')\n",
    "klient_2.append('USD2')\n",
    "\n"
   ]
  },
  {
   "cell_type": "code",
   "execution_count": 186,
   "metadata": {},
   "outputs": [
    {
     "name": "stdout",
     "output_type": "stream",
     "text": [
      "['Mobi', 'Direct', 'OKO', 'USD1']\n",
      "['Mobi', 'Direct', 'OKO', 'USD2']\n"
     ]
    }
   ],
   "source": [
    "# Dodajemy nazwe konta Direct do listy klienta 1\n",
    "print(klient_1)\n",
    "print(klient_2)"
   ]
  },
  {
   "cell_type": "code",
   "execution_count": null,
   "metadata": {},
   "outputs": [],
   "source": [
    "# Czy zmiany widoczne są w obydwu zmiennych."
   ]
  },
  {
   "cell_type": "markdown",
   "metadata": {},
   "source": [
    "#### tuple, list - fragmenty (slicing)"
   ]
  },
  {
   "cell_type": "code",
   "execution_count": null,
   "metadata": {},
   "outputs": [],
   "source": [
    "# Stwórz listę imion klientów\n",
    "lista_klientow = []"
   ]
  },
  {
   "cell_type": "code",
   "execution_count": null,
   "metadata": {},
   "outputs": [],
   "source": [
    "# Wyświetl elementy listy od 2 (wliczjąc 2 element) do 5 (nie wliczając 5 element)"
   ]
  },
  {
   "cell_type": "code",
   "execution_count": null,
   "metadata": {},
   "outputs": [],
   "source": [
    "# Wyświetl elementy listy od 2 (wliczjąc 2 element) do 5 (nie wliczając 5 element), używając ujemnych wartości"
   ]
  },
  {
   "cell_type": "code",
   "execution_count": null,
   "metadata": {},
   "outputs": [],
   "source": [
    "# Wyswietl co 2 element listy, zaczynając od 1 elementu"
   ]
  },
  {
   "cell_type": "code",
   "execution_count": null,
   "metadata": {},
   "outputs": [],
   "source": [
    "# Odwróć kolejność elementów listy"
   ]
  },
  {
   "cell_type": "markdown",
   "metadata": {},
   "source": [
    "#### tuple, list - konwersje, zakresy"
   ]
  },
  {
   "cell_type": "code",
   "execution_count": null,
   "metadata": {},
   "outputs": [],
   "source": [
    "# Stwórz listę na bazie krotki z numerami klientów\n",
    "\n"
   ]
  },
  {
   "cell_type": "code",
   "execution_count": null,
   "metadata": {},
   "outputs": [],
   "source": [
    "# Stwórz krotkę  na bazie listy z numerami klientów"
   ]
  },
  {
   "cell_type": "code",
   "execution_count": null,
   "metadata": {},
   "outputs": [],
   "source": [
    "# Stwórz listę na bazie napisu \"ING\""
   ]
  },
  {
   "cell_type": "code",
   "execution_count": null,
   "metadata": {},
   "outputs": [],
   "source": [
    "# Stwórz krotkę zawierająca pięć pierwszych liczb naturalnych (licząc od zera).\n",
    "\n"
   ]
  },
  {
   "cell_type": "code",
   "execution_count": null,
   "metadata": {},
   "outputs": [],
   "source": [
    "# Stwórz listę pierwszych pięciu liczb naturalnych licząc od jeden."
   ]
  },
  {
   "cell_type": "code",
   "execution_count": null,
   "metadata": {},
   "outputs": [],
   "source": [
    "# Stwórz krotkę zawierająca liczby parzyste zaczynające się od 2"
   ]
  },
  {
   "cell_type": "markdown",
   "metadata": {},
   "source": [
    "#### tuple, list - porządek, sortowanie"
   ]
  },
  {
   "cell_type": "code",
   "execution_count": null,
   "metadata": {},
   "outputs": [],
   "source": [
    "# Sprawdź czy kwoty przełewów, które zawiera lista 1 równe kwotom przełewów w liście 2\n",
    "lista_1 = \n",
    "lista_2 = "
   ]
  },
  {
   "cell_type": "code",
   "execution_count": null,
   "metadata": {},
   "outputs": [],
   "source": [
    "# Sprawdź czy lista 1 większa od listy 2\n",
    "lista_1 = \n",
    "lista_2 = "
   ]
  },
  {
   "cell_type": "code",
   "execution_count": null,
   "metadata": {},
   "outputs": [],
   "source": [
    "# Posortuj krotkę listę imion klientów\n",
    "lista_imion =  (\"Ryszard\", \"Robert\", \"Andrzej\", \"Krzysztof\", \"Paweł\")"
   ]
  },
  {
   "cell_type": "markdown",
   "metadata": {},
   "source": [
    "#### tuple, list - rozpakowywanie"
   ]
  },
  {
   "cell_type": "code",
   "execution_count": null,
   "metadata": {},
   "outputs": [],
   "source": [
    "# Przypisz do zmiennych client1, client2, inni imiona z listy lista_imion"
   ]
  },
  {
   "cell_type": "markdown",
   "metadata": {},
   "source": [
    "#### set - tworzenie"
   ]
  },
  {
   "cell_type": "code",
   "execution_count": null,
   "metadata": {},
   "outputs": [],
   "source": [
    "# Utwórz zbiór, który zawiera tylko unikalne numery rachunków klienta\n",
    "nr_rachunku = {'1233', '2345', '4567', '2345'}"
   ]
  },
  {
   "cell_type": "markdown",
   "metadata": {},
   "source": [
    "#### set - algebra zbiorów"
   ]
  },
  {
   "cell_type": "code",
   "execution_count": 191,
   "metadata": {},
   "outputs": [
    {
     "data": {
      "text/plain": [
       "True"
      ]
     },
     "execution_count": 191,
     "metadata": {},
     "output_type": "execute_result"
    }
   ],
   "source": [
    "# Sprawdź czy wszystkie elementy zbioru numerów rachunku 1 klienta\n",
    "# zawierają się w  zbiorze numerów rachunku 2 klienta\n",
    "client_1 = {'1233', '2345', '4567', '2345'}\n",
    "client_2 = {'1233', '4567', '2345'}\n",
    "client_2.issubset(client_1)\n",
    "client_1 == client_2"
   ]
  },
  {
   "cell_type": "code",
   "execution_count": 193,
   "metadata": {},
   "outputs": [
    {
     "data": {
      "text/plain": [
       "{'1233', '2345', '4567'}"
      ]
     },
     "execution_count": 193,
     "metadata": {},
     "output_type": "execute_result"
    }
   ],
   "source": [
    "# Sprawdź czy wszystkie elementy zbioru numerów rachunku 2 klienta\n",
    "# zawierają się w  zbiorze numerów rachunku 1 klienta\n",
    "client_1 = {'1233', '2345', '4567', '2345'}\n",
    "client_2 = {'1233', '4567', '2345'}\n",
    "client_1 == client_2\n"
   ]
  },
  {
   "cell_type": "code",
   "execution_count": 194,
   "metadata": {},
   "outputs": [
    {
     "data": {
      "text/plain": [
       "{'1233', '2345', '4567'}"
      ]
     },
     "execution_count": 194,
     "metadata": {},
     "output_type": "execute_result"
    }
   ],
   "source": [
    "# Sprawdź czy zbiory są rozłączne\n",
    "client_1.intersection(client_2)"
   ]
  },
  {
   "cell_type": "markdown",
   "metadata": {},
   "source": [
    "#### set - modyfikacja"
   ]
  },
  {
   "cell_type": "code",
   "execution_count": 195,
   "metadata": {},
   "outputs": [
    {
     "name": "stdout",
     "output_type": "stream",
     "text": [
      "{'1233', '4567', '6789', '2345'}\n"
     ]
    }
   ],
   "source": [
    "# Zmodyfikuj zbiór numerów rachunku 1 klienta, dodając do niego nr rachunku '6789'\n",
    "client_1.add('6789')\n",
    "print(client_1)"
   ]
  },
  {
   "cell_type": "code",
   "execution_count": 196,
   "metadata": {},
   "outputs": [
    {
     "name": "stdout",
     "output_type": "stream",
     "text": [
      "{'1233', '4567', '2345'}\n"
     ]
    }
   ],
   "source": [
    "# Usuń ze zbioru numerów rachunku 1 klienta, nr rachunku: 2345\n",
    "client_1.remove('6789')\n",
    "print(client_1)"
   ]
  },
  {
   "cell_type": "code",
   "execution_count": 197,
   "metadata": {},
   "outputs": [
    {
     "data": {
      "text/plain": [
       "set()"
      ]
     },
     "execution_count": 197,
     "metadata": {},
     "output_type": "execute_result"
    }
   ],
   "source": [
    "# Usuń wszystkie elementy ze zbioru numerów rachunku 1 klienta\n",
    "client_1.clear()\n",
    "client_1"
   ]
  },
  {
   "cell_type": "markdown",
   "metadata": {},
   "source": [
    "#### set - elementy hashowalne"
   ]
  },
  {
   "cell_type": "code",
   "execution_count": 198,
   "metadata": {},
   "outputs": [
    {
     "ename": "TypeError",
     "evalue": "unhashable type: 'list'",
     "output_type": "error",
     "traceback": [
      "\u001b[1;31m---------------------------------------------------------------------------\u001b[0m",
      "\u001b[1;31mTypeError\u001b[0m                                 Traceback (most recent call last)",
      "Cell \u001b[1;32mIn[198], line 2\u001b[0m\n\u001b[0;32m      1\u001b[0m set_with_list \u001b[39m=\u001b[39m \u001b[39mset\u001b[39m()\n\u001b[1;32m----> 2\u001b[0m set_with_list\u001b[39m.\u001b[39;49madd([\u001b[39m1\u001b[39;49m, \u001b[39m2\u001b[39;49m, \u001b[39m3\u001b[39;49m])\n",
      "\u001b[1;31mTypeError\u001b[0m: unhashable type: 'list'"
     ]
    }
   ],
   "source": [
    "set_with_list = set()\n",
    "set_with_list.add([1, 2, 3])"
   ]
  },
  {
   "cell_type": "code",
   "execution_count": 200,
   "metadata": {},
   "outputs": [
    {
     "data": {
      "text/plain": [
       "{(1, 2, 3), 1, 2.3, 3, 'Some text'}"
      ]
     },
     "execution_count": 200,
     "metadata": {},
     "output_type": "execute_result"
    }
   ],
   "source": [
    "mix_set = { 1, 3, True, \"Some text\", 2.3, (1, 2, 3)}\n",
    "mix_set"
   ]
  },
  {
   "cell_type": "markdown",
   "metadata": {},
   "source": [
    "# Słowniki\n",
    "\n",
    "### Tworzenie słownika\n",
    "0. `{}`\n",
    "0. `dict()`\n",
    "\n",
    "### Funkcje\n",
    "0. `enumerate`\n",
    "0. `zip`"
   ]
  },
  {
   "cell_type": "code",
   "execution_count": 202,
   "metadata": {},
   "outputs": [
    {
     "data": {
      "text/plain": [
       "91"
      ]
     },
     "execution_count": 202,
     "metadata": {},
     "output_type": "execute_result"
    }
   ],
   "source": [
    "# Kartoteka klienta jako słownik\n",
    "first_name = \"Jan\"\n",
    "last_name = \"Ingowski\"\n",
    "age = 34\n",
    "magic_number = 91\n",
    "accounts_balance = 5_345.87\n",
    "\n",
    "customer_1234567890 = {'first_name' : \"Jan\", \n",
    "                       'last_name' : \"Ingowski\", \n",
    "                       'age' : 34, \n",
    "                       'magic_number' : 91, \n",
    "                       'account_number': 5_345.87}\n",
    "\n",
    "customer_1234567890['magic_number']\n",
    "\n"
   ]
  },
  {
   "cell_type": "code",
   "execution_count": null,
   "metadata": {},
   "outputs": [],
   "source": [
    "# Zebranie wielu kartotek do słownika\n",
    "first_name = \"Jan\"\n",
    "last_name = \"Ingowski\"\n",
    "age = 34\n",
    "magic_number = 91\n",
    "accounts_balance = 5_345.87\n",
    "\n",
    "customer_1234567890 = ...\n",
    "\n",
    "first_name = \"Anna\"\n",
    "last_name = \"Ingowska\"\n",
    "age = 32\n",
    "magic_number = 98\n",
    "accounts_balance = 6_375.89\n",
    "\n",
    "customer_1234567891 = ...\n",
    "\n",
    "customers = ...\n",
    "\n",
    "customers"
   ]
  },
  {
   "cell_type": "markdown",
   "metadata": {},
   "source": [
    "#### zagnieżdżone sekwencje"
   ]
  },
  {
   "cell_type": "code",
   "execution_count": null,
   "metadata": {},
   "outputs": [],
   "source": [
    "# Stwórz listę, której elementami są 2 poniższe listy:\n",
    "list_a=[1,2,3]\n",
    "list_b=[4,5,6]\n",
    "\n",
    "list_nested=\n",
    "\n",
    "# wypisz na ekran listę list_b odnosząc się do niej z użyciem list_nested (użyj indeksu)\n",
    "# wypisz na ekran element o indeksie 2 z listy o indeksie 1 (6)"
   ]
  },
  {
   "cell_type": "code",
   "execution_count": 203,
   "metadata": {},
   "outputs": [
    {
     "data": {
      "text/plain": [
       "True"
      ]
     },
     "execution_count": 203,
     "metadata": {},
     "output_type": "execute_result"
    }
   ],
   "source": [
    "# stwórz krotkę (tuple), która zawiera kolejno: listę [1,2,3], słownik {\"ala\":\"ma kota\"}, set {1,2,3,4}\n",
    "krotka=([1,2,3], {\"ala\":\"ma kota\"}, {1,2,3,4})\n",
    "# zwróć z tej krotki:\n",
    "# sam słownik\n",
    "# stringa \"ma kota\"\n",
    "1 in krotka[0]\n"
   ]
  },
  {
   "cell_type": "markdown",
   "metadata": {},
   "source": [
    "Zagnieżdżać można wiele typów w sobie nawzajem. Przykładowo lista może zawierać słowniki, które to zawierają tuple (krotki).\n",
    "Pewnie zastanawiacie się do czego tak skomplikowane struktury mogą byc przydatne. Spójrz na naszą kartotekę:\n",
    "każdy klient, oprócz danych osobowych ma jeden lub więcej rachunków, a rachunek ma saldo i numer. Klientów jest wielu, więc możemy ich przechować np. w formie listy."
   ]
  },
  {
   "cell_type": "code",
   "execution_count": null,
   "metadata": {},
   "outputs": [],
   "source": [
    "# Zaprojektuj zagnieżdżoną strukturę do przechowywania takich kartotek i zapisz do niej 3 klientów. \n",
    "# Niech każdy klient ma po 2 rachunki.\n",
    "\n",
    "# Wypisz na ekran imiona klientów\n",
    "# Wypisz wszystkie numery rachunków klienta o indeksie 1\n",
    "# Wypisz wszystkie salda wszystkich klientów"
   ]
  }
 ],
 "metadata": {
  "kernelspec": {
   "display_name": "Python 3",
   "language": "python",
   "name": "python3"
  },
  "language_info": {
   "codemirror_mode": {
    "name": "ipython",
    "version": 3
   },
   "file_extension": ".py",
   "mimetype": "text/x-python",
   "name": "python",
   "nbconvert_exporter": "python",
   "pygments_lexer": "ipython3",
   "version": "3.11.2"
  }
 },
 "nbformat": 4,
 "nbformat_minor": 4
}
